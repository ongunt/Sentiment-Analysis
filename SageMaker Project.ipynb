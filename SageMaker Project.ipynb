{
 "cells": [
  {
   "cell_type": "markdown",
   "metadata": {},
   "source": [
    "# Creating a Sentiment Analysis Web App\n",
    "## Using PyTorch and SageMaker\n",
    "\n",
    "_Deep Learning Nanodegree Program | Deployment_\n",
    "\n",
    "---\n",
    "\n",
    "Now that we have a basic understanding of how SageMaker works we will try to use it to construct a complete project from end to end. Our goal will be to have a simple web page which a user can use to enter a movie review. The web page will then send the review off to our deployed model which will predict the sentiment of the entered review.\n",
    "\n",
    "## Instructions\n",
    "\n",
    "Some template code has already been provided for you, and you will need to implement additional functionality to successfully complete this notebook. You will not need to modify the included code beyond what is requested. Sections that begin with '**TODO**' in the header indicate that you need to complete or implement some portion within them. Instructions will be provided for each section and the specifics of the implementation are marked in the code block with a `# TODO: ...` comment. Please be sure to read the instructions carefully!\n",
    "\n",
    "In addition to implementing code, there will be questions for you to answer which relate to the task and your implementation. Each section where you will answer a question is preceded by a '**Question:**' header. Carefully read each question and provide your answer below the '**Answer:**' header by editing the Markdown cell.\n",
    "\n",
    "> **Note**: Code and Markdown cells can be executed using the **Shift+Enter** keyboard shortcut. In addition, a cell can be edited by typically clicking it (double-click for Markdown cells) or by pressing **Enter** while it is highlighted.\n",
    "\n",
    "## General Outline\n",
    "\n",
    "Recall the general outline for SageMaker projects using a notebook instance.\n",
    "\n",
    "1. Download or otherwise retrieve the data.\n",
    "2. Process / Prepare the data.\n",
    "3. Upload the processed data to S3.\n",
    "4. Train a chosen model.\n",
    "5. Test the trained model (typically using a batch transform job).\n",
    "6. Deploy the trained model.\n",
    "7. Use the deployed model.\n",
    "\n",
    "For this project, you will be following the steps in the general outline with some modifications. \n",
    "\n",
    "First, you will not be testing the model in its own step. You will still be testing the model, however, you will do it by deploying your model and then using the deployed model by sending the test data to it. One of the reasons for doing this is so that you can make sure that your deployed model is working correctly before moving forward.\n",
    "\n",
    "In addition, you will deploy and use your trained model a second time. In the second iteration you will customize the way that your trained model is deployed by including some of your own code. In addition, your newly deployed model will be used in the sentiment analysis web app."
   ]
  },
  {
   "cell_type": "markdown",
   "metadata": {},
   "source": [
    "## Step 1: Downloading the data\n",
    "\n",
    "As in the XGBoost in SageMaker notebook, we will be using the [IMDb dataset](http://ai.stanford.edu/~amaas/data/sentiment/)\n",
    "\n",
    "> Maas, Andrew L., et al. [Learning Word Vectors for Sentiment Analysis](http://ai.stanford.edu/~amaas/data/sentiment/). In _Proceedings of the 49th Annual Meeting of the Association for Computational Linguistics: Human Language Technologies_. Association for Computational Linguistics, 2011."
   ]
  },
  {
   "cell_type": "code",
   "execution_count": 2,
   "metadata": {},
   "outputs": [
    {
     "name": "stdout",
     "output_type": "stream",
     "text": [
      "mkdir: cannot create directory ‘../data’: File exists\n",
      "--2020-04-16 02:21:07--  http://ai.stanford.edu/~amaas/data/sentiment/aclImdb_v1.tar.gz\n",
      "Resolving ai.stanford.edu (ai.stanford.edu)... 171.64.68.10\n",
      "Connecting to ai.stanford.edu (ai.stanford.edu)|171.64.68.10|:80... connected.\n",
      "HTTP request sent, awaiting response... 200 OK\n",
      "Length: 84125825 (80M) [application/x-gzip]\n",
      "Saving to: ‘../data/aclImdb_v1.tar.gz’\n",
      "\n",
      "../data/aclImdb_v1. 100%[===================>]  80.23M  9.89MB/s    in 11s     \n",
      "\n",
      "2020-04-16 02:21:19 (7.00 MB/s) - ‘../data/aclImdb_v1.tar.gz’ saved [84125825/84125825]\n",
      "\n"
     ]
    }
   ],
   "source": [
    "%mkdir ../data\n",
    "!wget -O ../data/aclImdb_v1.tar.gz http://ai.stanford.edu/~amaas/data/sentiment/aclImdb_v1.tar.gz\n",
    "!tar -zxf ../data/aclImdb_v1.tar.gz -C ../data"
   ]
  },
  {
   "cell_type": "markdown",
   "metadata": {},
   "source": [
    "## Step 2: Preparing and Processing the data\n",
    "\n",
    "Also, as in the XGBoost notebook, we will be doing some initial data processing. The first few steps are the same as in the XGBoost example. To begin with, we will read in each of the reviews and combine them into a single input structure. Then, we will split the dataset into a training set and a testing set."
   ]
  },
  {
   "cell_type": "code",
   "execution_count": 3,
   "metadata": {},
   "outputs": [],
   "source": [
    "import os\n",
    "import glob\n",
    "\n",
    "def read_imdb_data(data_dir='../data/aclImdb'):\n",
    "    data = {}\n",
    "    labels = {}\n",
    "    \n",
    "    for data_type in ['train', 'test']:\n",
    "        data[data_type] = {}\n",
    "        labels[data_type] = {}\n",
    "        \n",
    "        for sentiment in ['pos', 'neg']:\n",
    "            data[data_type][sentiment] = []\n",
    "            labels[data_type][sentiment] = []\n",
    "            \n",
    "            path = os.path.join(data_dir, data_type, sentiment, '*.txt')\n",
    "            files = glob.glob(path)\n",
    "            \n",
    "            for f in files:\n",
    "                with open(f) as review:\n",
    "                    data[data_type][sentiment].append(review.read())\n",
    "                    # Here we represent a positive review by '1' and a negative review by '0'\n",
    "                    labels[data_type][sentiment].append(1 if sentiment == 'pos' else 0)\n",
    "                    \n",
    "            assert len(data[data_type][sentiment]) == len(labels[data_type][sentiment]), \\\n",
    "                    \"{}/{} data size does not match labels size\".format(data_type, sentiment)\n",
    "                \n",
    "    return data, labels"
   ]
  },
  {
   "cell_type": "code",
   "execution_count": 4,
   "metadata": {},
   "outputs": [
    {
     "name": "stdout",
     "output_type": "stream",
     "text": [
      "IMDB reviews: train = 12500 pos / 12500 neg, test = 12500 pos / 12500 neg\n"
     ]
    }
   ],
   "source": [
    "data, labels = read_imdb_data()\n",
    "print(\"IMDB reviews: train = {} pos / {} neg, test = {} pos / {} neg\".format(\n",
    "            len(data['train']['pos']), len(data['train']['neg']),\n",
    "            len(data['test']['pos']), len(data['test']['neg'])))"
   ]
  },
  {
   "cell_type": "markdown",
   "metadata": {},
   "source": [
    "Now that we've read the raw training and testing data from the downloaded dataset, we will combine the positive and negative reviews and shuffle the resulting records."
   ]
  },
  {
   "cell_type": "code",
   "execution_count": 5,
   "metadata": {},
   "outputs": [],
   "source": [
    "from sklearn.utils import shuffle\n",
    "\n",
    "def prepare_imdb_data(data, labels):\n",
    "    \"\"\"Prepare training and test sets from IMDb movie reviews.\"\"\"\n",
    "    \n",
    "    #Combine positive and negative reviews and labels\n",
    "    data_train = data['train']['pos'] + data['train']['neg']\n",
    "    data_test = data['test']['pos'] + data['test']['neg']\n",
    "    labels_train = labels['train']['pos'] + labels['train']['neg']\n",
    "    labels_test = labels['test']['pos'] + labels['test']['neg']\n",
    "    \n",
    "    #Shuffle reviews and corresponding labels within training and test sets\n",
    "    data_train, labels_train = shuffle(data_train, labels_train)\n",
    "    data_test, labels_test = shuffle(data_test, labels_test)\n",
    "    \n",
    "    # Return a unified training data, test data, training labels, test labets\n",
    "    return data_train, data_test, labels_train, labels_test"
   ]
  },
  {
   "cell_type": "code",
   "execution_count": 6,
   "metadata": {},
   "outputs": [
    {
     "name": "stdout",
     "output_type": "stream",
     "text": [
      "IMDb reviews (combined): train = 25000, test = 25000\n"
     ]
    }
   ],
   "source": [
    "train_X, test_X, train_y, test_y = prepare_imdb_data(data, labels)\n",
    "print(\"IMDb reviews (combined): train = {}, test = {}\".format(len(train_X), len(test_X)))"
   ]
  },
  {
   "cell_type": "markdown",
   "metadata": {},
   "source": [
    "Now that we have our training and testing sets unified and prepared, we should do a quick check and see an example of the data our model will be trained on. This is generally a good idea as it allows you to see how each of the further processing steps affects the reviews and it also ensures that the data has been loaded correctly."
   ]
  },
  {
   "cell_type": "code",
   "execution_count": 7,
   "metadata": {},
   "outputs": [
    {
     "name": "stdout",
     "output_type": "stream",
     "text": [
      "After some difficulty, Johnny Yuma arrives at his ailing uncle's ranch to take over day to day operations, only to find out that the old man has been murdered by his beautiful gold-digger wife and the woman's vicious brother.<br /><br />Good production values, a likable performance by Mark Damon, and a breezy action packed script combine to make this an entertaining, if not exceptionally deep, above average addition to the spaghetti western genre.<br /><br />Co-star Rosalba Neri is one of the hottest European babes ever to grace the screen. Here she's absolutely perfect as the cold-hearted user (and abuser) of weak men.<br /><br />Damon and Neri appeared together in at least one other picture, The Devil's Wedding Night, a pretty good horror movie that's of particular interest for those of you that want to see what's underneath Rosalba's dresses.\n",
      "1\n"
     ]
    }
   ],
   "source": [
    "print(train_X[100])\n",
    "print(train_y[100])"
   ]
  },
  {
   "cell_type": "markdown",
   "metadata": {},
   "source": [
    "The first step in processing the reviews is to make sure that any html tags that appear should be removed. In addition we wish to tokenize our input, that way words such as *entertained* and *entertaining* are considered the same with regard to sentiment analysis."
   ]
  },
  {
   "cell_type": "code",
   "execution_count": 8,
   "metadata": {},
   "outputs": [],
   "source": [
    "import nltk\n",
    "from nltk.corpus import stopwords\n",
    "from nltk.stem.porter import *\n",
    "\n",
    "import re\n",
    "from bs4 import BeautifulSoup\n",
    "\n",
    "def review_to_words(review):\n",
    "    nltk.download(\"stopwords\", quiet=True)\n",
    "    stemmer = PorterStemmer()\n",
    "    \n",
    "    text = BeautifulSoup(review, \"html.parser\").get_text() # Remove HTML tags\n",
    "    text = re.sub(r\"[^a-zA-Z0-9]\", \" \", text.lower()) # Convert to lower case\n",
    "    words = text.split() # Split string into words\n",
    "    words = [w for w in words if w not in stopwords.words(\"english\")] # Remove stopwords\n",
    "    words = [PorterStemmer().stem(w) for w in words] # stem\n",
    "    \n",
    "    return words"
   ]
  },
  {
   "cell_type": "markdown",
   "metadata": {},
   "source": [
    "The `review_to_words` method defined above uses `BeautifulSoup` to remove any html tags that appear and uses the `nltk` package to tokenize the reviews. As a check to ensure we know how everything is working, try applying `review_to_words` to one of the reviews in the training set."
   ]
  },
  {
   "cell_type": "code",
   "execution_count": 9,
   "metadata": {},
   "outputs": [
    {
     "data": {
      "text/plain": [
       "['difficulti',\n",
       " 'johnni',\n",
       " 'yuma',\n",
       " 'arriv',\n",
       " 'ail',\n",
       " 'uncl',\n",
       " 'ranch',\n",
       " 'take',\n",
       " 'day',\n",
       " 'day',\n",
       " 'oper',\n",
       " 'find',\n",
       " 'old',\n",
       " 'man',\n",
       " 'murder',\n",
       " 'beauti',\n",
       " 'gold',\n",
       " 'digger',\n",
       " 'wife',\n",
       " 'woman',\n",
       " 'viciou',\n",
       " 'brother',\n",
       " 'good',\n",
       " 'product',\n",
       " 'valu',\n",
       " 'likabl',\n",
       " 'perform',\n",
       " 'mark',\n",
       " 'damon',\n",
       " 'breezi',\n",
       " 'action',\n",
       " 'pack',\n",
       " 'script',\n",
       " 'combin',\n",
       " 'make',\n",
       " 'entertain',\n",
       " 'except',\n",
       " 'deep',\n",
       " 'averag',\n",
       " 'addit',\n",
       " 'spaghetti',\n",
       " 'western',\n",
       " 'genr',\n",
       " 'co',\n",
       " 'star',\n",
       " 'rosalba',\n",
       " 'neri',\n",
       " 'one',\n",
       " 'hottest',\n",
       " 'european',\n",
       " 'babe',\n",
       " 'ever',\n",
       " 'grace',\n",
       " 'screen',\n",
       " 'absolut',\n",
       " 'perfect',\n",
       " 'cold',\n",
       " 'heart',\n",
       " 'user',\n",
       " 'abus',\n",
       " 'weak',\n",
       " 'men',\n",
       " 'damon',\n",
       " 'neri',\n",
       " 'appear',\n",
       " 'togeth',\n",
       " 'least',\n",
       " 'one',\n",
       " 'pictur',\n",
       " 'devil',\n",
       " 'wed',\n",
       " 'night',\n",
       " 'pretti',\n",
       " 'good',\n",
       " 'horror',\n",
       " 'movi',\n",
       " 'particular',\n",
       " 'interest',\n",
       " 'want',\n",
       " 'see',\n",
       " 'underneath',\n",
       " 'rosalba',\n",
       " 'dress']"
      ]
     },
     "execution_count": 9,
     "metadata": {},
     "output_type": "execute_result"
    }
   ],
   "source": [
    "# TODO: Apply review_to_words to a review (train_X[100] or any other review)\n",
    "review_to_words(train_X[100])"
   ]
  },
  {
   "cell_type": "markdown",
   "metadata": {},
   "source": [
    "**Question:** Above we mentioned that `review_to_words` method removes html formatting and allows us to tokenize the words found in a review, for example, converting *entertained* and *entertaining* into *entertain* so that they are treated as though they are the same word. What else, if anything, does this method do to the input?"
   ]
  },
  {
   "cell_type": "markdown",
   "metadata": {},
   "source": [
    "**Answer:**review_to_words removes HTML tags and stopwords and converts the letters into lowercase."
   ]
  },
  {
   "cell_type": "markdown",
   "metadata": {},
   "source": [
    "The method below applies the `review_to_words` method to each of the reviews in the training and testing datasets. In addition it caches the results. This is because performing this processing step can take a long time. This way if you are unable to complete the notebook in the current session, you can come back without needing to process the data a second time."
   ]
  },
  {
   "cell_type": "code",
   "execution_count": 10,
   "metadata": {},
   "outputs": [],
   "source": [
    "import pickle\n",
    "\n",
    "cache_dir = os.path.join(\"../cache\", \"sentiment_analysis\")  # where to store cache files\n",
    "os.makedirs(cache_dir, exist_ok=True)  # ensure cache directory exists\n",
    "\n",
    "def preprocess_data(data_train, data_test, labels_train, labels_test,\n",
    "                    cache_dir=cache_dir, cache_file=\"preprocessed_data.pkl\"):\n",
    "    \"\"\"Convert each review to words; read from cache if available.\"\"\"\n",
    "\n",
    "    # If cache_file is not None, try to read from it first\n",
    "    cache_data = None\n",
    "    if cache_file is not None:\n",
    "        try:\n",
    "            with open(os.path.join(cache_dir, cache_file), \"rb\") as f:\n",
    "                cache_data = pickle.load(f)\n",
    "            print(\"Read preprocessed data from cache file:\", cache_file)\n",
    "        except:\n",
    "            pass  # unable to read from cache, but that's okay\n",
    "    \n",
    "    # If cache is missing, then do the heavy lifting\n",
    "    if cache_data is None:\n",
    "        # Preprocess training and test data to obtain words for each review\n",
    "        #words_train = list(map(review_to_words, data_train))\n",
    "        #words_test = list(map(review_to_words, data_test))\n",
    "        words_train = [review_to_words(review) for review in data_train]\n",
    "        words_test = [review_to_words(review) for review in data_test]\n",
    "        \n",
    "        # Write to cache file for future runs\n",
    "        if cache_file is not None:\n",
    "            cache_data = dict(words_train=words_train, words_test=words_test,\n",
    "                              labels_train=labels_train, labels_test=labels_test)\n",
    "            with open(os.path.join(cache_dir, cache_file), \"wb\") as f:\n",
    "                pickle.dump(cache_data, f)\n",
    "            print(\"Wrote preprocessed data to cache file:\", cache_file)\n",
    "    else:\n",
    "        # Unpack data loaded from cache file\n",
    "        words_train, words_test, labels_train, labels_test = (cache_data['words_train'],\n",
    "                cache_data['words_test'], cache_data['labels_train'], cache_data['labels_test'])\n",
    "    \n",
    "    return words_train, words_test, labels_train, labels_test"
   ]
  },
  {
   "cell_type": "code",
   "execution_count": 11,
   "metadata": {},
   "outputs": [
    {
     "name": "stdout",
     "output_type": "stream",
     "text": [
      "Read preprocessed data from cache file: preprocessed_data.pkl\n"
     ]
    }
   ],
   "source": [
    "# Preprocess data\n",
    "train_X, test_X, train_y, test_y = preprocess_data(train_X, test_X, train_y, test_y)"
   ]
  },
  {
   "cell_type": "markdown",
   "metadata": {},
   "source": [
    "## Transform the data\n",
    "\n",
    "In the XGBoost notebook we transformed the data from its word representation to a bag-of-words feature representation. For the model we are going to construct in this notebook we will construct a feature representation which is very similar. To start, we will represent each word as an integer. Of course, some of the words that appear in the reviews occur very infrequently and so likely don't contain much information for the purposes of sentiment analysis. The way we will deal with this problem is that we will fix the size of our working vocabulary and we will only include the words that appear most frequently. We will then combine all of the infrequent words into a single category and, in our case, we will label it as `1`.\n",
    "\n",
    "Since we will be using a recurrent neural network, it will be convenient if the length of each review is the same. To do this, we will fix a size for our reviews and then pad short reviews with the category 'no word' (which we will label `0`) and truncate long reviews."
   ]
  },
  {
   "cell_type": "markdown",
   "metadata": {},
   "source": [
    "### (TODO) Create a word dictionary\n",
    "\n",
    "To begin with, we need to construct a way to map words that appear in the reviews to integers. Here we fix the size of our vocabulary (including the 'no word' and 'infrequent' categories) to be `5000` but you may wish to change this to see how it affects the model.\n",
    "\n",
    "> **TODO:** Complete the implementation for the `build_dict()` method below. Note that even though the vocab_size is set to `5000`, we only want to construct a mapping for the most frequently appearing `4998` words. This is because we want to reserve the special labels `0` for 'no word' and `1` for 'infrequent word'."
   ]
  },
  {
   "cell_type": "code",
   "execution_count": 12,
   "metadata": {},
   "outputs": [],
   "source": [
    "import numpy as np\n",
    "\n",
    "def build_dict(data, vocab_size = 5000):\n",
    "    \"\"\"Construct and return a dictionary mapping each of the most frequently appearing words to a unique integer.\"\"\"\n",
    "    \n",
    "    # TODO: Determine how often each word appears in `data`. Note that `data` is a list of sentences and that a\n",
    "    #       sentence is a list of words.\n",
    "    \n",
    "    word_count = {} # A dict storing the words that appear in the reviews along with how often they occur\n",
    "    for review in data:\n",
    "        for  word in review:\n",
    "            if word in word_count:\n",
    "                word_count[word] += 1\n",
    "            else: \n",
    "                word_count[word] = 1\n",
    "    # TODO: Sort the words found in `data` so that sorted_words[0] is the most frequently appearing word and\n",
    "    #       sorted_words[-1] is the least frequently appearing word.\n",
    "    \n",
    "    sorted_words = sorted(word_count, key=word_count.get, reverse=True)\n",
    "   \n",
    "    word_dict = {} # This is what we are building, a dictionary that translates words into integers\n",
    "    for idx, word in enumerate(sorted_words[:vocab_size - 2]): # The -2 is so that we save room for the 'no word'\n",
    "        word_dict[word] = idx + 2                              # 'infrequent' labels\n",
    "        \n",
    "    return word_dict"
   ]
  },
  {
   "cell_type": "code",
   "execution_count": 13,
   "metadata": {},
   "outputs": [
    {
     "name": "stdout",
     "output_type": "stream",
     "text": [
      "{'movi': 2, 'film': 3, 'one': 4, 'like': 5, 'time': 6, 'good': 7, 'make': 8, 'charact': 9, 'get': 10, 'see': 11, 'watch': 12, 'stori': 13, 'even': 14, 'would': 15, 'realli': 16, 'well': 17, 'scene': 18, 'look': 19, 'show': 20, 'much': 21, 'end': 22, 'peopl': 23, 'bad': 24, 'go': 25, 'great': 26, 'also': 27, 'first': 28, 'love': 29, 'think': 30, 'way': 31, 'act': 32, 'play': 33, 'made': 34, 'thing': 35, 'could': 36, 'know': 37, 'say': 38, 'seem': 39, 'work': 40, 'plot': 41, 'two': 42, 'actor': 43, 'year': 44, 'come': 45, 'mani': 46, 'seen': 47, 'take': 48, 'want': 49, 'life': 50, 'never': 51, 'littl': 52, 'best': 53, 'tri': 54, 'man': 55, 'ever': 56, 'give': 57, 'better': 58, 'still': 59, 'perform': 60, 'find': 61, 'feel': 62, 'part': 63, 'back': 64, 'use': 65, 'someth': 66, 'director': 67, 'actual': 68, 'interest': 69, 'lot': 70, 'real': 71, 'old': 72, 'cast': 73, 'though': 74, 'live': 75, 'star': 76, 'enjoy': 77, 'guy': 78, 'anoth': 79, 'new': 80, 'role': 81, 'noth': 82, '10': 83, 'funni': 84, 'music': 85, 'point': 86, 'start': 87, 'set': 88, 'girl': 89, 'origin': 90, 'day': 91, 'world': 92, 'everi': 93, 'believ': 94, 'turn': 95, 'quit': 96, 'us': 97, 'direct': 98, 'thought': 99, 'fact': 100, 'minut': 101, 'horror': 102, 'kill': 103, 'action': 104, 'comedi': 105, 'pretti': 106, 'young': 107, 'wonder': 108, 'happen': 109, 'around': 110, 'got': 111, 'effect': 112, 'right': 113, 'long': 114, 'howev': 115, 'big': 116, 'line': 117, 'famili': 118, 'enough': 119, 'seri': 120, 'may': 121, 'need': 122, 'fan': 123, 'bit': 124, 'script': 125, 'beauti': 126, 'person': 127, 'becom': 128, 'without': 129, 'must': 130, 'alway': 131, 'friend': 132, 'tell': 133, 'reason': 134, 'saw': 135, 'last': 136, 'final': 137, 'kid': 138, 'almost': 139, 'put': 140, 'least': 141, 'sure': 142, 'done': 143, 'whole': 144, 'place': 145, 'complet': 146, 'kind': 147, 'expect': 148, 'differ': 149, 'shot': 150, 'far': 151, 'mean': 152, 'anyth': 153, 'book': 154, 'laugh': 155, 'might': 156, 'name': 157, 'sinc': 158, 'begin': 159, '2': 160, 'probabl': 161, 'woman': 162, 'help': 163, 'entertain': 164, 'let': 165, 'screen': 166, 'call': 167, 'tv': 168, 'moment': 169, 'away': 170, 'read': 171, 'yet': 172, 'rather': 173, 'worst': 174, 'run': 175, 'fun': 176, 'lead': 177, 'hard': 178, 'audienc': 179, 'idea': 180, 'anyon': 181, 'episod': 182, 'american': 183, 'found': 184, 'appear': 185, 'bore': 186, 'especi': 187, 'although': 188, 'hope': 189, 'keep': 190, 'cours': 191, 'anim': 192, 'job': 193, 'goe': 194, 'move': 195, 'sens': 196, 'dvd': 197, 'version': 198, 'war': 199, 'money': 200, 'someon': 201, 'mind': 202, 'mayb': 203, 'problem': 204, 'true': 205, 'hous': 206, 'everyth': 207, 'nice': 208, 'second': 209, 'rate': 210, 'three': 211, 'night': 212, 'face': 213, 'follow': 214, 'recommend': 215, 'product': 216, 'main': 217, 'worth': 218, 'leav': 219, 'human': 220, 'special': 221, 'excel': 222, 'togeth': 223, 'wast': 224, 'sound': 225, 'everyon': 226, 'john': 227, 'hand': 228, '1': 229, 'father': 230, 'later': 231, 'eye': 232, 'said': 233, 'view': 234, 'instead': 235, 'review': 236, 'boy': 237, 'high': 238, 'hour': 239, 'miss': 240, 'classic': 241, 'talk': 242, 'wife': 243, 'understand': 244, 'left': 245, 'care': 246, 'black': 247, 'death': 248, 'open': 249, 'murder': 250, 'write': 251, 'half': 252, 'head': 253, 'rememb': 254, 'chang': 255, 'viewer': 256, 'fight': 257, 'gener': 258, 'surpris': 259, 'includ': 260, 'short': 261, 'die': 262, 'fall': 263, 'less': 264, 'els': 265, 'entir': 266, 'piec': 267, 'involv': 268, 'pictur': 269, 'simpli': 270, 'power': 271, 'top': 272, 'home': 273, 'total': 274, 'usual': 275, 'budget': 276, 'attempt': 277, 'suppos': 278, 'releas': 279, 'hollywood': 280, 'terribl': 281, 'song': 282, 'men': 283, 'possibl': 284, 'featur': 285, 'portray': 286, 'disappoint': 287, 'poor': 288, '3': 289, 'coupl': 290, 'stupid': 291, 'camera': 292, 'dead': 293, 'wrong': 294, 'low': 295, 'produc': 296, 'video': 297, 'either': 298, 'aw': 299, 'definit': 300, 'except': 301, 'rest': 302, 'given': 303, 'absolut': 304, 'women': 305, 'lack': 306, 'word': 307, 'writer': 308, 'titl': 309, 'talent': 310, 'decid': 311, 'full': 312, 'perfect': 313, 'along': 314, 'style': 315, 'close': 316, 'truli': 317, 'school': 318, 'save': 319, 'emot': 320, 'sex': 321, 'age': 322, 'next': 323, 'bring': 324, 'mr': 325, 'case': 326, 'killer': 327, 'heart': 328, 'comment': 329, 'sort': 330, 'creat': 331, 'perhap': 332, 'came': 333, 'brother': 334, 'sever': 335, 'joke': 336, 'art': 337, 'dialogu': 338, 'game': 339, 'small': 340, 'base': 341, 'flick': 342, 'written': 343, 'sequenc': 344, 'meet': 345, 'earli': 346, 'often': 347, 'other': 348, 'mother': 349, 'develop': 350, 'humor': 351, 'actress': 352, 'consid': 353, 'dark': 354, 'guess': 355, 'amaz': 356, 'unfortun': 357, 'light': 358, 'lost': 359, 'exampl': 360, 'cinema': 361, 'drama': 362, 'ye': 363, 'white': 364, 'experi': 365, 'imagin': 366, 'mention': 367, 'stop': 368, 'natur': 369, 'forc': 370, 'manag': 371, 'felt': 372, 'cut': 373, 'present': 374, 'children': 375, 'fail': 376, 'son': 377, 'car': 378, 'qualiti': 379, 'support': 380, 'ask': 381, 'hit': 382, 'side': 383, 'voic': 384, 'extrem': 385, 'impress': 386, 'evil': 387, 'wors': 388, 'went': 389, 'stand': 390, 'certainli': 391, 'basic': 392, 'oh': 393, 'overal': 394, 'favorit': 395, 'horribl': 396, 'mysteri': 397, 'number': 398, 'type': 399, 'danc': 400, 'wait': 401, 'hero': 402, 'alreadi': 403, '5': 404, 'learn': 405, 'matter': 406, '4': 407, 'michael': 408, 'genr': 409, 'fine': 410, 'despit': 411, 'throughout': 412, 'walk': 413, 'success': 414, 'histori': 415, 'question': 416, 'zombi': 417, 'town': 418, 'realiz': 419, 'relationship': 420, 'past': 421, 'child': 422, 'daughter': 423, 'late': 424, 'b': 425, 'wish': 426, 'credit': 427, 'hate': 428, 'event': 429, 'theme': 430, 'touch': 431, 'citi': 432, 'today': 433, 'sometim': 434, 'behind': 435, 'god': 436, 'twist': 437, 'sit': 438, 'annoy': 439, 'stay': 440, 'deal': 441, 'abl': 442, 'rent': 443, 'pleas': 444, 'edit': 445, 'blood': 446, 'deserv': 447, 'anyway': 448, 'comic': 449, 'appar': 450, 'soon': 451, 'gave': 452, 'etc': 453, 'level': 454, 'slow': 455, 'chanc': 456, 'score': 457, 'bodi': 458, 'brilliant': 459, 'incred': 460, 'figur': 461, 'situat': 462, 'self': 463, 'major': 464, 'stuff': 465, 'decent': 466, 'element': 467, 'return': 468, 'dream': 469, 'obvious': 470, 'order': 471, 'continu': 472, 'pace': 473, 'ridicul': 474, 'happi': 475, 'group': 476, 'highli': 477, 'add': 478, 'thank': 479, 'ladi': 480, 'novel': 481, 'speak': 482, 'pain': 483, 'career': 484, 'shoot': 485, 'strang': 486, 'heard': 487, 'sad': 488, 'husband': 489, 'polic': 490, 'import': 491, 'break': 492, 'took': 493, 'cannot': 494, 'strong': 495, 'predict': 496, 'robert': 497, 'violenc': 498, 'hilari': 499, 'recent': 500, 'countri': 501, 'known': 502, 'particularli': 503, 'pick': 504, 'documentari': 505, 'season': 506, 'critic': 507, 'jame': 508, 'compar': 509, 'obviou': 510, 'alon': 511, 'told': 512, 'state': 513, 'rock': 514, 'visual': 515, 'exist': 516, 'theater': 517, 'offer': 518, 'opinion': 519, 'gore': 520, 'crap': 521, 'hold': 522, 'result': 523, 'room': 524, 'realiti': 525, 'hear': 526, 'effort': 527, 'clich': 528, 'thriller': 529, 'caus': 530, 'sequel': 531, 'explain': 532, 'serious': 533, 'king': 534, 'local': 535, 'ago': 536, 'none': 537, 'hell': 538, 'note': 539, 'allow': 540, 'sister': 541, 'david': 542, 'simpl': 543, 'femal': 544, 'deliv': 545, 'ok': 546, 'class': 547, 'convinc': 548, 'check': 549, 'suspens': 550, 'win': 551, 'buy': 552, 'oscar': 553, 'huge': 554, 'valu': 555, 'sexual': 556, 'scari': 557, 'cool': 558, 'similar': 559, 'excit': 560, 'exactli': 561, 'provid': 562, 'apart': 563, 'avoid': 564, 'shown': 565, 'seriou': 566, 'english': 567, 'taken': 568, 'whose': 569, 'cinematographi': 570, 'shock': 571, 'polit': 572, 'spoiler': 573, 'offic': 574, 'across': 575, 'middl': 576, 'street': 577, 'pass': 578, 'messag': 579, 'somewhat': 580, 'charm': 581, 'silli': 582, 'modern': 583, 'confus': 584, 'filmmak': 585, 'form': 586, 'tale': 587, 'singl': 588, 'jack': 589, 'mostli': 590, 'william': 591, 'carri': 592, 'attent': 593, 'sing': 594, 'subject': 595, 'five': 596, 'richard': 597, 'prove': 598, 'stage': 599, 'team': 600, 'cop': 601, 'unlik': 602, 'georg': 603, 'televis': 604, 'monster': 605, 'earth': 606, 'villain': 607, 'cover': 608, 'pay': 609, 'marri': 610, 'toward': 611, 'build': 612, 'pull': 613, 'parent': 614, 'due': 615, 'fill': 616, 'respect': 617, 'dialog': 618, 'four': 619, 'remind': 620, 'futur': 621, 'weak': 622, 'typic': 623, '7': 624, 'cheap': 625, 'intellig': 626, 'british': 627, 'atmospher': 628, 'clearli': 629, '80': 630, 'dog': 631, 'non': 632, 'paul': 633, 'knew': 634, 'fast': 635, '8': 636, 'artist': 637, 'crime': 638, 'easili': 639, 'escap': 640, 'adult': 641, 'doubt': 642, 'detail': 643, 'date': 644, 'fire': 645, 'romant': 646, 'member': 647, 'gun': 648, 'drive': 649, 'straight': 650, 'beyond': 651, 'fit': 652, 'attack': 653, 'imag': 654, 'upon': 655, 'posit': 656, 'whether': 657, 'fantast': 658, 'peter': 659, 'captur': 660, 'appreci': 661, 'aspect': 662, 'ten': 663, 'plan': 664, 'discov': 665, 'remain': 666, 'period': 667, 'near': 668, 'air': 669, 'realist': 670, 'mark': 671, 'red': 672, 'dull': 673, 'adapt': 674, 'within': 675, 'spend': 676, 'lose': 677, 'materi': 678, 'color': 679, 'chase': 680, 'mari': 681, 'storylin': 682, 'forget': 683, 'bunch': 684, 'clear': 685, 'lee': 686, 'victim': 687, 'nearli': 688, 'box': 689, 'york': 690, 'match': 691, 'inspir': 692, 'mess': 693, 'finish': 694, 'standard': 695, 'easi': 696, 'truth': 697, 'suffer': 698, 'busi': 699, 'bill': 700, 'space': 701, 'dramat': 702, 'western': 703, 'e': 704, 'list': 705, 'battl': 706, 'notic': 707, 'de': 708, 'french': 709, 'ad': 710, '9': 711, 'tom': 712, 'larg': 713, 'among': 714, 'eventu': 715, 'accept': 716, 'train': 717, 'agre': 718, 'soundtrack': 719, 'spirit': 720, 'third': 721, 'teenag': 722, 'soldier': 723, 'adventur': 724, 'drug': 725, 'suggest': 726, 'sorri': 727, 'famou': 728, 'babi': 729, 'normal': 730, 'cri': 731, 'troubl': 732, 'ultim': 733, 'contain': 734, 'certain': 735, 'cultur': 736, 'romanc': 737, 'rare': 738, 'lame': 739, 'somehow': 740, 'mix': 741, 'disney': 742, 'gone': 743, 'cartoon': 744, 'student': 745, 'fear': 746, 'reveal': 747, 'suck': 748, 'kept': 749, 'attract': 750, 'appeal': 751, 'premis': 752, 'secret': 753, 'design': 754, 'greatest': 755, 'shame': 756, 'throw': 757, 'scare': 758, 'copi': 759, 'wit': 760, 'america': 761, 'admit': 762, 'relat': 763, 'particular': 764, 'brought': 765, 'screenplay': 766, 'whatev': 767, 'pure': 768, '70': 769, 'averag': 770, 'harri': 771, 'master': 772, 'describ': 773, 'treat': 774, 'male': 775, '20': 776, 'fantasi': 777, 'issu': 778, 'warn': 779, 'inde': 780, 'background': 781, 'forward': 782, 'project': 783, 'free': 784, 'japanes': 785, 'memor': 786, 'poorli': 787, 'award': 788, 'locat': 789, 'potenti': 790, 'amus': 791, 'struggl': 792, 'magic': 793, 'weird': 794, 'societi': 795, 'okay': 796, 'imdb': 797, 'accent': 798, 'doctor': 799, 'water': 800, 'hot': 801, 'express': 802, 'dr': 803, 'alien': 804, '30': 805, 'odd': 806, 'choic': 807, 'crazi': 808, 'fiction': 809, 'studio': 810, 'control': 811, 'becam': 812, 'masterpiec': 813, 'difficult': 814, 'fli': 815, 'joe': 816, 'scream': 817, 'costum': 818, 'lover': 819, 'uniqu': 820, 'refer': 821, 'remak': 822, 'girlfriend': 823, 'vampir': 824, 'prison': 825, 'execut': 826, 'wear': 827, 'jump': 828, 'unless': 829, 'wood': 830, 'creepi': 831, 'cheesi': 832, 'superb': 833, 'otherwis': 834, 'parti': 835, 'ghost': 836, 'roll': 837, 'mad': 838, 'public': 839, 'depict': 840, 'week': 841, 'jane': 842, 'earlier': 843, 'moral': 844, 'badli': 845, 'dumb': 846, 'fi': 847, 'flaw': 848, 'grow': 849, 'deep': 850, 'sci': 851, 'cat': 852, 'maker': 853, 'older': 854, 'footag': 855, 'connect': 856, 'bother': 857, 'plenti': 858, 'outsid': 859, 'stick': 860, 'gay': 861, 'catch': 862, 'plu': 863, 'co': 864, 'popular': 865, 'equal': 866, 'social': 867, 'disturb': 868, 'quickli': 869, 'perfectli': 870, 'dress': 871, '90': 872, 'era': 873, 'mistak': 874, 'lie': 875, 'ride': 876, 'previou': 877, 'combin': 878, 'concept': 879, 'band': 880, 'rich': 881, 'answer': 882, 'surviv': 883, 'front': 884, 'sweet': 885, 'christma': 886, 'insid': 887, 'eat': 888, 'bare': 889, 'concern': 890, 'beat': 891, 'ben': 892, 'listen': 893, 'c': 894, 'term': 895, 'serv': 896, 'meant': 897, 'german': 898, 'la': 899, 'hardli': 900, 'stereotyp': 901, 'innoc': 902, 'law': 903, 'desper': 904, 'memori': 905, 'promis': 906, 'intent': 907, 'cute': 908, 'steal': 909, 'inform': 910, 'variou': 911, 'brain': 912, 'post': 913, 'tone': 914, 'island': 915, 'amount': 916, 'nuditi': 917, 'compani': 918, 'track': 919, 'store': 920, 'claim': 921, 'flat': 922, '50': 923, 'hair': 924, 'univers': 925, 'land': 926, 'scott': 927, 'kick': 928, 'danger': 929, 'fairli': 930, 'player': 931, 'plain': 932, 'crew': 933, 'step': 934, 'toni': 935, 'share': 936, 'tast': 937, 'centuri': 938, 'achiev': 939, 'engag': 940, 'travel': 941, 'cold': 942, 'rip': 943, 'record': 944, 'suit': 945, 'sadli': 946, 'manner': 947, 'wrote': 948, 'tension': 949, 'spot': 950, 'intens': 951, 'fascin': 952, 'familiar': 953, 'depth': 954, 'burn': 955, 'remark': 956, 'histor': 957, 'destroy': 958, 'sleep': 959, 'purpos': 960, 'languag': 961, 'ignor': 962, 'ruin': 963, 'delight': 964, 'italian': 965, 'unbeliev': 966, 'abil': 967, 'soul': 968, 'collect': 969, 'clever': 970, 'detect': 971, 'violent': 972, 'rape': 973, 'reach': 974, 'door': 975, 'scienc': 976, 'trash': 977, 'liter': 978, 'caught': 979, 'commun': 980, 'reveng': 981, 'creatur': 982, 'approach': 983, 'trip': 984, 'fashion': 985, 'intrigu': 986, 'skill': 987, 'introduc': 988, 'paint': 989, 'channel': 990, 'complex': 991, 'camp': 992, 'christian': 993, 'extra': 994, 'hole': 995, 'mental': 996, 'immedi': 997, 'ann': 998, 'limit': 999, 'comput': 1000, 'million': 1001, '6': 1002, 'slightli': 1003, 'mere': 1004, 'conclus': 1005, 'slasher': 1006, 'imposs': 1007, 'suddenli': 1008, 'neither': 1009, 'teen': 1010, 'crimin': 1011, 'spent': 1012, 'nation': 1013, 'physic': 1014, 'respons': 1015, 'planet': 1016, 'receiv': 1017, 'fake': 1018, 'sick': 1019, 'blue': 1020, 'bizarr': 1021, 'embarrass': 1022, 'indian': 1023, 'ring': 1024, '15': 1025, 'drop': 1026, 'pop': 1027, 'drag': 1028, 'haunt': 1029, 'suspect': 1030, 'pointless': 1031, 'edg': 1032, 'search': 1033, 'handl': 1034, 'common': 1035, 'biggest': 1036, 'arriv': 1037, 'faith': 1038, 'hurt': 1039, 'technic': 1040, 'angel': 1041, 'dad': 1042, 'genuin': 1043, 'awesom': 1044, 'solid': 1045, 'f': 1046, 'colleg': 1047, 'former': 1048, 'focu': 1049, 'van': 1050, 'count': 1051, 'tear': 1052, 'heavi': 1053, 'rais': 1054, 'wall': 1055, 'visit': 1056, 'younger': 1057, 'laughabl': 1058, 'excus': 1059, 'sign': 1060, 'fair': 1061, 'cult': 1062, 'key': 1063, 'motion': 1064, 'tough': 1065, 'super': 1066, 'desir': 1067, 'addit': 1068, 'stun': 1069, 'cloth': 1070, 'exploit': 1071, 'smith': 1072, 'tortur': 1073, 'davi': 1074, 'race': 1075, 'author': 1076, 'cross': 1077, 'jim': 1078, 'focus': 1079, 'consist': 1080, 'compel': 1081, 'minor': 1082, 'pathet': 1083, 'commit': 1084, 'chemistri': 1085, 'park': 1086, 'obsess': 1087, 'frank': 1088, 'tradit': 1089, 'grade': 1090, 'asid': 1091, '60': 1092, 'brutal': 1093, 'somewher': 1094, 'steve': 1095, 'rule': 1096, 'depress': 1097, 'u': 1098, 'opportun': 1099, 'explor': 1100, 'grant': 1101, 'honest': 1102, 'besid': 1103, 'anti': 1104, 'dub': 1105, 'trailer': 1106, 'intend': 1107, 'bar': 1108, 'scientist': 1109, 'regard': 1110, 'longer': 1111, 'west': 1112, 'decad': 1113, 'judg': 1114, 'silent': 1115, 'armi': 1116, 'creativ': 1117, 'wild': 1118, 'south': 1119, 'stewart': 1120, 'g': 1121, 'draw': 1122, 'road': 1123, 'govern': 1124, 'ex': 1125, 'boss': 1126, 'practic': 1127, 'motiv': 1128, 'festiv': 1129, 'gang': 1130, 'surprisingli': 1131, 'club': 1132, 'london': 1133, 'green': 1134, 'redeem': 1135, 'page': 1136, 'idiot': 1137, 'machin': 1138, 'display': 1139, 'militari': 1140, 'aliv': 1141, 'repeat': 1142, 'thrill': 1143, 'yeah': 1144, 'nobodi': 1145, '100': 1146, 'folk': 1147, '40': 1148, 'journey': 1149, 'garbag': 1150, 'tire': 1151, 'smile': 1152, 'ground': 1153, 'mood': 1154, 'bought': 1155, 'sam': 1156, 'stone': 1157, 'cost': 1158, 'mouth': 1159, 'noir': 1160, 'terrif': 1161, 'agent': 1162, 'requir': 1163, 'utterli': 1164, 'honestli': 1165, 'area': 1166, 'sexi': 1167, 'report': 1168, 'geniu': 1169, 'humour': 1170, 'glad': 1171, 'enter': 1172, 'investig': 1173, 'serial': 1174, 'passion': 1175, 'narr': 1176, 'occasion': 1177, 'climax': 1178, 'marriag': 1179, 'studi': 1180, 'industri': 1181, 'ship': 1182, 'center': 1183, 'demon': 1184, 'nowher': 1185, 'charli': 1186, 'hors': 1187, 'bear': 1188, 'loos': 1189, 'hang': 1190, 'wow': 1191, 'graphic': 1192, 'admir': 1193, 'giant': 1194, 'send': 1195, 'loud': 1196, 'damn': 1197, 'nake': 1198, 'rel': 1199, 'profession': 1200, 'subtl': 1201, 'blow': 1202, 'bottom': 1203, 'batman': 1204, 'insult': 1205, 'doubl': 1206, 'r': 1207, 'boyfriend': 1208, 'kelli': 1209, 'initi': 1210, 'frame': 1211, 'opera': 1212, 'gem': 1213, 'affect': 1214, 'drawn': 1215, 'cinemat': 1216, 'challeng': 1217, 'church': 1218, 'evid': 1219, 'l': 1220, 'fulli': 1221, 'seek': 1222, 'nightmar': 1223, 'j': 1224, 'conflict': 1225, 'essenti': 1226, 'arm': 1227, 'christoph': 1228, 'henri': 1229, 'wind': 1230, 'grace': 1231, 'witch': 1232, 'narrat': 1233, 'assum': 1234, 'hunt': 1235, 'push': 1236, 'chri': 1237, 'wise': 1238, 'nomin': 1239, 'repres': 1240, 'month': 1241, 'hide': 1242, 'affair': 1243, 'avail': 1244, 'sceneri': 1245, 'smart': 1246, 'justic': 1247, 'bond': 1248, 'thu': 1249, 'flashback': 1250, 'outstand': 1251, 'interview': 1252, 'satisfi': 1253, 'constantli': 1254, 'presenc': 1255, 'central': 1256, 'bed': 1257, 'iron': 1258, 'sell': 1259, 'content': 1260, 'everybodi': 1261, 'gag': 1262, 'slowli': 1263, 'hotel': 1264, 'hire': 1265, 'system': 1266, 'hey': 1267, 'charl': 1268, 'individu': 1269, 'thrown': 1270, 'adam': 1271, 'mediocr': 1272, 'jone': 1273, 'allen': 1274, 'lesson': 1275, 'ray': 1276, 'billi': 1277, 'cameo': 1278, 'photographi': 1279, 'fellow': 1280, 'pari': 1281, 'strike': 1282, 'brief': 1283, 'independ': 1284, 'rise': 1285, 'absurd': 1286, 'neg': 1287, 'impact': 1288, 'phone': 1289, 'model': 1290, 'born': 1291, 'ill': 1292, 'fresh': 1293, 'spoil': 1294, 'angl': 1295, 'abus': 1296, 'likabl': 1297, 'discuss': 1298, 'hill': 1299, 'sight': 1300, 'ahead': 1301, 'photograph': 1302, 'sent': 1303, 'shine': 1304, 'logic': 1305, 'blame': 1306, 'occur': 1307, 'bruce': 1308, 'mainli': 1309, 'forev': 1310, 'skip': 1311, 'commerci': 1312, 'held': 1313, 'segment': 1314, 'teacher': 1315, 'surround': 1316, 'blond': 1317, 'zero': 1318, 'trap': 1319, 'resembl': 1320, 'satir': 1321, 'summer': 1322, 'fool': 1323, 'six': 1324, 'queen': 1325, 'ball': 1326, 'twice': 1327, 'sub': 1328, 'tragedi': 1329, 'reaction': 1330, 'pack': 1331, 'bomb': 1332, 'protagonist': 1333, 'hospit': 1334, 'will': 1335, 'mile': 1336, 'sport': 1337, 'trust': 1338, 'drink': 1339, 'vote': 1340, 'mom': 1341, 'jerri': 1342, 'encount': 1343, 'plane': 1344, 'current': 1345, 'station': 1346, 'program': 1347, 'al': 1348, 'celebr': 1349, 'martin': 1350, 'choos': 1351, 'join': 1352, 'favourit': 1353, 'round': 1354, 'lord': 1355, 'field': 1356, 'tragic': 1357, 'robot': 1358, 'jean': 1359, 'vision': 1360, 'arthur': 1361, 'tie': 1362, 'random': 1363, 'roger': 1364, 'fortun': 1365, 'intern': 1366, 'dread': 1367, 'psycholog': 1368, 'improv': 1369, 'prefer': 1370, 'nonsens': 1371, 'epic': 1372, 'legend': 1373, 'pleasur': 1374, 'formula': 1375, 'highlight': 1376, '11': 1377, 'dollar': 1378, 'tape': 1379, 'object': 1380, 'thin': 1381, 'wide': 1382, 'gorgeou': 1383, 'porn': 1384, 'fox': 1385, 'ugli': 1386, 'influenc': 1387, 'buddi': 1388, 'prepar': 1389, 'ii': 1390, 'nasti': 1391, 'progress': 1392, 'reflect': 1393, 'supposedli': 1394, 'warm': 1395, 'youth': 1396, 'worthi': 1397, 'latter': 1398, 'unusu': 1399, 'length': 1400, 'crash': 1401, 'childhood': 1402, 'seven': 1403, 'shop': 1404, 'superior': 1405, 'theatr': 1406, 'remot': 1407, 'pilot': 1408, 'funniest': 1409, 'disgust': 1410, 'paid': 1411, 'trick': 1412, 'fell': 1413, 'convers': 1414, 'castl': 1415, 'disast': 1416, 'rob': 1417, 'establish': 1418, 'gangster': 1419, 'suicid': 1420, 'mine': 1421, 'ident': 1422, 'heaven': 1423, 'disappear': 1424, 'decis': 1425, 'heroin': 1426, 'forgotten': 1427, 'tend': 1428, 'singer': 1429, 'mask': 1430, 'partner': 1431, 'brian': 1432, 'alan': 1433, 'recogn': 1434, 'desert': 1435, 'sky': 1436, 'thoroughli': 1437, 'p': 1438, 'stuck': 1439, 'ms': 1440, 'replac': 1441, 'accur': 1442, 'market': 1443, 'clue': 1444, 'andi': 1445, 'eddi': 1446, 'seemingli': 1447, 'commentari': 1448, 'uncl': 1449, 'danni': 1450, 'jackson': 1451, 'devil': 1452, 'pair': 1453, 'refus': 1454, 'that': 1455, 'therefor': 1456, 'fault': 1457, 'accid': 1458, 'ed': 1459, 'river': 1460, 'fate': 1461, 'unit': 1462, 'tune': 1463, 'afraid': 1464, 'clean': 1465, 'stephen': 1466, 'russian': 1467, 'hidden': 1468, 'test': 1469, 'quick': 1470, 'convey': 1471, 'irrit': 1472, 'readi': 1473, 'captain': 1474, 'instanc': 1475, 'european': 1476, 'frustrat': 1477, 'insan': 1478, 'daniel': 1479, 'wed': 1480, 'chines': 1481, '1950': 1482, 'rescu': 1483, 'food': 1484, 'angri': 1485, 'lock': 1486, 'dirti': 1487, 'joy': 1488, 'steven': 1489, 'price': 1490, 'cage': 1491, 'bland': 1492, 'anymor': 1493, 'rang': 1494, 'wooden': 1495, 'rush': 1496, 'news': 1497, 'n': 1498, 'jason': 1499, 'led': 1500, '12': 1501, 'board': 1502, 'twenti': 1503, 'martial': 1504, 'worri': 1505, 'cgi': 1506, 'hunter': 1507, 'symbol': 1508, 'transform': 1509, 'invent': 1510, 'sentiment': 1511, 'x': 1512, 'onto': 1513, 'piti': 1514, 'johnni': 1515, 'process': 1516, 'attitud': 1517, 'explan': 1518, 'owner': 1519, 'awar': 1520, 'aim': 1521, 'necessari': 1522, 'target': 1523, 'floor': 1524, 'energi': 1525, 'favor': 1526, 'opposit': 1527, 'religi': 1528, 'blind': 1529, 'chick': 1530, 'insight': 1531, 'window': 1532, 'movement': 1533, 'possess': 1534, 'comparison': 1535, 'deepli': 1536, 'research': 1537, 'mountain': 1538, 'rain': 1539, 'whatsoev': 1540, 'grand': 1541, 'comed': 1542, 'bank': 1543, 'shadow': 1544, 'began': 1545, 'mid': 1546, 'princ': 1547, 'parodi': 1548, 'friendship': 1549, 'pre': 1550, 'weapon': 1551, 'credibl': 1552, 'taylor': 1553, 'teach': 1554, 'dougla': 1555, 'flesh': 1556, 'bloodi': 1557, 'terror': 1558, 'hint': 1559, 'protect': 1560, 'marvel': 1561, 'anybodi': 1562, 'superman': 1563, 'accord': 1564, 'leader': 1565, 'watchabl': 1566, 'load': 1567, 'drunk': 1568, 'brown': 1569, 'freddi': 1570, 'tim': 1571, 'appropri': 1572, 'jeff': 1573, 'seat': 1574, 'hitler': 1575, 'unknown': 1576, 'knock': 1577, 'charg': 1578, 'villag': 1579, 'keaton': 1580, 'unnecessari': 1581, 'empti': 1582, 'enemi': 1583, 'media': 1584, 'england': 1585, 'buck': 1586, 'dare': 1587, 'utter': 1588, 'perspect': 1589, 'strength': 1590, 'craft': 1591, 'wave': 1592, 'nativ': 1593, 'contrast': 1594, 'kiss': 1595, 'correct': 1596, 'ford': 1597, 'distract': 1598, 'nazi': 1599, 'speed': 1600, 'knowledg': 1601, 'anywher': 1602, 'soap': 1603, 'magnific': 1604, 'chill': 1605, 'fred': 1606, 'breath': 1607, 'ice': 1608, 'mission': 1609, '1980': 1610, 'moon': 1611, 'jr': 1612, 'crowd': 1613, 'joan': 1614, 'kate': 1615, 'frighten': 1616, '000': 1617, 'soft': 1618, 'nick': 1619, 'hundr': 1620, 'dick': 1621, 'dan': 1622, 'radio': 1623, 'simon': 1624, 'dozen': 1625, 'somebodi': 1626, 'academi': 1627, 'thousand': 1628, 'shakespear': 1629, 'loss': 1630, 'andrew': 1631, 'quot': 1632, 'sum': 1633, 'vehicl': 1634, 'root': 1635, 'account': 1636, 'convent': 1637, 'behavior': 1638, '1970': 1639, 'leg': 1640, 'gold': 1641, 'regular': 1642, 'compet': 1643, 'pretenti': 1644, 'worker': 1645, 'demand': 1646, 'stretch': 1647, 'lynch': 1648, 'notabl': 1649, 'privat': 1650, 'interpret': 1651, 'candi': 1652, 'japan': 1653, 'explos': 1654, 'debut': 1655, 'constant': 1656, 'tarzan': 1657, 'sea': 1658, 'spi': 1659, 'revolv': 1660, 'prais': 1661, 'translat': 1662, 'franc': 1663, 'technolog': 1664, 'ass': 1665, 'quiet': 1666, 'threaten': 1667, 'jesu': 1668, 'sat': 1669, 'failur': 1670, 'met': 1671, 'punch': 1672, 'higher': 1673, 'toy': 1674, 'aid': 1675, 'kevin': 1676, 'interact': 1677, 'mike': 1678, 'abandon': 1679, 'vh': 1680, 'confront': 1681, 'command': 1682, 'separ': 1683, 'bet': 1684, 'gotten': 1685, 'servic': 1686, 'belong': 1687, 'site': 1688, 'techniqu': 1689, 'recal': 1690, 'stunt': 1691, 'cabl': 1692, 'freak': 1693, 'foot': 1694, 'bug': 1695, 'bright': 1696, 'capabl': 1697, 'fu': 1698, 'jimmi': 1699, 'african': 1700, 'succeed': 1701, 'fat': 1702, 'clark': 1703, 'stock': 1704, 'presid': 1705, 'boat': 1706, 'gene': 1707, 'spanish': 1708, 'structur': 1709, 'kidnap': 1710, 'paper': 1711, 'belief': 1712, 'factor': 1713, 'whilst': 1714, 'realis': 1715, 'educ': 1716, 'attend': 1717, 'bob': 1718, 'tree': 1719, 'realism': 1720, 'witti': 1721, 'complic': 1722, 'assist': 1723, 'finest': 1724, 'broken': 1725, 'santa': 1726, 'determin': 1727, 'observ': 1728, 'smoke': 1729, 'v': 1730, 'depart': 1731, 'up': 1732, 'fame': 1733, 'oper': 1734, 'lewi': 1735, 'hat': 1736, 'domin': 1737, 'rubbish': 1738, 'routin': 1739, 'kinda': 1740, 'advanc': 1741, 'hook': 1742, 'foreign': 1743, 'morgan': 1744, 'safe': 1745, 'lone': 1746, 'rank': 1747, 'numer': 1748, 'werewolf': 1749, 'rose': 1750, 'civil': 1751, 'vs': 1752, 'shallow': 1753, 'shape': 1754, 'washington': 1755, 'morn': 1756, 'gari': 1757, 'winner': 1758, 'ordinari': 1759, 'accomplish': 1760, 'kong': 1761, 'peac': 1762, 'whenev': 1763, 'virtual': 1764, 'grab': 1765, 'luck': 1766, 'offens': 1767, 'h': 1768, 'contriv': 1769, 'activ': 1770, 'unfunni': 1771, 'bigger': 1772, 'complain': 1773, 'patient': 1774, 'welcom': 1775, 'trek': 1776, 'con': 1777, 'dimension': 1778, 'pretend': 1779, 'eric': 1780, 'code': 1781, 'flash': 1782, 'dri': 1783, 'cain': 1784, 'lesbian': 1785, 'wake': 1786, 'statu': 1787, 'guard': 1788, 'manipul': 1789, 'corrupt': 1790, 'dancer': 1791, 'albert': 1792, 'sourc': 1793, 'gain': 1794, 'awkward': 1795, 'context': 1796, 'speech': 1797, 'signific': 1798, 'clip': 1799, '13': 1800, 'corni': 1801, 'psycho': 1802, 'sean': 1803, 'anthoni': 1804, 'curiou': 1805, 'w': 1806, 'theatric': 1807, 'advic': 1808, 'reli': 1809, 'priest': 1810, 'religion': 1811, 'flow': 1812, 'addict': 1813, 'skin': 1814, 'jennif': 1815, 'specif': 1816, 'howard': 1817, 'asian': 1818, 'secur': 1819, 'core': 1820, 'organ': 1821, 'comfort': 1822, 'promot': 1823, 'luke': 1824, 'golden': 1825, 'cheat': 1826, 'lucki': 1827, 'cash': 1828, 'associ': 1829, 'lower': 1830, 'dislik': 1831, 'regret': 1832, 'devic': 1833, 'frankli': 1834, 'balanc': 1835, 'contribut': 1836, 'degre': 1837, 'spell': 1838, 'wing': 1839, 'frequent': 1840, 'print': 1841, 'forgiv': 1842, 'sake': 1843, 'lake': 1844, 'thoma': 1845, 'mass': 1846, 'betti': 1847, 'gordon': 1848, 'crack': 1849, 'unexpect': 1850, 'amateur': 1851, 'construct': 1852, 'grown': 1853, 'depend': 1854, 'invit': 1855, 'categori': 1856, 'unfold': 1857, 'matur': 1858, 'grew': 1859, 'walter': 1860, 'intellectu': 1861, 'honor': 1862, 'condit': 1863, 'anna': 1864, 'sudden': 1865, 'veteran': 1866, 'spectacular': 1867, 'mirror': 1868, 'sole': 1869, 'overli': 1870, 'robin': 1871, 'card': 1872, 'freedom': 1873, 'meanwhil': 1874, 'gift': 1875, 'experienc': 1876, 'demonstr': 1877, 'grip': 1878, 'liner': 1879, 'drew': 1880, 'section': 1881, 'colour': 1882, 'crappi': 1883, 'sheriff': 1884, 'circumst': 1885, 'oliv': 1886, 'subtitl': 1887, 'unabl': 1888, 'theori': 1889, 'brilliantli': 1890, 'pile': 1891, 'laughter': 1892, 'altern': 1893, 'sheer': 1894, 'cook': 1895, 'path': 1896, 'parker': 1897, 'matt': 1898, 'treatment': 1899, 'hall': 1900, 'sinatra': 1901, 'relief': 1902, 'accident': 1903, 'wander': 1904, 'lawyer': 1905, 'defin': 1906, 'hank': 1907, 'captiv': 1908, 'dragon': 1909, 'halloween': 1910, 'moor': 1911, 'gratuit': 1912, 'wound': 1913, 'k': 1914, 'cowboy': 1915, 'wayn': 1916, 'kung': 1917, 'unintent': 1918, 'jacki': 1919, 'broadway': 1920, 'barbara': 1921, 'surreal': 1922, 'statement': 1923, 'canadian': 1924, 'spoof': 1925, 'winter': 1926, 'compos': 1927, 'fare': 1928, 'cheer': 1929, 'gonna': 1930, 'treasur': 1931, 'fish': 1932, 'sensit': 1933, 'emerg': 1934, 'woodi': 1935, 'victor': 1936, 'unrealist': 1937, 'neighbor': 1938, 'sympathet': 1939, 'ran': 1940, 'driven': 1941, 'menac': 1942, 'expos': 1943, 'authent': 1944, 'overlook': 1945, 'glass': 1946, 'topic': 1947, 'michel': 1948, 'ancient': 1949, 'chief': 1950, 'gross': 1951, 'handsom': 1952, 'pleasant': 1953, 'network': 1954, 'feet': 1955, 'cinderella': 1956, 'contemporari': 1957, 'russel': 1958, 'nevertheless': 1959, 'comedian': 1960, 'built': 1961, 'stranger': 1962, 'underr': 1963, 'endless': 1964, 'miser': 1965, 'earn': 1966, 'blockbust': 1967, 'consider': 1968, 'letter': 1969, 'gori': 1970, 'solv': 1971, 'switch': 1972, 'brook': 1973, 'victoria': 1974, 'edward': 1975, 'bullet': 1976, 'virgin': 1977, 'convict': 1978, 'joseph': 1979, '0': 1980, 'scale': 1981, 'chosen': 1982, 'cynic': 1983, 'scenario': 1984, 'alex': 1985, 'outrag': 1986, 'com': 1987, 'curs': 1988, 'gut': 1989, 'sword': 1990, 'proper': 1991, 'uk': 1992, 'driver': 1993, 'substanc': 1994, 'monkey': 1995, 'wrap': 1996, 'juli': 1997, 'screenwrit': 1998, 'bird': 1999, 'remov': 2000, 'indic': 2001, 'court': 2002, 'par': 2003, 'nanci': 2004, 'advertis': 2005, 'rental': 2006, 'inevit': 2007, 'grave': 2008, 'naiv': 2009, 'consequ': 2010, 'loser': 2011, 'roy': 2012, 'brave': 2013, 'germani': 2014, 'bridg': 2015, 'slap': 2016, 'le': 2017, 'invis': 2018, 'fatal': 2019, 'ador': 2020, 'provok': 2021, 'footbal': 2022, 'loui': 2023, 'anger': 2024, 'anderson': 2025, 'chan': 2026, 'alcohol': 2027, 'willi': 2028, 'professor': 2029, 'ryan': 2030, 'stumbl': 2031, 'bat': 2032, 'australian': 2033, 'assassin': 2034, '1930': 2035, 'patrick': 2036, 'sharp': 2037, 'heck': 2038, 'ape': 2039, 'trilog': 2040, 'liber': 2041, 'lousi': 2042, 'strongli': 2043, 'refresh': 2044, 'saturday': 2045, 'amateurish': 2046, 'eight': 2047, 'deni': 2048, 'cell': 2049, 'sin': 2050, 'justifi': 2051, 'resid': 2052, 'san': 2053, 'vagu': 2054, 'creator': 2055, 'mini': 2056, 'terrifi': 2057, 'indi': 2058, 'sympathi': 2059, 'reput': 2060, 'defeat': 2061, 'prevent': 2062, 'expert': 2063, 'task': 2064, 'endur': 2065, 'tediou': 2066, 'tabl': 2067, 'rival': 2068, 'imit': 2069, 'offend': 2070, 'employ': 2071, 'trial': 2072, 'basebal': 2073, 'che': 2074, 'europ': 2075, 'complaint': 2076, 'dig': 2077, 'pitch': 2078, 'max': 2079, 'weekend': 2080, 'beach': 2081, 'fairi': 2082, 'format': 2083, 'risk': 2084, 'murphi': 2085, 'purchas': 2086, 'glimps': 2087, 'harsh': 2088, 'nois': 2089, 'bite': 2090, 'tini': 2091, 'reminisc': 2092, 'powel': 2093, 'titan': 2094, 'hype': 2095, 'prime': 2096, '14': 2097, 'north': 2098, 'fals': 2099, 'asleep': 2100, 'strip': 2101, 'till': 2102, 'revel': 2103, 'texa': 2104, 'destruct': 2105, 'descript': 2106, 'africa': 2107, 'surfac': 2108, 'uninterest': 2109, 'sitcom': 2110, 'semi': 2111, 'arrest': 2112, 'inner': 2113, 'spin': 2114, 'excess': 2115, 'twin': 2116, 'maintain': 2117, 'massiv': 2118, 'dinosaur': 2119, 'makeup': 2120, 'controversi': 2121, 'argu': 2122, 'hitchcock': 2123, 'expens': 2124, 'melodrama': 2125, 'ideal': 2126, 'ludicr': 2127, 'reject': 2128, 'stare': 2129, 'kim': 2130, 'insist': 2131, 'host': 2132, 'supernatur': 2133, 'press': 2134, 'nail': 2135, 'subplot': 2136, 'erot': 2137, 'forest': 2138, 'atroci': 2139, 'ala': 2140, 'columbo': 2141, 'ga': 2142, 'cant': 2143, 'notch': 2144, 'identifi': 2145, 'presum': 2146, 'dude': 2147, 'guest': 2148, 'character': 2149, 'crude': 2150, 'plagu': 2151, 'closer': 2152, 'forgett': 2153, 'method': 2154, 'ear': 2155, 'princess': 2156, 'landscap': 2157, 'border': 2158, 'beast': 2159, 'foster': 2160, 'lion': 2161, 'birth': 2162, 'damag': 2163, 'storytel': 2164, 'urban': 2165, 'aunt': 2166, 'previous': 2167, 'accus': 2168, 'pacino': 2169, 'bound': 2170, 'jungl': 2171, 'doll': 2172, 'thirti': 2173, 'chose': 2174, 'guid': 2175, 'jess': 2176, 'propaganda': 2177, 'nude': 2178, 'emma': 2179, 'mainstream': 2180, '25': 2181, 'warrior': 2182, 'whoever': 2183, 'mate': 2184, 'pet': 2185, 'cooper': 2186, 'latest': 2187, 'upset': 2188, 'merit': 2189, 'friday': 2190, 'exact': 2191, 'poster': 2192, 'deadli': 2193, 'size': 2194, 'gritti': 2195, 'warner': 2196, 'blend': 2197, 'corps': 2198, 'buff': 2199, '1990': 2200, 'popul': 2201, 'contest': 2202, 'settl': 2203, 'ton': 2204, 'rough': 2205, 'sun': 2206, 'contact': 2207, 'wilson': 2208, 'citizen': 2209, 'alic': 2210, 'widow': 2211, 'overcom': 2212, 'metal': 2213, 'environ': 2214, 'bu': 2215, 'mgm': 2216, 'select': 2217, 'pitt': 2218, 'rat': 2219, 'link': 2220, 'particip': 2221, 'lift': 2222, 'revolut': 2223, 'ted': 2224, 'guilti': 2225, 'exagger': 2226, 'moron': 2227, 'johnson': 2228, 'matrix': 2229, 'afternoon': 2230, 'prostitut': 2231, 'corpor': 2232, '1960': 2233, 'accompani': 2234, 'corner': 2235, 'leagu': 2236, 'instal': 2237, 'hood': 2238, 'clair': 2239, 'doom': 2240, 'multipl': 2241, 'friendli': 2242, 'sincer': 2243, 'holm': 2244, 'blah': 2245, 'lugosi': 2246, 'junk': 2247, 'campi': 2248, 'sunday': 2249, 'aka': 2250, 'hip': 2251, 'examin': 2252, 'defend': 2253, 'string': 2254, 'irish': 2255, 'advis': 2256, 'grim': 2257, 'tight': 2258, 'varieti': 2259, 'pro': 2260, 'shake': 2261, 'rachel': 2262, 'icon': 2263, 'confid': 2264, 'shut': 2265, 'denni': 2266, 'sullivan': 2267, 'directli': 2268, 'jaw': 2269, 'attach': 2270, 'medic': 2271, 'goal': 2272, 'mexican': 2273, 'terrorist': 2274, 'sarah': 2275, 'truck': 2276, 'sentenc': 2277, 'legendari': 2278, 'duke': 2279, 'vietnam': 2280, 'courag': 2281, 'breast': 2282, 'prior': 2283, 'bourn': 2284, 'dean': 2285, 'entri': 2286, 'behav': 2287, 'donald': 2288, 'yell': 2289, 'nose': 2290, 'split': 2291, 'proceed': 2292, 'un': 2293, 'hong': 2294, 'buri': 2295, 'everywher': 2296, 'gather': 2297, 'crush': 2298, 'stolen': 2299, 'lifetim': 2300, 'borrow': 2301, 'jerk': 2302, 'concentr': 2303, 'forth': 2304, 'unconvinc': 2305, 'confess': 2306, 'swim': 2307, 'spite': 2308, 'deliveri': 2309, 'lip': 2310, 'turkey': 2311, 'pan': 2312, 'california': 2313, 'julia': 2314, 'proud': 2315, 'downright': 2316, 'hoffman': 2317, 'reward': 2318, 'offici': 2319, 'china': 2320, 'flight': 2321, 'quest': 2322, 'freeman': 2323, 'jail': 2324, 'worthwhil': 2325, 'sir': 2326, 'encourag': 2327, 'jon': 2328, 'inept': 2329, 'sink': 2330, 'betray': 2331, 'fade': 2332, 'fabul': 2333, 'lazi': 2334, 'notori': 2335, 'shower': 2336, 'storm': 2337, 'susan': 2338, 'survivor': 2339, 'imageri': 2340, 'cousin': 2341, 'bell': 2342, 'teeth': 2343, 'relev': 2344, 'lisa': 2345, 'branagh': 2346, 'retard': 2347, 'bag': 2348, 'facial': 2349, 'alright': 2350, 'bride': 2351, 'toler': 2352, 'quirki': 2353, 'shark': 2354, 'trade': 2355, 'stab': 2356, 'mexico': 2357, 'hugh': 2358, 'summari': 2359, 'finger': 2360, 'tremend': 2361, 'pose': 2362, 'von': 2363, 'bitter': 2364, 'blown': 2365, 'hyster': 2366, 'ha': 2367, 'afterward': 2368, 'ron': 2369, 'scheme': 2370, 'address': 2371, 'christ': 2372, 'larri': 2373, 'cruel': 2374, 'ned': 2375, 'bone': 2376, 'feed': 2377, 'screw': 2378, 'tour': 2379, 'beg': 2380, 'pursu': 2381, 'thumb': 2382, 'swear': 2383, 'distinct': 2384, 'snake': 2385, 'traci': 2386, 'mechan': 2387, 'raw': 2388, 'obscur': 2389, 'chair': 2390, 'occas': 2391, 'photo': 2392, 'stomach': 2393, 'chain': 2394, 'necessarili': 2395, 'heavili': 2396, 'gruesom': 2397, 'holiday': 2398, 'argument': 2399, 'resist': 2400, 'cabin': 2401, 'southern': 2402, 'sidney': 2403, 'render': 2404, 'hardi': 2405, 'indulg': 2406, 'satan': 2407, 'understood': 2408, 'racist': 2409, 'india': 2410, 'philip': 2411, 'forgot': 2412, 'midnight': 2413, 'lay': 2414, 'integr': 2415, 'pregnant': 2416, 'tongu': 2417, 'fourth': 2418, 'obnoxi': 2419, 'outfit': 2420, 'stalk': 2421, 'belov': 2422, 'deeper': 2423, 'garden': 2424, 'restor': 2425, 'magazin': 2426, 'slapstick': 2427, '17': 2428, 'inhabit': 2429, 'ticket': 2430, 'carol': 2431, 'shoe': 2432, 'lincoln': 2433, 'incid': 2434, 'devot': 2435, 'brad': 2436, 'guarante': 2437, 'elizabeth': 2438, 'disbelief': 2439, 'lili': 2440, 'benefit': 2441, 'anticip': 2442, 'underground': 2443, 'sandler': 2444, 'divorc': 2445, 'maria': 2446, 'explod': 2447, 'cring': 2448, 'mildli': 2449, 'princip': 2450, 'capit': 2451, 'slave': 2452, 'bbc': 2453, 'amazingli': 2454, 'creation': 2455, 'greater': 2456, 'lesli': 2457, 'introduct': 2458, 'funnier': 2459, 'extraordinari': 2460, 'halfway': 2461, 'transfer': 2462, 'advantag': 2463, 'wreck': 2464, 'extent': 2465, 'enhanc': 2466, 'tap': 2467, 'text': 2468, 'overwhelm': 2469, 'punish': 2470, 'plant': 2471, 'error': 2472, 'east': 2473, 'dynam': 2474, 'horrif': 2475, 'deliber': 2476, 'lo': 2477, 'jessica': 2478, 'lane': 2479, 'preview': 2480, 'vacat': 2481, 'ensu': 2482, 'miller': 2483, 'appli': 2484, 'homosexu': 2485, '2000': 2486, 'miscast': 2487, 'sophist': 2488, 'basi': 2489, 'vincent': 2490, 'elev': 2491, 'via': 2492, 'reed': 2493, 'steel': 2494, 'bollywood': 2495, 'mansion': 2496, 'extend': 2497, 'measur': 2498, 'uncomfort': 2499, 'spoken': 2500, 'sleazi': 2501, 'beer': 2502, 'fix': 2503, 'breathtak': 2504, 'alter': 2505, 'assign': 2506, 'overact': 2507, 'goofi': 2508, 'conceiv': 2509, 'hippi': 2510, 'daili': 2511, 'savag': 2512, 'dentist': 2513, 'melt': 2514, 'cathol': 2515, 'stanley': 2516, 'blair': 2517, 'mous': 2518, 'subsequ': 2519, 'oppos': 2520, 'sacrific': 2521, 'everyday': 2522, 'succe': 2523, 'carpent': 2524, 'nowaday': 2525, 'properli': 2526, 'inspector': 2527, 'burt': 2528, 'circl': 2529, 'block': 2530, 'laura': 2531, 'neck': 2532, 'massacr': 2533, 'fallen': 2534, 'grey': 2535, 'lesser': 2536, 'concert': 2537, 'pool': 2538, 'access': 2539, 'mob': 2540, 'fay': 2541, 'portrait': 2542, 'christi': 2543, 'seagal': 2544, 'competit': 2545, 'react': 2546, 'jewish': 2547, 'relax': 2548, 'sinist': 2549, 'jake': 2550, 'isol': 2551, 'chees': 2552, 'usa': 2553, 'stink': 2554, 'chop': 2555, 'creep': 2556, 'ironi': 2557, 'suitabl': 2558, 'immens': 2559, 'appal': 2560, 'nonetheless': 2561, 'nine': 2562, 'spiritu': 2563, '2006': 2564, 'lyric': 2565, 'adopt': 2566, 'spring': 2567, 'rage': 2568, 'shirt': 2569, 'user': 2570, 'nut': 2571, 'needless': 2572, 'reduc': 2573, 'retir': 2574, 'sold': 2575, 'navi': 2576, 'franchis': 2577, 'luci': 2578, 'showcas': 2579, 'asham': 2580, 'uninspir': 2581, 'digit': 2582, 'bath': 2583, 'nurs': 2584, 'jay': 2585, 'zone': 2586, 'bulli': 2587, 'per': 2588, 'stanwyck': 2589, 'upper': 2590, 'illustr': 2591, '1940': 2592, '2001': 2593, 'broadcast': 2594, 'amongst': 2595, 'oddli': 2596, 'laid': 2597, 'sutherland': 2598, 'disguis': 2599, 'aspir': 2600, 'throat': 2601, 'stylish': 2602, 'brando': 2603, 'baker': 2604, 'fulfil': 2605, 'pound': 2606, 'wwii': 2607, 'wanna': 2608, 'pride': 2609, 'nobl': 2610, '18': 2611, 'endear': 2612, 'thief': 2613, 'impli': 2614, 'em': 2615, 'neighborhood': 2616, 'albeit': 2617, 'shift': 2618, 'cinematograph': 2619, 'distribut': 2620, 'bett': 2621, 'dawn': 2622, 'tens': 2623, '16': 2624, 'coher': 2625, 'dinner': 2626, 'diseas': 2627, 'prop': 2628, 'rochest': 2629, 'shoulder': 2630, 'bo': 2631, 'silenc': 2632, 'function': 2633, 'surf': 2634, 'knife': 2635, 'shout': 2636, 'rebel': 2637, 'wash': 2638, 'contract': 2639, 'poignant': 2640, 'snow': 2641, 'forti': 2642, 'matthau': 2643, 'horrend': 2644, 'height': 2645, 'duti': 2646, 'henc': 2647, 'cancel': 2648, 'mindless': 2649, 'eeri': 2650, 'widmark': 2651, 'instinct': 2652, 'heat': 2653, 'internet': 2654, 'reunion': 2655, 'derek': 2656, 'silver': 2657, 'proof': 2658, 'chuck': 2659, 'cannib': 2660, 'elvira': 2661, 'torn': 2662, 'glori': 2663, 'pie': 2664, 'musician': 2665, 'incoher': 2666, 'absorb': 2667, 'innov': 2668, 'greatli': 2669, 'alik': 2670, 'etern': 2671, 'neat': 2672, 'spielberg': 2673, 'premier': 2674, 'mill': 2675, 'repetit': 2676, 'elvi': 2677, 'burton': 2678, 'wealthi': 2679, 'announc': 2680, 'blank': 2681, 'britain': 2682, 'redempt': 2683, 'trite': 2684, 'fbi': 2685, 'precis': 2686, 'horrifi': 2687, 'itali': 2688, 'crisi': 2689, 'diamond': 2690, 'lovabl': 2691, 'homag': 2692, 'infam': 2693, 'nelson': 2694, 'bang': 2695, 'racism': 2696, 'flop': 2697, 'ensembl': 2698, 'helen': 2699, 'pat': 2700, 'happili': 2701, 'resolut': 2702, 'dedic': 2703, 'hammer': 2704, 'parallel': 2705, 'wilder': 2706, 'chaplin': 2707, 'streisand': 2708, 'factori': 2709, 'carter': 2710, 'conclud': 2711, 'plastic': 2712, 'st': 2713, 'oil': 2714, 'disagre': 2715, 'mar': 2716, 'broke': 2717, 'cube': 2718, 'triumph': 2719, 'chuckl': 2720, 'bush': 2721, 'rocket': 2722, 'row': 2723, 'weight': 2724, 'own': 2725, 'march': 2726, 'vega': 2727, 'fighter': 2728, 'climb': 2729, 'dump': 2730, 'mst3k': 2731, 'enorm': 2732, 'luca': 2733, 'wherea': 2734, 'meaning': 2735, 'boot': 2736, 'spare': 2737, 'thug': 2738, 'unforgett': 2739, 'sensibl': 2740, 'dane': 2741, 'kurt': 2742, 'lust': 2743, 'caricatur': 2744, 'engin': 2745, 'butt': 2746, 'threat': 2747, 'arnold': 2748, 'brand': 2749, 'fifti': 2750, 'dear': 2751, 'karloff': 2752, 'rap': 2753, 'bobbi': 2754, 'stress': 2755, 'adequ': 2756, 'difficulti': 2757, 'flynn': 2758, 'swing': 2759, 'ego': 2760, 'arrog': 2761, 'journalist': 2762, 'fest': 2763, 'secretari': 2764, 'ralph': 2765, 'homeless': 2766, 'polish': 2767, 'hamlet': 2768, 'elabor': 2769, 'barri': 2770, 'puppet': 2771, 'arrang': 2772, 'tool': 2773, 'grate': 2774, 'conspiraci': 2775, 'spike': 2776, 'unbear': 2777, 'fanci': 2778, 'resort': 2779, 'float': 2780, 'induc': 2781, 'simpson': 2782, 'choreograph': 2783, 'cruis': 2784, 'basement': 2785, 'pig': 2786, 'exercis': 2787, 'phillip': 2788, 'guilt': 2789, 'muppet': 2790, 'boll': 2791, 'tribut': 2792, 'fianc': 2793, '24': 2794, 'tower': 2795, 'scarecrow': 2796, 'ham': 2797, 'ward': 2798, 'toilet': 2799, 'item': 2800, 'babe': 2801, 'document': 2802, 'editor': 2803, 'korean': 2804, 'slip': 2805, 'medium': 2806, 'puzzl': 2807, 'file': 2808, 'layer': 2809, 'stan': 2810, 'portion': 2811, 'philosoph': 2812, 'larger': 2813, 'spark': 2814, 'superfici': 2815, 'minim': 2816, 'catherin': 2817, 'slaughter': 2818, 'assur': 2819, 'inexplic': 2820, 'orient': 2821, 'librari': 2822, 'persona': 2823, 'territori': 2824, 'denzel': 2825, 'transit': 2826, 'glover': 2827, 'doc': 2828, 'wolf': 2829, 'financi': 2830, 'dorothi': 2831, 'owe': 2832, 'boredom': 2833, 'ban': 2834, 'walken': 2835, 'pg': 2836, 'curti': 2837, 'sneak': 2838, 'jet': 2839, 'jeremi': 2840, 'shi': 2841, 'hudson': 2842, 'backdrop': 2843, 'ambigu': 2844, 'profound': 2845, 'multi': 2846, 'metaphor': 2847, 'whale': 2848, 'eleph': 2849, 'cusack': 2850, '2005': 2851, 'notion': 2852, 'viru': 2853, 'hack': 2854, 'stiff': 2855, 'birthday': 2856, 'union': 2857, 'ultra': 2858, 'elsewher': 2859, 'rave': 2860, 'implaus': 2861, 'gadget': 2862, 'squar': 2863, 'poison': 2864, 'eva': 2865, 'disc': 2866, 'canada': 2867, 'eastwood': 2868, 'slight': 2869, 'pad': 2870, '1st': 2871, 'urg': 2872, 'lloyd': 2873, 'bibl': 2874, 'distanc': 2875, 'reader': 2876, 'deriv': 2877, 'hawk': 2878, 'newspap': 2879, 'superhero': 2880, 'afford': 2881, 'drown': 2882, 'huh': 2883, 'charisma': 2884, 'essenc': 2885, 'cure': 2886, 'heston': 2887, 'sadist': 2888, 'health': 2889, 'montag': 2890, 'restaur': 2891, 'skit': 2892, 'spread': 2893, 'button': 2894, 'dealt': 2895, 'estat': 2896, 'gradual': 2897, 'fetch': 2898, 'companion': 2899, 'invest': 2900, 'peak': 2901, 'scoobi': 2902, 'maniac': 2903, 'lab': 2904, 'godfath': 2905, 'muslim': 2906, 'subtleti': 2907, 'cup': 2908, 'tea': 2909, 'alli': 2910, 'miik': 2911, 'gothic': 2912, 'countless': 2913, 'servant': 2914, 'kane': 2915, 'ritter': 2916, 'elect': 2917, 'charismat': 2918, 'electr': 2919, 'briefli': 2920, 'heroic': 2921, 'iii': 2922, 'salli': 2923, 'ingredi': 2924, 'wannab': 2925, 'cole': 2926, 'toss': 2927, 'resourc': 2928, 'nuanc': 2929, 'admittedli': 2930, 'bud': 2931, 'reel': 2932, 'neil': 2933, 'tender': 2934, 'grandmoth': 2935, 'stronger': 2936, 'gate': 2937, 'poverti': 2938, 'mild': 2939, 'label': 2940, 'stood': 2941, 'mafia': 2942, 'punk': 2943, 'reev': 2944, 'shall': 2945, 'dawson': 2946, 'pit': 2947, 'kubrick': 2948, 'pauli': 2949, 'carrey': 2950, 'fond': 2951, 'burst': 2952, 'useless': 2953, 'terri': 2954, 'easier': 2955, 'smash': 2956, 'cox': 2957, 'cardboard': 2958, 'tag': 2959, 'outcom': 2960, 'assault': 2961, 'updat': 2962, 'smooth': 2963, 'ian': 2964, 'bakshi': 2965, 'astair': 2966, 'increasingli': 2967, 'vulner': 2968, 'vari': 2969, '2002': 2970, 'qualifi': 2971, 'sketch': 2972, 'samurai': 2973, 'fist': 2974, 'resolv': 2975, 'melodramat': 2976, 'exchang': 2977, 'coincid': 2978, 'rex': 2979, 'divers': 2980, 'scratch': 2981, 'be': 2982, 'insert': 2983, 'tame': 2984, 'blast': 2985, 'suspend': 2986, 'brillianc': 2987, 'templ': 2988, 'reynold': 2989, 'luckili': 2990, 'conveni': 2991, 'walker': 2992, 'matthew': 2993, 'nuclear': 2994, 'seventi': 2995, 'gotta': 2996, 'hamilton': 2997, 'strictli': 2998, 'pin': 2999, 'soprano': 3000, 'farm': 3001, 'jami': 3002, 'meat': 3003, 'ambiti': 3004, 'coach': 3005, 'fisher': 3006, 'revers': 3007, 'cave': 3008, 'spooki': 3009, 'timeless': 3010, 'discoveri': 3011, 'closet': 3012, 'worthless': 3013, 'clock': 3014, 'empir': 3015, 'struck': 3016, 'ninja': 3017, 'instantli': 3018, 'joey': 3019, 'eccentr': 3020, 'brosnan': 3021, 'convolut': 3022, 'grasp': 3023, 'kudo': 3024, 'monk': 3025, 'butcher': 3026, 'recreat': 3027, 'clown': 3028, 'pal': 3029, 'partli': 3030, 'norman': 3031, 'bleak': 3032, 'gray': 3033, 'declar': 3034, 'communist': 3035, 'sloppi': 3036, 'evok': 3037, 'inconsist': 3038, 'importantli': 3039, 'selfish': 3040, 'mitchel': 3041, 'eighti': 3042, 'miracl': 3043, 'cliff': 3044, 'fifteen': 3045, 'wipe': 3046, 'seller': 3047, 'sidekick': 3048, 'superbl': 3049, 'seed': 3050, 'aforement': 3051, 'lifestyl': 3052, 'debat': 3053, 'destin': 3054, 'piano': 3055, 'websit': 3056, 'chew': 3057, 'cheek': 3058, 'ho': 3059, 'farc': 3060, '45': 3061, 'psychiatrist': 3062, 'enthusiast': 3063, 'flawless': 3064, 'australia': 3065, 'stoog': 3066, 'bash': 3067, 'dash': 3068, 'wrestl': 3069, 'emili': 3070, 'slice': 3071, 'splatter': 3072, 'dire': 3073, 'directori': 3074, 'soviet': 3075, 'regardless': 3076, 'drivel': 3077, 'wick': 3078, 'pressur': 3079, 'incompet': 3080, 'kitchen': 3081, 'anni': 3082, 'akshay': 3083, 'abc': 3084, 'distant': 3085, 'dave': 3086, 'prize': 3087, 'recov': 3088, 'duo': 3089, 'cagney': 3090, 'jar': 3091, 'doo': 3092, 'suppli': 3093, 'blob': 3094, 'ken': 3095, 'seduc': 3096, 'helicopt': 3097, 'glow': 3098, 'pleasantli': 3099, 'lou': 3100, 'chapter': 3101, 'beaten': 3102, 'boil': 3103, 'increas': 3104, 'cameron': 3105, 'artifici': 3106, 'flower': 3107, 'judi': 3108, 'curios': 3109, 'cia': 3110, 'mann': 3111, 'goldberg': 3112, 'favour': 3113, 'francisco': 3114, 'ranger': 3115, 'eleg': 3116, 'drunken': 3117, 'psychot': 3118, 'panic': 3119, 'web': 3120, 'hop': 3121, 'craig': 3122, 'craven': 3123, 'laurel': 3124, 'perri': 3125, 'turner': 3126, 'glenn': 3127, 'combat': 3128, 'splendid': 3129, 'ellen': 3130, 'greek': 3131, 'rid': 3132, 'slightest': 3133, 'shortli': 3134, 'philosophi': 3135, 'alexand': 3136, 'plausibl': 3137, 'min': 3138, 'wizard': 3139, 'graduat': 3140, 'fx': 3141, 'ruth': 3142, '20th': 3143, 'flip': 3144, 'hatr': 3145, 'gandhi': 3146, 'gentl': 3147, 'falk': 3148, 'modesti': 3149, 'legal': 3150, 'knight': 3151, 'fund': 3152, 'futurist': 3153, 'preciou': 3154, 'holi': 3155, 'tall': 3156, 'lend': 3157, 'ocean': 3158, 'we': 3159, 'manhattan': 3160, 'harm': 3161, 'jealou': 3162, 'unpleas': 3163, 'dracula': 3164, 'felix': 3165, 'childish': 3166, 'forbidden': 3167, 'ami': 3168, 'thread': 3169, 'scientif': 3170, 'mock': 3171, 'nod': 3172, 'bless': 3173, 'digniti': 3174, 'tank': 3175, 'reviv': 3176, 'explicit': 3177, 'overdon': 3178, 'giallo': 3179, 'torment': 3180, 'nerv': 3181, '99': 3182, 'pirat': 3183, 'yesterday': 3184, 'mel': 3185, 'fever': 3186, 'verhoeven': 3187, 'unwatch': 3188, 'eve': 3189, 'elderli': 3190, 'margaret': 3191, 'awe': 3192, '2004': 3193, 'broad': 3194, 'repeatedli': 3195, 'thick': 3196, 'awaken': 3197, 'timothi': 3198, 'kay': 3199, 'absenc': 3200, 'griffith': 3201, 'lean': 3202, 'rivet': 3203, 'ambit': 3204, 'launch': 3205, 'bin': 3206, 'eas': 3207, 'ah': 3208, 'custom': 3209, 'acclaim': 3210, 'roman': 3211, 'publish': 3212, 'uniform': 3213, 'royal': 3214, 'automat': 3215, 'politician': 3216, 'stiller': 3217, 'romero': 3218, 'stinker': 3219, 'transport': 3220, 'gabriel': 3221, 'darker': 3222, 'warren': 3223, 'sunshin': 3224, 'antic': 3225, 'tomato': 3226, 'termin': 3227, 'bathroom': 3228, 'crook': 3229, 'foul': 3230, 'pierc': 3231, 'pulp': 3232, 'wallac': 3233, 'homicid': 3234, 'purpl': 3235, 'phrase': 3236, 'eyr': 3237, 'sixti': 3238, 'brazil': 3239, 'horrid': 3240, 'li': 3241, 'choreographi': 3242, 'viciou': 3243, 'q': 3244, 'juvenil': 3245, 'pray': 3246, 'packag': 3247, 'evolv': 3248, 'revolutionari': 3249, 'prom': 3250, 'ought': 3251, 'hollow': 3252, '2003': 3253, 'marin': 3254, 'karen': 3255, 'donna': 3256, 'kenneth': 3257, 'coloni': 3258, 'saint': 3259, 'contrari': 3260, 'album': 3261, 'rambo': 3262, 'awak': 3263, 'dose': 3264, 'nerd': 3265, 'mummi': 3266, 'conserv': 3267, 'defi': 3268, 'ireland': 3269, 'mildr': 3270, 'twelv': 3271, 'blade': 3272, 'option': 3273, 'boast': 3274, 'candid': 3275, 'ramon': 3276, 'stole': 3277, 'kapoor': 3278, 'beatti': 3279, 'overr': 3280, 'kirk': 3281, 'funer': 3282, 'collabor': 3283, 'confirm': 3284, 'protest': 3285, 'detract': 3286, 'global': 3287, 'trio': 3288, 'flame': 3289, 'natali': 3290, 'altman': 3291, 'jazz': 3292, 'astonish': 3293, 'fulci': 3294, 'enterpris': 3295, 'delici': 3296, 'spit': 3297, 'yellow': 3298, 'mystic': 3299, 'racial': 3300, 'bottl': 3301, 'blake': 3302, 'bull': 3303, 'whip': 3304, 'nicholson': 3305, 'leap': 3306, 'shade': 3307, 'tommi': 3308, 'audio': 3309, 'destini': 3310, 'swedish': 3311, 'reunit': 3312, 'enchant': 3313, 'fonda': 3314, 'merci': 3315, 'adolesc': 3316, 'neo': 3317, 'inherit': 3318, 'threw': 3319, 'altogeth': 3320, 'pseudo': 3321, 'bedroom': 3322, 'todd': 3323, 'visibl': 3324, 'meaningless': 3325, 'vivid': 3326, 'harder': 3327, 'popcorn': 3328, 'staff': 3329, 'befriend': 3330, 'respond': 3331, 'voight': 3332, 'await': 3333, 'roommat': 3334, 'crocodil': 3335, 'leonard': 3336, 'bust': 3337, 'moodi': 3338, 'ruthless': 3339, 'wire': 3340, 'synopsi': 3341, 'lawrenc': 3342, 'tip': 3343, 'fanat': 3344, 'exhibit': 3345, 'decor': 3346, 'uneven': 3347, 'madonna': 3348, 'suspici': 3349, 'kennedi': 3350, 'edi': 3351, 'lemmon': 3352, 'reserv': 3353, 'atlanti': 3354, 'jew': 3355, 'rural': 3356, 'clumsi': 3357, 'dimens': 3358, 'ventur': 3359, 'bold': 3360, 'bradi': 3361, 'incident': 3362, 'chao': 3363, 'audit': 3364, 'centr': 3365, '2007': 3366, 'garner': 3367, 'clint': 3368, 'unsettl': 3369, 'bargain': 3370, 'carl': 3371, 'holli': 3372, 'voyag': 3373, 'abysm': 3374, 'palma': 3375, 'humili': 3376, 'neglect': 3377, 'echo': 3378, 'daddi': 3379, 'troop': 3380, 'versu': 3381, 'tiger': 3382, 'characterist': 3383, 'cari': 3384, '2nd': 3385, 'trail': 3386, 'acknowledg': 3387, 'lit': 3388, 'immigr': 3389, 'wealth': 3390, 'poetic': 3391, 'elimin': 3392, 'ant': 3393, 'cuba': 3394, 'hart': 3395, 'mall': 3396, 'cd': 3397, 'imperson': 3398, 'nearbi': 3399, 'timon': 3400, 'domest': 3401, 'paus': 3402, 'mistaken': 3403, 'saga': 3404, 'celluloid': 3405, 'pun': 3406, 'jeffrey': 3407, 'collaps': 3408, 'mickey': 3409, 'solo': 3410, 'homer': 3411, 'prejudic': 3412, 'repuls': 3413, 'marshal': 3414, 'infect': 3415, 'milk': 3416, 'coffe': 3417, 'equip': 3418, 'inappropri': 3419, 'tribe': 3420, 'promin': 3421, 'interrupt': 3422, 'apolog': 3423, 'pant': 3424, 'inan': 3425, 'assembl': 3426, 'harvey': 3427, '1996': 3428, 'undoubtedli': 3429, 'hbo': 3430, 'ginger': 3431, 'chest': 3432, 'gear': 3433, 'leon': 3434, 'coat': 3435, 'olivi': 3436, 'cake': 3437, 'sore': 3438, 'trace': 3439, 'furthermor': 3440, 'humbl': 3441, 'instant': 3442, 'aveng': 3443, 'solut': 3444, 'highest': 3445, 'retain': 3446, 'vulgar': 3447, 'exot': 3448, 'florida': 3449, 'airplan': 3450, 'embrac': 3451, 'primari': 3452, 'maggi': 3453, 'institut': 3454, 'devast': 3455, 'pen': 3456, 'consum': 3457, 'colleagu': 3458, 'polanski': 3459, 'pot': 3460, 'brooklyn': 3461, 'colonel': 3462, 'jenni': 3463, 'linda': 3464, 'ya': 3465, 'descend': 3466, 'smaller': 3467, 'seduct': 3468, 'disabl': 3469, 'rick': 3470, 'strain': 3471, 'illog': 3472, 'poke': 3473, 'cope': 3474, 'godzilla': 3475, '1999': 3476, 'dutch': 3477, '3rd': 3478, 'principl': 3479, 'gender': 3480, 'bowl': 3481, 'sale': 3482, 'outer': 3483, 'dian': 3484, 'wive': 3485, 'primarili': 3486, 'secondli': 3487, 'beneath': 3488, 'lol': 3489, 'rabbit': 3490, 'mixtur': 3491, 'dud': 3492, 'devoid': 3493, 'cue': 3494, 'inferior': 3495, 'dive': 3496, 'vast': 3497, 'glamor': 3498, 'predecessor': 3499, 'yard': 3500, 'blatant': 3501, 'hal': 3502, 'bubbl': 3503, 'scope': 3504, 'gloriou': 3505, 'gundam': 3506, 'senseless': 3507, 'april': 3508, 'talki': 3509, 'et': 3510, 'simplist': 3511, 'arab': 3512, 'shirley': 3513, 'alert': 3514, 'countrysid': 3515, 'invas': 3516, 'disjoint': 3517, 'domino': 3518, 'hideou': 3519, 'streep': 3520, 'alfr': 3521, 'aggress': 3522, 'breed': 3523, 'shelf': 3524, 'z': 3525, 'museum': 3526, 'casual': 3527, 'trademark': 3528, 'pearl': 3529, 'myer': 3530, 'grinch': 3531, 'garbo': 3532, 'mail': 3533, 'disgrac': 3534, 'vanish': 3535, 'acid': 3536, 'khan': 3537, 'applaud': 3538, 'stack': 3539, 'slide': 3540, 'robinson': 3541, 'loyal': 3542, 'boom': 3543, 'obtain': 3544, 'oz': 3545, 'robberi': 3546, 'illeg': 3547, 'defens': 3548, 'unhappi': 3549, 'rendit': 3550, 'stellar': 3551, 'hopeless': 3552, 'experiment': 3553, 'hardcor': 3554, 'maci': 3555, 'stir': 3556, 'uwe': 3557, 'sh': 3558, 'mayor': 3559, 'tenant': 3560, 'psychic': 3561, 'scroog': 3562, 'span': 3563, 'tempt': 3564, 'craze': 3565, 'dismiss': 3566, 'declin': 3567, 'dicken': 3568, 'counter': 3569, 'incomprehens': 3570, 'wont': 3571, 'rifl': 3572, 'grandfath': 3573, 'spider': 3574, 'hartley': 3575, 'blew': 3576, 'diana': 3577, 'emphasi': 3578, 'recruit': 3579, 'berlin': 3580, 'fri': 3581, 'topless': 3582, 'soccer': 3583, 'amanda': 3584, 'riot': 3585, 'ethnic': 3586, 'porno': 3587, 'sympath': 3588, 'bitch': 3589, 'niro': 3590, 'ration': 3591, 'goer': 3592, 'wet': 3593, 'shed': 3594, 'parad': 3595, 'sibl': 3596, 'justin': 3597, 'intim': 3598, 'woo': 3599, 'resurrect': 3600, 'lumet': 3601, 'revolt': 3602, 'shaw': 3603, 'faster': 3604, 'trashi': 3605, 'choru': 3606, 'steam': 3607, 'commend': 3608, 'region': 3609, 'feminist': 3610, 'wheel': 3611, '00': 3612, 'farmer': 3613, 'slick': 3614, 'weakest': 3615, 'worm': 3616, 'immort': 3617, 'unreal': 3618, 'hesit': 3619, 'andr': 3620, 'gap': 3621, 'hopper': 3622, 'partial': 3623, 'jonathan': 3624, 'biographi': 3625, 'nephew': 3626, 'enlighten': 3627, 'ensur': 3628, 'honesti': 3629, 'eager': 3630, 'dealer': 3631, 'ballet': 3632, 'patriot': 3633, 'rider': 3634, 'lena': 3635, 'wendi': 3636, 'mario': 3637, 'kingdom': 3638, 'util': 3639, 'mutant': 3640, 'skull': 3641, 'safeti': 3642, 'composit': 3643, 'psychopath': 3644, 'charlott': 3645, 'wore': 3646, 'leo': 3647, 'hung': 3648, 'morri': 3649, 'vice': 3650, 'repress': 3651, 'franco': 3652, 'sappi': 3653, 'snap': 3654, 'prequel': 3655, 'blunt': 3656, 'properti': 3657, 'similarli': 3658, 'nostalg': 3659, 'confin': 3660, 'sandra': 3661, 'victori': 3662, 'owen': 3663, 'macarthur': 3664, 'recycl': 3665, 'deed': 3666, 'cg': 3667, 'exit': 3668, 'acquir': 3669, 'tad': 3670, 'bow': 3671, 'drain': 3672, 'rambl': 3673, 'speci': 3674, 'bergman': 3675, 'despair': 3676, 'bonu': 3677, 'dust': 3678, 'campbel': 3679, 'bumbl': 3680, 'repli': 3681, 'rope': 3682, 'snl': 3683, 'pattern': 3684, 'heartbreak': 3685, 'tail': 3686, 'farrel': 3687, 'emperor': 3688, 'montana': 3689, 'valuabl': 3690, 'thru': 3691, 'miseri': 3692, 'latin': 3693, 'hyde': 3694, 'drum': 3695, '1972': 3696, 'dalton': 3697, 'nervou': 3698, 'rocki': 3699, 'strand': 3700, 'kyle': 3701, 'compens': 3702, 'whoopi': 3703, 'compass': 3704, 'del': 3705, 'pour': 3706, 'rotten': 3707, '35': 3708, 'slug': 3709, 'romp': 3710, 'roth': 3711, 'downhil': 3712, 'rapist': 3713, 'percept': 3714, 'wacki': 3715, 'gimmick': 3716, 'oppress': 3717, 'tonight': 3718, 'bleed': 3719, 'orson': 3720, 'radic': 3721, 'airport': 3722, 'mistress': 3723, 'carradin': 3724, 'martian': 3725, 'chess': 3726, 'da': 3727, 'contempl': 3728, 'olli': 3729, 'gal': 3730, 'dazzl': 3731, 'tackl': 3732, 'taught': 3733, '1983': 3734, 'melodi': 3735, 'paltrow': 3736, 'heal': 3737, 'programm': 3738, 'mislead': 3739, 'edgar': 3740, 'arc': 3741, 'champion': 3742, 'preach': 3743, 'attorney': 3744, 'pervers': 3745, 'slash': 3746, 'pursuit': 3747, 'unpredict': 3748, 'stilt': 3749, 'banal': 3750, 'pervert': 3751, 'shelley': 3752, 'arguabl': 3753, 'belt': 3754, 'tooth': 3755, 'orang': 3756, 'bela': 3757, 'vengeanc': 3758, 'employe': 3759, 'graham': 3760, 'tiresom': 3761, 'closest': 3762, 'conneri': 3763, 'chicken': 3764, 'sensat': 3765, 'mesmer': 3766, 'plight': 3767, 'raymond': 3768, 'marti': 3769, 'poem': 3770, 'cleverli': 3771, 'vocal': 3772, 'gambl': 3773, 'rubi': 3774, 'uplift': 3775, 'passeng': 3776, 'maid': 3777, 'virginia': 3778, 'dixon': 3779, 'franki': 3780, 'duval': 3781, 'secretli': 3782, 'mute': 3783, 'yawn': 3784, 'suffic': 3785, 'climact': 3786, '1968': 3787, 'whine': 3788, 'swallow': 3789, 'sirk': 3790, 'amitabh': 3791, 'habit': 3792, 'numb': 3793, 'engross': 3794, 'paranoia': 3795, 'quarter': 3796, 'outing': 3797, 'extens': 3798, 'crystal': 3799, 'bay': 3800, 'inject': 3801, 'profan': 3802, 'calm': 3803, 'gerard': 3804, 'volum': 3805, 'scottish': 3806, 'convincingli': 3807, 'abraham': 3808, 'pokemon': 3809, 'giggl': 3810, 'clone': 3811, 'monologu': 3812, 'iran': 3813, 'tube': 3814, 'lundgren': 3815, 'nichola': 3816, 'dispos': 3817, 'backward': 3818, 'chicago': 3819, 'franci': 3820, 'earl': 3821, 'richardson': 3822, 'bend': 3823, 'junior': 3824, 'trend': 3825, 'austen': 3826, 'profess': 3827, 'im': 3828, 'plod': 3829, 'septemb': 3830, 'taxi': 3831, 'ethan': 3832, 'lowest': 3833, 'expand': 3834, 'grotesqu': 3835, 'frankenstein': 3836, 'meander': 3837, 'linger': 3838, 'poetri': 3839, 'fed': 3840, 'surpass': 3841, 'underst': 3842, 'spock': 3843, 'abort': 3844, 'rubber': 3845, 'descent': 3846, 'household': 3847, 'muddl': 3848, 'nostalgia': 3849, 'literatur': 3850, 'instrument': 3851, 'der': 3852, 'catchi': 3853, 'tourist': 3854, 'cannon': 3855, 'eugen': 3856, 'compliment': 3857, 'waitress': 3858, 'rant': 3859, 'myth': 3860, 'greedi': 3861, 'lure': 3862, 'dysfunct': 3863, 'simplic': 3864, 'spoke': 3865, 'hum': 3866, 'mundan': 3867, 'stallon': 3868, 'econom': 3869, 'sue': 3870, 'firstli': 3871, 'phoni': 3872, 'coast': 3873, 'phantom': 3874, 'equival': 3875, 'mortal': 3876, 'deaf': 3877, 'flee': 3878, 'randi': 3879, 'bacal': 3880, 'hello': 3881, 'sissi': 3882, 'mankind': 3883, 'june': 3884, 'occupi': 3885, 'map': 3886, 'dement': 3887, 'duck': 3888, 'molli': 3889, 'cent': 3890, 'louis': 3891, 'recognit': 3892, 'omen': 3893, 'recognis': 3894, 'irrelev': 3895, 'dictat': 3896, 'carel': 3897, 'alongsid': 3898, 'furi': 3899, 'crucial': 3900, 'eaten': 3901, 'damon': 3902, 'lang': 3903, 'stale': 3904, 'insur': 3905, 'drake': 3906, 'freez': 3907, 'newli': 3908, 'antwon': 3909, 'rude': 3910, 'buffalo': 3911, 'wisdom': 3912, 'likewis': 3913, 'damm': 3914, 'bump': 3915, 'dreari': 3916, 'twilight': 3917, 'heel': 3918, 'rooney': 3919, 'labor': 3920, 'distinguish': 3921, 'lengthi': 3922, 'ashley': 3923, 'grayson': 3924, 'daisi': 3925, 'reign': 3926, 'bike': 3927, 'loyalti': 3928, 'onlin': 3929, 'blackmail': 3930, '1973': 3931, 'cyborg': 3932, 'biko': 3933, 'startl': 3934, 'attribut': 3935, 'boxer': 3936, 'pink': 3937, 'inher': 3938, 'emphas': 3939, 'proce': 3940, 'provoc': 3941, 'unorigin': 3942, 'baddi': 3943, 'interior': 3944, 'worn': 3945, 'ridden': 3946, 'tunnel': 3947, 'barrymor': 3948, 'sailor': 3949, 'vein': 3950, 'basketbal': 3951, 'nineti': 3952, 'approv': 3953, 'exposur': 3954, 'incorpor': 3955, 'chronicl': 3956, 'keith': 3957, 'prey': 3958, 'butler': 3959, 'analysi': 3960, 'unrel': 3961, 'walsh': 3962, 'substitut': 3963, 'undeni': 3964, 'stalker': 3965, 'simmon': 3966, 'barrel': 3967, 'drift': 3968, 'belushi': 3969, 'underli': 3970, 'bunni': 3971, 'predat': 3972, 'degrad': 3973, 'fleet': 3974, 'robbin': 3975, 'mighti': 3976, 'elm': 3977, 'meyer': 3978, 'othello': 3979, 'er': 3980, 'condemn': 3981, 'indiffer': 3982, 'nicol': 3983, 'meg': 3984, 'hypnot': 3985, 'improvis': 3986, 'julian': 3987, 'millionair': 3988, 'mormon': 3989, 'carla': 3990, 'priceless': 3991, 'hay': 3992, 'errol': 3993, 'watson': 3994, 'shove': 3995, 'warmth': 3996, 'edgi': 3997, 'vital': 3998, 'lampoon': 3999, 'disord': 4000, 'rukh': 4001, '3d': 4002, 'nyc': 4003, 'exquisit': 4004, 'mtv': 4005, 'greed': 4006, 'enthusiasm': 4007, 'roof': 4008, 'alison': 4009, 'agenda': 4010, 'alarm': 4011, 'marion': 4012, 'novak': 4013, 'firm': 4014, 'reid': 4015, 'palac': 4016, 'unawar': 4017, 'dolph': 4018, 'valentin': 4019, 'championship': 4020, 'crown': 4021, 'israel': 4022, 'glanc': 4023, 'unleash': 4024, 'drip': 4025, 'pamela': 4026, 'eastern': 4027, 'spain': 4028, 'what': 4029, 'sergeant': 4030, 'session': 4031, 'simultan': 4032, 'iraq': 4033, 'preserv': 4034, 'petti': 4035, 'thompson': 4036, '1933': 4037, 'nun': 4038, 'ponder': 4039, 'beatl': 4040, 'angela': 4041, 'peril': 4042, 'profit': 4043, 'minimum': 4044, 'coup': 4045, 'orlean': 4046, 'randomli': 4047, 'gestur': 4048, '13th': 4049, 'distort': 4050, 'showdown': 4051, 'campaign': 4052, 'testament': 4053, 'cassidi': 4054, 'peck': 4055, 'zizek': 4056, 'regist': 4057, 'calib': 4058, 'gentleman': 4059, 'exposit': 4060, 'realm': 4061, 'cooki': 4062, 'empathi': 4063, 'rout': 4064, 'unimagin': 4065, 'din': 4066, 'contradict': 4067, 'restrain': 4068, 'crow': 4069, 'brenda': 4070, 'reson': 4071, 'scotland': 4072, 'represent': 4073, 'perpetu': 4074, 'stroke': 4075, 'crawl': 4076, 'han': 4077, 'jan': 4078, '1984': 4079, 'kurosawa': 4080, 'wig': 4081, 'shootout': 4082, 'fido': 4083, 'buster': 4084, 'climat': 4085, 'travesti': 4086, 'mon': 4087, 'valley': 4088, 'quinn': 4089, 'bro': 4090, 'stake': 4091, 'cream': 4092, 'miyazaki': 4093, 'sabrina': 4094, 'demis': 4095, 'passabl': 4096, 'absent': 4097, 'sammi': 4098, 'derang': 4099, 'delic': 4100, 'monoton': 4101, 'unsatisfi': 4102, 'shaki': 4103, 'wax': 4104, 'traumat': 4105, 'censor': 4106, '1987': 4107, 'pretens': 4108, 'sucker': 4109, 'josh': 4110, 'pole': 4111, 'geek': 4112, 'cloud': 4113, 'shoddi': 4114, '1997': 4115, 'baldwin': 4116, 'femm': 4117, 'greg': 4118, 'meryl': 4119, 'compromis': 4120, 'spacey': 4121, 'painter': 4122, 'businessman': 4123, 'unseen': 4124, 'perceiv': 4125, 'stargat': 4126, 'tacki': 4127, 'abomin': 4128, 'ross': 4129, 'crawford': 4130, 'darren': 4131, 'warrant': 4132, 'ustinov': 4133, 'soderbergh': 4134, 'distress': 4135, 'mclaglen': 4136, 'dana': 4137, 'fuller': 4138, 'norm': 4139, 'accuraci': 4140, 'expedit': 4141, 'tech': 4142, 'uncov': 4143, 'seal': 4144, 'valid': 4145, 'antonioni': 4146, 'click': 4147, 'deceas': 4148, 'fog': 4149, 'unravel': 4150, 'verbal': 4151, 'wholli': 4152, 'furiou': 4153, 'primit': 4154, 'sid': 4155, 'austin': 4156, 'dee': 4157, 'polici': 4158, 'fenc': 4159, 'clash': 4160, 'exclus': 4161, 'jewel': 4162, 'deniro': 4163, 'reluct': 4164, 'judgment': 4165, 'kumar': 4166, 'tarantino': 4167, 'anchor': 4168, 'correctli': 4169, 'nathan': 4170, '1993': 4171, 'darn': 4172, 'sunni': 4173, 'sand': 4174, '1971': 4175, 'logan': 4176, '1995': 4177, 'malon': 4178, 'seldom': 4179, 'wretch': 4180, 'wang': 4181, 'unfair': 4182, 'roller': 4183, 'crippl': 4184, 'conduct': 4185, 'fabric': 4186, 'ritual': 4187, 'debt': 4188, 'fart': 4189, 'alec': 4190, 'temper': 4191, 'vanc': 4192, '2008': 4193, 'slam': 4194, 'mode': 4195, 'enforc': 4196, 'fought': 4197, 'hallucin': 4198, 'pocket': 4199, 'patienc': 4200, 'sustain': 4201, 'trait': 4202, 'behold': 4203, 'shanghai': 4204, 'clerk': 4205, 'murray': 4206, 'dreck': 4207, 'joel': 4208, '3000': 4209, 'sheet': 4210, 'tax': 4211, 'nicola': 4212, 'bake': 4213, 'despis': 4214, 'exhaust': 4215, 'shell': 4216, 'fundament': 4217, 'isabel': 4218, 'grief': 4219, 'runner': 4220, 'scriptwrit': 4221, 'guitar': 4222, 'sweep': 4223, 'preposter': 4224, 'stuart': 4225, 'canyon': 4226, 'conscious': 4227, 'pete': 4228, 'robber': 4229, 'phil': 4230, 'preston': 4231, 'rita': 4232, 'divid': 4233, 'clau': 4234, 'bias': 4235, 'technicolor': 4236, 'stark': 4237, 'outlin': 4238, 'critiqu': 4239, 'tactic': 4240, 'penni': 4241, 'squad': 4242, 'legaci': 4243, 'soup': 4244, 'bridget': 4245, 'schedul': 4246, 'helpless': 4247, 'liberti': 4248, 'passag': 4249, 'cigarett': 4250, 'restrict': 4251, 'unexpectedli': 4252, 'flair': 4253, 'sugar': 4254, 'invad': 4255, 'jodi': 4256, 'boyl': 4257, 'drove': 4258, 'delv': 4259, 'bloom': 4260, 'lacklust': 4261, 'downey': 4262, 'kansa': 4263, 'sentinel': 4264, 'sniper': 4265, 'jacket': 4266, 'rear': 4267, 'newman': 4268, 'inabl': 4269, 'culmin': 4270, 'alley': 4271, 'vomit': 4272, 'alicia': 4273, 'rehash': 4274, 'implic': 4275, 'russia': 4276, 'connor': 4277, 'agenc': 4278, 'propos': 4279, 'marc': 4280, 'gregori': 4281, 'palanc': 4282, 'consciou': 4283, 'pale': 4284, 'rehears': 4285, 'tripe': 4286, 'delet': 4287, 'awhil': 4288, 'sharon': 4289, 'ladder': 4290, 'lush': 4291, 'chainsaw': 4292, 'horn': 4293, 'karl': 4294, 'asylum': 4295, 'rampag': 4296, 'bacon': 4297, 'feat': 4298, 'wrench': 4299, '1936': 4300, 'behaviour': 4301, 'yeti': 4302, 'kolchak': 4303, 'tendenc': 4304, 'foxx': 4305, 'mccoy': 4306, 'vet': 4307, 'cap': 4308, 'aesthet': 4309, 'arrow': 4310, '22': 4311, 'rod': 4312, 'improb': 4313, 'suffici': 4314, 'globe': 4315, '1920': 4316, 'hackney': 4317, 'fright': 4318, 'el': 4319, 'rhythm': 4320, 'elit': 4321, 'tomorrow': 4322, 'spice': 4323, 'visitor': 4324, 'paramount': 4325, 'prank': 4326, 'coaster': 4327, 'weav': 4328, 'financ': 4329, 'loneli': 4330, 'hulk': 4331, 'underneath': 4332, '19th': 4333, 'aristocrat': 4334, 'thunderbird': 4335, 'suspicion': 4336, '1988': 4337, 'wildli': 4338, 'basing': 4339, 'stream': 4340, 'lurk': 4341, 'paradis': 4342, 'minu': 4343, 'sung': 4344, 'hungri': 4345, 'conscienc': 4346, 'amazon': 4347, '1978': 4348, 'tasteless': 4349, 'rumor': 4350, 'newcom': 4351, 'shortcom': 4352, 'scoop': 4353, 'wagner': 4354, 'filler': 4355, 'choppi': 4356, 'inmat': 4357, 'impos': 4358, 'smell': 4359, 'immers': 4360, '1989': 4361, 'worship': 4362, 'ram': 4363, 'recogniz': 4364, 'dirt': 4365, 'beverli': 4366, '75': 4367, 'penn': 4368, 'atroc': 4369, 'quietli': 4370, 'iv': 4371, 'brit': 4372, 'paxton': 4373, 'minist': 4374, 'chamberlain': 4375, '1939': 4376, 'chavez': 4377, 'leigh': 4378, 'couch': 4379, 'posey': 4380, 'heist': 4381, 'standout': 4382, 'ingeni': 4383, 'literari': 4384, 'secondari': 4385, 'abrupt': 4386, 'straightforward': 4387, 'counterpart': 4388, 'en': 4389, 'springer': 4390, 'cancer': 4391, 'hopkin': 4392, 'rub': 4393, 'grudg': 4394, 'bread': 4395, 'curli': 4396, 'lectur': 4397, 'teas': 4398, 'naughti': 4399, 'entranc': 4400, 'tierney': 4401, 'wwe': 4402, 'duel': 4403, 'quaid': 4404, 'ratso': 4405, 'misguid': 4406, 'sublim': 4407, '1986': 4408, 'heartfelt': 4409, 'nemesi': 4410, 'net': 4411, 'moreov': 4412, 'missil': 4413, 'morbid': 4414, 'variat': 4415, 'bernard': 4416, 'clan': 4417, 'transcend': 4418, 'geni': 4419, 'policeman': 4420, 'laurenc': 4421, 'attenborough': 4422, 'cattl': 4423, 'sassi': 4424, 'skeptic': 4425, 'yearn': 4426, 'watcher': 4427, 'injuri': 4428, 'lindsay': 4429, 'ace': 4430, 'enthral': 4431, 'nolan': 4432, 'convert': 4433, 'entitl': 4434, 'esther': 4435, 'enabl': 4436, 'setup': 4437, 'unexplain': 4438, '1979': 4439, 'hk': 4440, 'tyler': 4441, 'poe': 4442, 'youngest': 4443, 'spiral': 4444, 'buzz': 4445, 'brood': 4446, 'hopelessli': 4447, 'characteris': 4448, 'out': 4449, 'mytholog': 4450, 'puppi': 4451, 'reliabl': 4452, 'artsi': 4453, 'rosemari': 4454, 'bean': 4455, 'facil': 4456, 'dont': 4457, 'moder': 4458, 'uncut': 4459, 'graini': 4460, 'cruelti': 4461, 'kidman': 4462, 'diari': 4463, 'egg': 4464, 'obstacl': 4465, 'carlito': 4466, 'steadi': 4467, 'bye': 4468, 'grin': 4469, 'vader': 4470, 'kitti': 4471, 'bewar': 4472, 'acquaint': 4473, 'bounc': 4474, 'narrow': 4475, '1969': 4476, 'athlet': 4477, 'bronson': 4478, 'spontan': 4479, 'underworld': 4480, 'niec': 4481, 'fuel': 4482, 'oblig': 4483, 'clueless': 4484, 'heap': 4485, 'gillian': 4486, 'despic': 4487, 'exterior': 4488, 'sweat': 4489, 'effici': 4490, 'patricia': 4491, 'martha': 4492, 'hammi': 4493, 'disastr': 4494, 'decept': 4495, 'gina': 4496, 'weather': 4497, 'preming': 4498, 'brendan': 4499, 'christin': 4500, 'kline': 4501, 'hain': 4502, 'baffl': 4503, 'viewpoint': 4504, 'uh': 4505, 'insipid': 4506, 'tick': 4507, 'scar': 4508, 'virtu': 4509, 'analyz': 4510, 'trigger': 4511, 'taboo': 4512, 'astound': 4513, 'sooner': 4514, 'goof': 4515, 'headach': 4516, 'shatter': 4517, 'injur': 4518, 'lester': 4519, 'loi': 4520, 'angst': 4521, 'candl': 4522, 'renaiss': 4523, 'rome': 4524, '19': 4525, '73': 4526, 'loath': 4527, 'sleepwalk': 4528, 'preachi': 4529, 'outlaw': 4530, 'hepburn': 4531, 'circu': 4532, 'dandi': 4533, 'fontain': 4534, 'suprem': 4535, 'dilemma': 4536, 'mermaid': 4537, 'biker': 4538, 'mayhem': 4539, 'housewif': 4540, 'harmless': 4541, 'enlist': 4542, 'corbett': 4543, 'gere': 4544, 'overlong': 4545, 'steer': 4546, 'hooker': 4547, 'intric': 4548, 'fluff': 4549, 'amor': 4550, 'camcord': 4551, 'salt': 4552, 'slimi': 4553, 'oldest': 4554, 'macho': 4555, 'idol': 4556, 'immatur': 4557, 'ebert': 4558, 'zoom': 4559, 'sox': 4560, 'dish': 4561, 'whore': 4562, 'bent': 4563, 'filth': 4564, 'foolish': 4565, 'scorses': 4566, 'tripl': 4567, 'hostag': 4568, 'spade': 4569, 'glorifi': 4570, 'boston': 4571, 'dismal': 4572, 'phenomenon': 4573, 'stimul': 4574, 'hokey': 4575, 'ariel': 4576, 'contempt': 4577, 'stair': 4578, 'redund': 4579, 'claustrophob': 4580, 'cassavet': 4581, 'guin': 4582, 'surgeri': 4583, 'joker': 4584, 'astronaut': 4585, 'margin': 4586, 'shield': 4587, 'proport': 4588, 'spree': 4589, 'dwarf': 4590, 'messi': 4591, 'radiat': 4592, '1981': 4593, 'gabl': 4594, 'spinal': 4595, 'gasp': 4596, 'strongest': 4597, 'beard': 4598, 'mount': 4599, 'flashi': 4600, 'cow': 4601, 'down': 4602, 'harold': 4603, 'flag': 4604, 'remad': 4605, 'obligatori': 4606, '1976': 4607, 'frantic': 4608, 'alvin': 4609, 'keen': 4610, 'fascist': 4611, 'rhyme': 4612, 'muscl': 4613, 'conquer': 4614, 'preced': 4615, 'naschi': 4616, 'assert': 4617, 'antagonist': 4618, 'faint': 4619, 'nolt': 4620, 'schlock': 4621, 'cohen': 4622, 'flirt': 4623, 'zane': 4624, 'widescreen': 4625, 'trivia': 4626, 'corman': 4627, 'shred': 4628, 'perman': 4629, 'mutual': 4630, 'cush': 4631, 'transplant': 4632, 'triangl': 4633, 'bitten': 4634, '1945': 4635, 'deer': 4636, 'flock': 4637, 'discern': 4638, 'sensual': 4639, 'interestingli': 4640, 'mol': 4641, 'carey': 4642, 'someday': 4643, 'persuad': 4644, 'bachelor': 4645, 'brush': 4646, 'boob': 4647, 'danish': 4648, 'ritchi': 4649, 'off': 4650, 'wield': 4651, 'repris': 4652, 'inflict': 4653, 'divin': 4654, 'strive': 4655, 'fishburn': 4656, 'scandal': 4657, 'hara': 4658, 'neurot': 4659, 'aborigin': 4660, 'claud': 4661, 'barn': 4662, 'raj': 4663, '28': 4664, '95': 4665, 'www': 4666, 'instruct': 4667, 'archiv': 4668, 'info': 4669, 'departur': 4670, 'resum': 4671, 'vaniti': 4672, 'mobil': 4673, 'cher': 4674, 'submit': 4675, 'vibrant': 4676, 'rot': 4677, 'bate': 4678, 'axe': 4679, 'proclaim': 4680, 'banter': 4681, 'hug': 4682, 'frontier': 4683, 'europa': 4684, 'pixar': 4685, 'cb': 4686, 'cliffhang': 4687, 'ish': 4688, 'anton': 4689, 'dim': 4690, 'parson': 4691, 'prophet': 4692, 'fragil': 4693, 'helm': 4694, 'earnest': 4695, 'recit': 4696, 'neill': 4697, 'pickford': 4698, 'hapless': 4699, 'biblic': 4700, 'senior': 4701, 'dame': 4702, 'miracul': 4703, 'undermin': 4704, 'artwork': 4705, 'hilar': 4706, 'timberlak': 4707, 'dylan': 4708, 'cycl': 4709, 'kathryn': 4710, 'casino': 4711, 'traffic': 4712, 'clad': 4713, 'loretta': 4714, 'pacif': 4715, 'heartwarm': 4716, 'mobster': 4717, 'jade': 4718, 'colin': 4719, 'carlo': 4720, 'melissa': 4721, 'harrison': 4722, 'luka': 4723, 'wendigo': 4724, 'akin': 4725, 'redneck': 4726, 'seedi': 4727, 'isra': 4728, 'nope': 4729, 'choke': 4730, 'shepherd': 4731, 'breakfast': 4732, 'pc': 4733, 'flavor': 4734, 'holocaust': 4735, 'http': 4736, 'trier': 4737, 'rooki': 4738, 'misfortun': 4739, 'orphan': 4740, 'blatantli': 4741, 'marlon': 4742, 'articl': 4743, 'token': 4744, 'cerebr': 4745, 'legitim': 4746, 'illus': 4747, 'toronto': 4748, 'wardrob': 4749, 'northern': 4750, 'estrang': 4751, 'lucil': 4752, 'eli': 4753, 'vile': 4754, 'vanessa': 4755, 'feast': 4756, 'mason': 4757, 'lui': 4758, 'aris': 4759, 'razor': 4760, 'bikini': 4761, 'static': 4762, 'antholog': 4763, 'bondag': 4764, 'jordan': 4765, 'milo': 4766, 'foil': 4767, 'uma': 4768, 'winchest': 4769, 'sicken': 4770, 'alexandr': 4771, 'jo': 4772, 'mathieu': 4773, 'electron': 4774, 'venom': 4775, 'disregard': 4776, 'gilbert': 4777, 'wrestler': 4778, 'ceremoni': 4779, 'oppon': 4780, 'outdat': 4781, 'peer': 4782, 'gunga': 4783, 'affleck': 4784, 'retriev': 4785, 'styliz': 4786, 'charlton': 4787, 'deem': 4788, 'clinic': 4789, 'knightley': 4790, 'smack': 4791, 'swept': 4792, 'cartoonish': 4793, 'highway': 4794, 'feminin': 4795, 'ideolog': 4796, 'audrey': 4797, 'fifth': 4798, 'dudley': 4799, 'abund': 4800, 'tack': 4801, 'shorter': 4802, 'psych': 4803, 'howl': 4804, 'glare': 4805, 'nightclub': 4806, 'leather': 4807, 'turd': 4808, 'frog': 4809, 'boyer': 4810, 'magician': 4811, 'linear': 4812, 'comprehend': 4813, 'huston': 4814, 'btw': 4815, 'compris': 4816, 'tara': 4817, 'bastard': 4818, 'potter': 4819, 'senat': 4820, '4th': 4821, 'toe': 4822, 'phenomen': 4823, 'spawn': 4824, 'boo': 4825, 'collector': 4826, 'newer': 4827, 'client': 4828, 'evolut': 4829, 'whack': 4830, 'breakdown': 4831, 'bogu': 4832, 'lighter': 4833, 'cuban': 4834, 'greet': 4835, 'deliver': 4836, 'mitch': 4837, 'chip': 4838, 'conrad': 4839, 'uniformli': 4840, 'lifeless': 4841, '1994': 4842, 'plate': 4843, 'salman': 4844, 'corn': 4845, '1991': 4846, 'durat': 4847, 'monument': 4848, 'lavish': 4849, 'energet': 4850, 'einstein': 4851, 'cemeteri': 4852, 'summar': 4853, 'spine': 4854, 'braveheart': 4855, 'moe': 4856, 'snatch': 4857, 'goldsworthi': 4858, 'sleaz': 4859, 'occup': 4860, 'historian': 4861, 'fluid': 4862, 'cecil': 4863, '1977': 4864, 'ie': 4865, 'pronounc': 4866, 'ol': 4867, 'clara': 4868, 'eleven': 4869, 'mcqueen': 4870, 'bori': 4871, 'healthi': 4872, 'bulk': 4873, 'replay': 4874, 'sorrow': 4875, 'lex': 4876, 'capot': 4877, 'belli': 4878, 'evelyn': 4879, 'alleg': 4880, 'nina': 4881, 'jule': 4882, '1974': 4883, 'judd': 4884, 'signal': 4885, 'wtf': 4886, 'neatli': 4887, 'gilliam': 4888, 'spectacl': 4889, 'jam': 4890, 'appl': 4891, 'firmli': 4892, 'constitut': 4893, 'luxuri': 4894, 'embark': 4895, 'randolph': 4896, 'kent': 4897, 'inaccuraci': 4898, 'undead': 4899, 'outright': 4900, 'armstrong': 4901, 'undertak': 4902, 'jare': 4903, 'jedi': 4904, 'creek': 4905, 'kazan': 4906, 'trauma': 4907, 'liu': 4908, 'bait': 4909, 'unsuspect': 4910, 'roar': 4911, 'palm': 4912, 'porter': 4913, 'relentless': 4914, 'ash': 4915, 'genet': 4916, 'propheci': 4917, 'subtli': 4918, 'mum': 4919, 'inclus': 4920, 'carmen': 4921, 'antonio': 4922, 'basket': 4923, 'fruit': 4924, 'comprehens': 4925, 'pioneer': 4926, 'cape': 4927, 'vignett': 4928, 'comb': 4929, 'meal': 4930, 'vain': 4931, 'miami': 4932, 'sacrif': 4933, 'spray': 4934, 'truman': 4935, 'poker': 4936, 'lauren': 4937, 'miniseri': 4938, 'curtain': 4939, 'kiddi': 4940, 'tokyo': 4941, 'decapit': 4942, 'pepper': 4943, 'walt': 4944, 'sidewalk': 4945, 'unattract': 4946, 'knee': 4947, 'forgiven': 4948, 'groan': 4949, 'id': 4950, 'inaccur': 4951, 'bsg': 4952, 'abound': 4953, 'conan': 4954, '1985': 4955, 'blur': 4956, 'galaxi': 4957, 'lanc': 4958, 'goldblum': 4959, 'aussi': 4960, 'congratul': 4961, 'paula': 4962, 'rosario': 4963, 'omin': 4964, 'asset': 4965, 'verg': 4966, 'ghetto': 4967, 'growth': 4968, 'spill': 4969, 'optimist': 4970, 'hostil': 4971, 'weaker': 4972, 'substanti': 4973, 'sparkl': 4974, 'mice': 4975, 'rapidli': 4976, 'turtl': 4977, 'bravo': 4978, 'frontal': 4979, 'victorian': 4980, 'dubiou': 4981, 'monti': 4982, '21st': 4983, 'masterson': 4984, 'playboy': 4985, 'jill': 4986, 'macabr': 4987, 'orchestr': 4988, 'scarfac': 4989, 'cypher': 4990, 'epitom': 4991, 'profil': 4992, 'ingrid': 4993, 'hackman': 4994, 'detach': 4995, 'incorrect': 4996, 'weari': 4997, 'vastli': 4998, 'sophi': 4999}\n"
     ]
    }
   ],
   "source": [
    "word_dict = build_dict(train_X)\n",
    "print(word_dict)"
   ]
  },
  {
   "cell_type": "markdown",
   "metadata": {},
   "source": [
    "**Question:** What are the five most frequently appearing (tokenized) words in the training set? Does it makes sense that these words appear frequently in the training set?"
   ]
  },
  {
   "cell_type": "markdown",
   "metadata": {},
   "source": [
    "**Answer:**  Five most frequently appearing (tokenized) words in the training set are movie,film,one,like,time. Yes, since its about a comment about a movie or film, it can be something like \"i like this film or movie\" or \"it's my fifth time watching this movie\""
   ]
  },
  {
   "cell_type": "code",
   "execution_count": 14,
   "metadata": {},
   "outputs": [
    {
     "name": "stdout",
     "output_type": "stream",
     "text": [
      "['movi', 'film', 'one', 'like', 'time']\n"
     ]
    }
   ],
   "source": [
    "# TODO: Use this space to determine the five most frequently appearing words in the training set.\n",
    "print(list(word_dict.keys())[0:5])"
   ]
  },
  {
   "cell_type": "markdown",
   "metadata": {},
   "source": [
    "### Save `word_dict`\n",
    "\n",
    "Later on when we construct an endpoint which processes a submitted review we will need to make use of the `word_dict` which we have created. As such, we will save it to a file now for future use."
   ]
  },
  {
   "cell_type": "code",
   "execution_count": 15,
   "metadata": {},
   "outputs": [],
   "source": [
    "data_dir = '../data/pytorch' # The folder we will use for storing data\n",
    "if not os.path.exists(data_dir): # Make sure that the folder exists\n",
    "    os.makedirs(data_dir)"
   ]
  },
  {
   "cell_type": "code",
   "execution_count": 16,
   "metadata": {},
   "outputs": [],
   "source": [
    "with open(os.path.join(data_dir, 'word_dict.pkl'), \"wb\") as f:\n",
    "    pickle.dump(word_dict, f)"
   ]
  },
  {
   "cell_type": "markdown",
   "metadata": {},
   "source": [
    "### Transform the reviews\n",
    "\n",
    "Now that we have our word dictionary which allows us to transform the words appearing in the reviews into integers, it is time to make use of it and convert our reviews to their integer sequence representation, making sure to pad or truncate to a fixed length, which in our case is `500`."
   ]
  },
  {
   "cell_type": "code",
   "execution_count": 17,
   "metadata": {},
   "outputs": [],
   "source": [
    "def convert_and_pad(word_dict, sentence, pad=500):\n",
    "    NOWORD = 0 # We will use 0 to represent the 'no word' category\n",
    "    INFREQ = 1 # and we use 1 to represent the infrequent words, i.e., words not appearing in word_dict\n",
    "    \n",
    "    working_sentence = [NOWORD] * pad\n",
    "    \n",
    "    for word_index, word in enumerate(sentence[:pad]):\n",
    "        if word in word_dict:\n",
    "            working_sentence[word_index] = word_dict[word]\n",
    "        else:\n",
    "            working_sentence[word_index] = INFREQ\n",
    "            \n",
    "    return working_sentence, min(len(sentence), pad)\n",
    "\n",
    "def convert_and_pad_data(word_dict, data, pad=500):\n",
    "    result = []\n",
    "    lengths = []\n",
    "    \n",
    "    for sentence in data:\n",
    "        converted, leng = convert_and_pad(word_dict, sentence, pad)\n",
    "        result.append(converted)\n",
    "        lengths.append(leng)\n",
    "        \n",
    "    return np.array(result), np.array(lengths)"
   ]
  },
  {
   "cell_type": "code",
   "execution_count": 18,
   "metadata": {},
   "outputs": [],
   "source": [
    "train_X, train_X_len = convert_and_pad_data(word_dict, train_X)\n",
    "test_X, test_X_len = convert_and_pad_data(word_dict, test_X)"
   ]
  },
  {
   "cell_type": "markdown",
   "metadata": {},
   "source": [
    "As a quick check to make sure that things are working as intended, check to see what one of the reviews in the training set looks like after having been processeed. Does this look reasonable? What is the length of a review in the training set?"
   ]
  },
  {
   "cell_type": "code",
   "execution_count": 19,
   "metadata": {},
   "outputs": [
    {
     "data": {
      "text/plain": [
       "array([  16,    5,    2,   14,   74,  153,    5,  154,   59,  241, 2004,\n",
       "       1880,  315,   11,   70, 2005,    2,  158,   16, 2004, 1880,  154,\n",
       "         16,  238,  148,    2,  300, 1671,  148,  106,   21,    9,  561,\n",
       "        269,  171,  154,   16,  475,  135,    2,   43,  352,   16,   32,\n",
       "          5,   32,    5,  154,  120,   56,  158,  135,    2,   49,  171,\n",
       "         93,  588, 2004, 1880,  154,   43,  352,   16,  111,    9,  300,\n",
       "         20,  669,    2,  116,  166,  300,   39,    5,   43,  352,   16,\n",
       "        656,    9,  300,   57,    2,   83,   83,    0,    0,    0,    0,\n",
       "          0,    0,    0,    0,    0,    0,    0,    0,    0,    0,    0,\n",
       "          0,    0,    0,    0,    0,    0,    0,    0,    0,    0,    0,\n",
       "          0,    0,    0,    0,    0,    0,    0,    0,    0,    0,    0,\n",
       "          0,    0,    0,    0,    0,    0,    0,    0,    0,    0,    0,\n",
       "          0,    0,    0,    0,    0,    0,    0,    0,    0,    0,    0,\n",
       "          0,    0,    0,    0,    0,    0,    0,    0,    0,    0,    0,\n",
       "          0,    0,    0,    0,    0,    0,    0,    0,    0,    0,    0,\n",
       "          0,    0,    0,    0,    0,    0,    0,    0,    0,    0,    0,\n",
       "          0,    0,    0,    0,    0,    0,    0,    0,    0,    0,    0,\n",
       "          0,    0,    0,    0,    0,    0,    0,    0,    0,    0,    0,\n",
       "          0,    0,    0,    0,    0,    0,    0,    0,    0,    0,    0,\n",
       "          0,    0,    0,    0,    0,    0,    0,    0,    0,    0,    0,\n",
       "          0,    0,    0,    0,    0,    0,    0,    0,    0,    0,    0,\n",
       "          0,    0,    0,    0,    0,    0,    0,    0,    0,    0,    0,\n",
       "          0,    0,    0,    0,    0,    0,    0,    0,    0,    0,    0,\n",
       "          0,    0,    0,    0,    0,    0,    0,    0,    0,    0,    0,\n",
       "          0,    0,    0,    0,    0,    0,    0,    0,    0,    0,    0,\n",
       "          0,    0,    0,    0,    0,    0,    0,    0,    0,    0,    0,\n",
       "          0,    0,    0,    0,    0,    0,    0,    0,    0,    0,    0,\n",
       "          0,    0,    0,    0,    0,    0,    0,    0,    0,    0,    0,\n",
       "          0,    0,    0,    0,    0,    0,    0,    0,    0,    0,    0,\n",
       "          0,    0,    0,    0,    0,    0,    0,    0,    0,    0,    0,\n",
       "          0,    0,    0,    0,    0,    0,    0,    0,    0,    0,    0,\n",
       "          0,    0,    0,    0,    0,    0,    0,    0,    0,    0,    0,\n",
       "          0,    0,    0,    0,    0,    0,    0,    0,    0,    0,    0,\n",
       "          0,    0,    0,    0,    0,    0,    0,    0,    0,    0,    0,\n",
       "          0,    0,    0,    0,    0,    0,    0,    0,    0,    0,    0,\n",
       "          0,    0,    0,    0,    0,    0,    0,    0,    0,    0,    0,\n",
       "          0,    0,    0,    0,    0,    0,    0,    0,    0,    0,    0,\n",
       "          0,    0,    0,    0,    0,    0,    0,    0,    0,    0,    0,\n",
       "          0,    0,    0,    0,    0,    0,    0,    0,    0,    0,    0,\n",
       "          0,    0,    0,    0,    0,    0,    0,    0,    0,    0,    0,\n",
       "          0,    0,    0,    0,    0,    0,    0,    0,    0,    0,    0,\n",
       "          0,    0,    0,    0,    0,    0,    0,    0,    0,    0,    0,\n",
       "          0,    0,    0,    0,    0,    0,    0,    0,    0,    0,    0,\n",
       "          0,    0,    0,    0,    0,    0,    0,    0,    0,    0,    0,\n",
       "          0,    0,    0,    0,    0,    0,    0,    0,    0,    0,    0,\n",
       "          0,    0,    0,    0,    0])"
      ]
     },
     "execution_count": 19,
     "metadata": {},
     "output_type": "execute_result"
    }
   ],
   "source": [
    "# Use this cell to examine one of the processed reviews to make sure everything is working as intended.\n",
    "train_X[0]"
   ]
  },
  {
   "cell_type": "markdown",
   "metadata": {},
   "source": [
    "**Question:** In the cells above we use the `preprocess_data` and `convert_and_pad_data` methods to process both the training and testing set. Why or why not might this be a problem?"
   ]
  },
  {
   "cell_type": "markdown",
   "metadata": {},
   "source": [
    "**Answer:**This is not a problem because training and test sets are made of a similar kind of data and we should apply these processes to clean the data from problems such as punctuations"
   ]
  },
  {
   "cell_type": "markdown",
   "metadata": {},
   "source": [
    "## Step 3: Upload the data to S3\n",
    "\n",
    "As in the XGBoost notebook, we will need to upload the training dataset to S3 in order for our training code to access it. For now we will save it locally and we will upload to S3 later on.\n",
    "\n",
    "### Save the processed training dataset locally\n",
    "\n",
    "It is important to note the format of the data that we are saving as we will need to know it when we write the training code. In our case, each row of the dataset has the form `label`, `length`, `review[500]` where `review[500]` is a sequence of `500` integers representing the words in the review."
   ]
  },
  {
   "cell_type": "code",
   "execution_count": 20,
   "metadata": {},
   "outputs": [],
   "source": [
    "import pandas as pd\n",
    "    \n",
    "pd.concat([pd.DataFrame(train_y), pd.DataFrame(train_X_len), pd.DataFrame(train_X)], axis=1) \\\n",
    "        .to_csv(os.path.join(data_dir, 'train.csv'), header=False, index=False)"
   ]
  },
  {
   "cell_type": "markdown",
   "metadata": {},
   "source": [
    "### Uploading the training data\n",
    "\n",
    "\n",
    "Next, we need to upload the training data to the SageMaker default S3 bucket so that we can provide access to it while training our model."
   ]
  },
  {
   "cell_type": "code",
   "execution_count": 21,
   "metadata": {},
   "outputs": [],
   "source": [
    "import sagemaker\n",
    "\n",
    "sagemaker_session = sagemaker.Session()\n",
    "\n",
    "bucket = sagemaker_session.default_bucket()\n",
    "prefix = 'sagemaker/sentiment_rnn'\n",
    "\n",
    "role = sagemaker.get_execution_role()"
   ]
  },
  {
   "cell_type": "code",
   "execution_count": 22,
   "metadata": {},
   "outputs": [],
   "source": [
    "input_data = sagemaker_session.upload_data(path=data_dir, bucket=bucket, key_prefix=prefix)"
   ]
  },
  {
   "cell_type": "markdown",
   "metadata": {},
   "source": [
    "**NOTE:** The cell above uploads the entire contents of our data directory. This includes the `word_dict.pkl` file. This is fortunate as we will need this later on when we create an endpoint that accepts an arbitrary review. For now, we will just take note of the fact that it resides in the data directory (and so also in the S3 training bucket) and that we will need to make sure it gets saved in the model directory."
   ]
  },
  {
   "cell_type": "markdown",
   "metadata": {},
   "source": [
    "## Step 4: Build and Train the PyTorch Model\n",
    "\n",
    "In the XGBoost notebook we discussed what a model is in the SageMaker framework. In particular, a model comprises three objects\n",
    "\n",
    " - Model Artifacts,\n",
    " - Training Code, and\n",
    " - Inference Code,\n",
    " \n",
    "each of which interact with one another. In the XGBoost example we used training and inference code that was provided by Amazon. Here we will still be using containers provided by Amazon with the added benefit of being able to include our own custom code.\n",
    "\n",
    "We will start by implementing our own neural network in PyTorch along with a training script. For the purposes of this project we have provided the necessary model object in the `model.py` file, inside of the `train` folder. You can see the provided implementation by running the cell below."
   ]
  },
  {
   "cell_type": "code",
   "execution_count": 23,
   "metadata": {},
   "outputs": [
    {
     "name": "stdout",
     "output_type": "stream",
     "text": [
      "\u001b[34mimport\u001b[39;49;00m \u001b[04m\u001b[36mtorch.nn\u001b[39;49;00m \u001b[34mas\u001b[39;49;00m \u001b[04m\u001b[36mnn\u001b[39;49;00m\r\n",
      "\r\n",
      "\u001b[34mclass\u001b[39;49;00m \u001b[04m\u001b[32mLSTMClassifier\u001b[39;49;00m(nn.Module):\r\n",
      "    \u001b[33m\"\"\"\u001b[39;49;00m\r\n",
      "\u001b[33m    This is the simple RNN model we will be using to perform Sentiment Analysis.\u001b[39;49;00m\r\n",
      "\u001b[33m    \"\"\"\u001b[39;49;00m\r\n",
      "\r\n",
      "    \u001b[34mdef\u001b[39;49;00m \u001b[32m__init__\u001b[39;49;00m(\u001b[36mself\u001b[39;49;00m, embedding_dim, hidden_dim, vocab_size):\r\n",
      "        \u001b[33m\"\"\"\u001b[39;49;00m\r\n",
      "\u001b[33m        Initialize the model by settingg up the various layers.\u001b[39;49;00m\r\n",
      "\u001b[33m        \"\"\"\u001b[39;49;00m\r\n",
      "        \u001b[36msuper\u001b[39;49;00m(LSTMClassifier, \u001b[36mself\u001b[39;49;00m).\u001b[32m__init__\u001b[39;49;00m()\r\n",
      "\r\n",
      "        \u001b[36mself\u001b[39;49;00m.embedding = nn.Embedding(vocab_size, embedding_dim, padding_idx=\u001b[34m0\u001b[39;49;00m)\r\n",
      "        \u001b[36mself\u001b[39;49;00m.lstm = nn.LSTM(embedding_dim, hidden_dim)\r\n",
      "        \u001b[36mself\u001b[39;49;00m.dense = nn.Linear(in_features=hidden_dim, out_features=\u001b[34m1\u001b[39;49;00m)\r\n",
      "        \u001b[36mself\u001b[39;49;00m.sig = nn.Sigmoid()\r\n",
      "        \r\n",
      "        \u001b[36mself\u001b[39;49;00m.word_dict = \u001b[36mNone\u001b[39;49;00m\r\n",
      "\r\n",
      "    \u001b[34mdef\u001b[39;49;00m \u001b[32mforward\u001b[39;49;00m(\u001b[36mself\u001b[39;49;00m, x):\r\n",
      "        \u001b[33m\"\"\"\u001b[39;49;00m\r\n",
      "\u001b[33m        Perform a forward pass of our model on some input.\u001b[39;49;00m\r\n",
      "\u001b[33m        \"\"\"\u001b[39;49;00m\r\n",
      "        x = x.t()\r\n",
      "        lengths = x[\u001b[34m0\u001b[39;49;00m,:]\r\n",
      "        reviews = x[\u001b[34m1\u001b[39;49;00m:,:]\r\n",
      "        embeds = \u001b[36mself\u001b[39;49;00m.embedding(reviews)\r\n",
      "        lstm_out, _ = \u001b[36mself\u001b[39;49;00m.lstm(embeds)\r\n",
      "        out = \u001b[36mself\u001b[39;49;00m.dense(lstm_out)\r\n",
      "        out = out[lengths - \u001b[34m1\u001b[39;49;00m, \u001b[36mrange\u001b[39;49;00m(\u001b[36mlen\u001b[39;49;00m(lengths))]\r\n",
      "        \u001b[34mreturn\u001b[39;49;00m \u001b[36mself\u001b[39;49;00m.sig(out.squeeze())\r\n"
     ]
    }
   ],
   "source": [
    "!pygmentize train/model.py"
   ]
  },
  {
   "cell_type": "markdown",
   "metadata": {},
   "source": [
    "The important takeaway from the implementation provided is that there are three parameters that we may wish to tweak to improve the performance of our model. These are the embedding dimension, the hidden dimension and the size of the vocabulary. We will likely want to make these parameters configurable in the training script so that if we wish to modify them we do not need to modify the script itself. We will see how to do this later on. To start we will write some of the training code in the notebook so that we can more easily diagnose any issues that arise.\n",
    "\n",
    "First we will load a small portion of the training data set to use as a sample. It would be very time consuming to try and train the model completely in the notebook as we do not have access to a gpu and the compute instance that we are using is not particularly powerful. However, we can work on a small bit of the data to get a feel for how our training script is behaving."
   ]
  },
  {
   "cell_type": "code",
   "execution_count": 24,
   "metadata": {},
   "outputs": [],
   "source": [
    "import torch\n",
    "import torch.utils.data\n",
    "\n",
    "# Read in only the first 250 rows\n",
    "train_sample = pd.read_csv(os.path.join(data_dir, 'train.csv'), header=None, names=None, nrows=250)\n",
    "\n",
    "# Turn the input pandas dataframe into tensors\n",
    "train_sample_y = torch.from_numpy(train_sample[[0]].values).float().squeeze()\n",
    "train_sample_X = torch.from_numpy(train_sample.drop([0], axis=1).values).long()\n",
    "\n",
    "# Build the dataset\n",
    "train_sample_ds = torch.utils.data.TensorDataset(train_sample_X, train_sample_y)\n",
    "# Build the dataloader\n",
    "train_sample_dl = torch.utils.data.DataLoader(train_sample_ds, batch_size=50)"
   ]
  },
  {
   "cell_type": "markdown",
   "metadata": {},
   "source": [
    "### (TODO) Writing the training method\n",
    "\n",
    "Next we need to write the training code itself. This should be very similar to training methods that you have written before to train PyTorch models. We will leave any difficult aspects such as model saving / loading and parameter loading until a little later."
   ]
  },
  {
   "cell_type": "code",
   "execution_count": 25,
   "metadata": {},
   "outputs": [],
   "source": [
    "def train(model, train_loader, epochs, optimizer, loss_fn, device):\n",
    "    for epoch in range(1, epochs + 1):\n",
    "        model.train()\n",
    "        total_loss = 0\n",
    "        for batch in train_loader:         \n",
    "            batch_X, batch_y = batch\n",
    "            \n",
    "            batch_X = batch_X.to(device)\n",
    "            batch_y = batch_y.to(device)\n",
    "            \n",
    "            # TODO: Complete this train method to train the model provided.\n",
    "            optimizer.zero_grad()\n",
    "            out = model.forward(batch_X)\n",
    "            loss = loss_fn(out, batch_y)\n",
    "            loss.backward()\n",
    "            optimizer.step()\n",
    "            total_loss += loss.data.item()\n",
    "        print(\"Epoch: {}, BCELoss: {}\".format(epoch, total_loss / len(train_loader)))"
   ]
  },
  {
   "cell_type": "markdown",
   "metadata": {},
   "source": [
    "Supposing we have the training method above, we will test that it is working by writing a bit of code in the notebook that executes our training method on the small sample training set that we loaded earlier. The reason for doing this in the notebook is so that we have an opportunity to fix any errors that arise early when they are easier to diagnose."
   ]
  },
  {
   "cell_type": "code",
   "execution_count": 26,
   "metadata": {},
   "outputs": [
    {
     "name": "stdout",
     "output_type": "stream",
     "text": [
      "Epoch: 1, BCELoss: 0.6906965732574463\n",
      "Epoch: 2, BCELoss: 0.6815976023674011\n",
      "Epoch: 3, BCELoss: 0.673030948638916\n",
      "Epoch: 4, BCELoss: 0.6630128383636474\n",
      "Epoch: 5, BCELoss: 0.6501237154006958\n"
     ]
    }
   ],
   "source": [
    "import torch.optim as optim\n",
    "from train.model import LSTMClassifier\n",
    "\n",
    "device = torch.device(\"cuda\" if torch.cuda.is_available() else \"cpu\")\n",
    "model = LSTMClassifier(32, 100, 5000).to(device)\n",
    "optimizer = optim.Adam(model.parameters())\n",
    "loss_fn = torch.nn.BCELoss()\n",
    "\n",
    "train(model, train_sample_dl, 5, optimizer, loss_fn, device)"
   ]
  },
  {
   "cell_type": "markdown",
   "metadata": {},
   "source": [
    "In order to construct a PyTorch model using SageMaker we must provide SageMaker with a training script. We may optionally include a directory which will be copied to the container and from which our training code will be run. When the training container is executed it will check the uploaded directory (if there is one) for a `requirements.txt` file and install any required Python libraries, after which the training script will be run."
   ]
  },
  {
   "cell_type": "markdown",
   "metadata": {},
   "source": [
    "### (TODO) Training the model\n",
    "\n",
    "When a PyTorch model is constructed in SageMaker, an entry point must be specified. This is the Python file which will be executed when the model is trained. Inside of the `train` directory is a file called `train.py` which has been provided and which contains most of the necessary code to train our model. The only thing that is missing is the implementation of the `train()` method which you wrote earlier in this notebook.\n",
    "\n",
    "**TODO**: Copy the `train()` method written above and paste it into the `train/train.py` file where required.\n",
    "\n",
    "The way that SageMaker passes hyperparameters to the training script is by way of arguments. These arguments can then be parsed and used in the training script. To see how this is done take a look at the provided `train/train.py` file."
   ]
  },
  {
   "cell_type": "code",
   "execution_count": 28,
   "metadata": {},
   "outputs": [],
   "source": [
    "from sagemaker.pytorch import PyTorch\n",
    "\n",
    "estimator = PyTorch(entry_point=\"train.py\",\n",
    "                    source_dir=\"train\",\n",
    "                    role=role,\n",
    "                    framework_version='0.4.0',\n",
    "                    train_instance_count=1,\n",
    "                    train_instance_type='ml.p2.xlarge',\n",
    "                    hyperparameters={\n",
    "                        'epochs': 10,\n",
    "                        'hidden_dim': 200,\n",
    "                    })"
   ]
  },
  {
   "cell_type": "code",
   "execution_count": 29,
   "metadata": {},
   "outputs": [
    {
     "name": "stdout",
     "output_type": "stream",
     "text": [
      "2020-04-16 02:24:07 Starting - Starting the training job...\n",
      "2020-04-16 02:24:08 Starting - Launching requested ML instances...\n",
      "2020-04-16 02:25:04 Starting - Preparing the instances for training.........\n",
      "2020-04-16 02:26:20 Downloading - Downloading input data...\n",
      "2020-04-16 02:26:56 Training - Downloading the training image...\n",
      "2020-04-16 02:27:26 Training - Training image download completed. Training in progress.\u001b[34mbash: cannot set terminal process group (-1): Inappropriate ioctl for device\u001b[0m\n",
      "\u001b[34mbash: no job control in this shell\u001b[0m\n",
      "\u001b[34m2020-04-16 02:27:27,189 sagemaker-containers INFO     Imported framework sagemaker_pytorch_container.training\u001b[0m\n",
      "\u001b[34m2020-04-16 02:27:27,213 sagemaker_pytorch_container.training INFO     Block until all host DNS lookups succeed.\u001b[0m\n",
      "\u001b[34m2020-04-16 02:27:27,831 sagemaker_pytorch_container.training INFO     Invoking user training script.\u001b[0m\n",
      "\u001b[34m2020-04-16 02:27:28,080 sagemaker-containers INFO     Module train does not provide a setup.py. \u001b[0m\n",
      "\u001b[34mGenerating setup.py\u001b[0m\n",
      "\u001b[34m2020-04-16 02:27:28,081 sagemaker-containers INFO     Generating setup.cfg\u001b[0m\n",
      "\u001b[34m2020-04-16 02:27:28,081 sagemaker-containers INFO     Generating MANIFEST.in\u001b[0m\n",
      "\u001b[34m2020-04-16 02:27:28,081 sagemaker-containers INFO     Installing module with the following command:\u001b[0m\n",
      "\u001b[34m/usr/bin/python -m pip install -U . -r requirements.txt\u001b[0m\n",
      "\u001b[34mProcessing /opt/ml/code\u001b[0m\n",
      "\u001b[34mCollecting pandas (from -r requirements.txt (line 1))\u001b[0m\n",
      "\u001b[34m  Downloading https://files.pythonhosted.org/packages/74/24/0cdbf8907e1e3bc5a8da03345c23cbed7044330bb8f73bb12e711a640a00/pandas-0.24.2-cp35-cp35m-manylinux1_x86_64.whl (10.0MB)\u001b[0m\n",
      "\u001b[34mCollecting numpy (from -r requirements.txt (line 2))\n",
      "  Downloading https://files.pythonhosted.org/packages/ff/18/c0b937e2f84095ae230196899e56d1d7d76c8e8424fb235ed7e5bb6d68af/numpy-1.18.2-cp35-cp35m-manylinux1_x86_64.whl (20.0MB)\u001b[0m\n",
      "\u001b[34mCollecting nltk (from -r requirements.txt (line 3))\n",
      "  Downloading https://files.pythonhosted.org/packages/92/75/ce35194d8e3022203cca0d2f896dbb88689f9b3fce8e9f9cff942913519d/nltk-3.5.zip (1.4MB)\u001b[0m\n",
      "\u001b[34mCollecting beautifulsoup4 (from -r requirements.txt (line 4))\n",
      "  Downloading https://files.pythonhosted.org/packages/e8/b5/7bb03a696f2c9b7af792a8f51b82974e51c268f15e925fc834876a4efa0b/beautifulsoup4-4.9.0-py3-none-any.whl (109kB)\u001b[0m\n",
      "\u001b[34mCollecting html5lib (from -r requirements.txt (line 5))\n",
      "  Downloading https://files.pythonhosted.org/packages/a5/62/bbd2be0e7943ec8504b517e62bab011b4946e1258842bc159e5dfde15b96/html5lib-1.0.1-py2.py3-none-any.whl (117kB)\u001b[0m\n",
      "\u001b[34mCollecting pytz>=2011k (from pandas->-r requirements.txt (line 1))\u001b[0m\n",
      "\u001b[34m  Downloading https://files.pythonhosted.org/packages/e7/f9/f0b53f88060247251bf481fa6ea62cd0d25bf1b11a87888e53ce5b7c8ad2/pytz-2019.3-py2.py3-none-any.whl (509kB)\u001b[0m\n",
      "\u001b[34mRequirement already satisfied, skipping upgrade: python-dateutil>=2.5.0 in /usr/local/lib/python3.5/dist-packages (from pandas->-r requirements.txt (line 1)) (2.7.5)\u001b[0m\n",
      "\u001b[34mRequirement already satisfied, skipping upgrade: click in /usr/local/lib/python3.5/dist-packages (from nltk->-r requirements.txt (line 3)) (7.0)\u001b[0m\n",
      "\u001b[34mCollecting joblib (from nltk->-r requirements.txt (line 3))\n",
      "  Downloading https://files.pythonhosted.org/packages/28/5c/cf6a2b65a321c4a209efcdf64c2689efae2cb62661f8f6f4bb28547cf1bf/joblib-0.14.1-py2.py3-none-any.whl (294kB)\u001b[0m\n",
      "\u001b[34mCollecting regex (from nltk->-r requirements.txt (line 3))\n",
      "  Downloading https://files.pythonhosted.org/packages/4c/e7/eee73c42c1193fecc0e91361a163cbb8dfbea62c3db7618ad986e5b43a14/regex-2020.4.4.tar.gz (695kB)\u001b[0m\n",
      "\u001b[34mCollecting tqdm (from nltk->-r requirements.txt (line 3))\n",
      "  Downloading https://files.pythonhosted.org/packages/4a/1c/6359be64e8301b84160f6f6f7936bbfaaa5e9a4eab6cbc681db07600b949/tqdm-4.45.0-py2.py3-none-any.whl (60kB)\u001b[0m\n",
      "\u001b[34mCollecting soupsieve>1.2 (from beautifulsoup4->-r requirements.txt (line 4))\n",
      "  Downloading https://files.pythonhosted.org/packages/05/cf/ea245e52f55823f19992447b008bcbb7f78efc5960d77f6c34b5b45b36dd/soupsieve-2.0-py2.py3-none-any.whl\u001b[0m\n",
      "\u001b[34mRequirement already satisfied, skipping upgrade: six>=1.9 in /usr/local/lib/python3.5/dist-packages (from html5lib->-r requirements.txt (line 5)) (1.11.0)\u001b[0m\n",
      "\u001b[34mCollecting webencodings (from html5lib->-r requirements.txt (line 5))\n",
      "  Downloading https://files.pythonhosted.org/packages/f4/24/2a3e3df732393fed8b3ebf2ec078f05546de641fe1b667ee316ec1dcf3b7/webencodings-0.5.1-py2.py3-none-any.whl\u001b[0m\n",
      "\u001b[34mBuilding wheels for collected packages: nltk, train, regex\n",
      "  Running setup.py bdist_wheel for nltk: started\u001b[0m\n",
      "\u001b[34m  Running setup.py bdist_wheel for nltk: finished with status 'done'\n",
      "  Stored in directory: /root/.cache/pip/wheels/ae/8c/3f/b1fe0ba04555b08b57ab52ab7f86023639a526d8bc8d384306\n",
      "  Running setup.py bdist_wheel for train: started\n",
      "  Running setup.py bdist_wheel for train: finished with status 'done'\n",
      "  Stored in directory: /tmp/pip-ephem-wheel-cache-8vyvhlr7/wheels/35/24/16/37574d11bf9bde50616c67372a334f94fa8356bc7164af8ca3\n",
      "  Running setup.py bdist_wheel for regex: started\u001b[0m\n",
      "\u001b[34m  Running setup.py bdist_wheel for regex: finished with status 'done'\n",
      "  Stored in directory: /root/.cache/pip/wheels/e6/9b/ae/2972da29cc7759b71dee015813b7c6931917d6a51e64ed5e79\u001b[0m\n",
      "\u001b[34mSuccessfully built nltk train regex\u001b[0m\n",
      "\u001b[34mInstalling collected packages: numpy, pytz, pandas, joblib, regex, tqdm, nltk, soupsieve, beautifulsoup4, webencodings, html5lib, train\n",
      "  Found existing installation: numpy 1.15.4\n",
      "    Uninstalling numpy-1.15.4:\u001b[0m\n",
      "\u001b[34m      Successfully uninstalled numpy-1.15.4\u001b[0m\n",
      "\u001b[34mSuccessfully installed beautifulsoup4-4.9.0 html5lib-1.0.1 joblib-0.14.1 nltk-3.5 numpy-1.18.2 pandas-0.24.2 pytz-2019.3 regex-2020.4.4 soupsieve-2.0 tqdm-4.45.0 train-1.0.0 webencodings-0.5.1\u001b[0m\n",
      "\u001b[34mYou are using pip version 18.1, however version 20.0.2 is available.\u001b[0m\n",
      "\u001b[34mYou should consider upgrading via the 'pip install --upgrade pip' command.\u001b[0m\n",
      "\u001b[34m2020-04-16 02:27:50,176 sagemaker-containers INFO     Invoking user script\n",
      "\u001b[0m\n",
      "\u001b[34mTraining Env:\n",
      "\u001b[0m\n",
      "\u001b[34m{\n",
      "    \"module_dir\": \"s3://sagemaker-eu-west-1-929206031308/sagemaker-pytorch-2020-04-16-02-24-06-671/source/sourcedir.tar.gz\",\n",
      "    \"log_level\": 20,\n",
      "    \"output_intermediate_dir\": \"/opt/ml/output/intermediate\",\n",
      "    \"hyperparameters\": {\n",
      "        \"epochs\": 10,\n",
      "        \"hidden_dim\": 200\n",
      "    },\n",
      "    \"hosts\": [\n",
      "        \"algo-1\"\n",
      "    ],\n",
      "    \"input_data_config\": {\n",
      "        \"training\": {\n",
      "            \"S3DistributionType\": \"FullyReplicated\",\n",
      "            \"TrainingInputMode\": \"File\",\n",
      "            \"RecordWrapperType\": \"None\"\n",
      "        }\n",
      "    },\n",
      "    \"output_data_dir\": \"/opt/ml/output/data\",\n",
      "    \"current_host\": \"algo-1\",\n",
      "    \"job_name\": \"sagemaker-pytorch-2020-04-16-02-24-06-671\",\n",
      "    \"framework_module\": \"sagemaker_pytorch_container.training:main\",\n",
      "    \"additional_framework_parameters\": {},\n",
      "    \"input_config_dir\": \"/opt/ml/input/config\",\n",
      "    \"input_dir\": \"/opt/ml/input\",\n",
      "    \"model_dir\": \"/opt/ml/model\",\n",
      "    \"num_gpus\": 1,\n",
      "    \"num_cpus\": 4,\n",
      "    \"channel_input_dirs\": {\n",
      "        \"training\": \"/opt/ml/input/data/training\"\n",
      "    },\n",
      "    \"network_interface_name\": \"eth0\",\n",
      "    \"module_name\": \"train\",\n",
      "    \"resource_config\": {\n",
      "        \"hosts\": [\n",
      "            \"algo-1\"\n",
      "        ],\n",
      "        \"current_host\": \"algo-1\",\n",
      "        \"network_interface_name\": \"eth0\"\n",
      "    },\n",
      "    \"output_dir\": \"/opt/ml/output\",\n",
      "    \"user_entry_point\": \"train.py\"\u001b[0m\n",
      "\u001b[34m}\n",
      "\u001b[0m\n",
      "\u001b[34mEnvironment variables:\n",
      "\u001b[0m\n",
      "\u001b[34mSM_CHANNELS=[\"training\"]\u001b[0m\n",
      "\u001b[34mSM_MODEL_DIR=/opt/ml/model\u001b[0m\n",
      "\u001b[34mSM_OUTPUT_INTERMEDIATE_DIR=/opt/ml/output/intermediate\u001b[0m\n",
      "\u001b[34mSM_INPUT_DATA_CONFIG={\"training\":{\"RecordWrapperType\":\"None\",\"S3DistributionType\":\"FullyReplicated\",\"TrainingInputMode\":\"File\"}}\u001b[0m\n",
      "\u001b[34mPYTHONPATH=/usr/local/bin:/usr/lib/python35.zip:/usr/lib/python3.5:/usr/lib/python3.5/plat-x86_64-linux-gnu:/usr/lib/python3.5/lib-dynload:/usr/local/lib/python3.5/dist-packages:/usr/lib/python3/dist-packages\u001b[0m\n",
      "\u001b[34mSM_RESOURCE_CONFIG={\"current_host\":\"algo-1\",\"hosts\":[\"algo-1\"],\"network_interface_name\":\"eth0\"}\u001b[0m\n",
      "\u001b[34mSM_INPUT_DIR=/opt/ml/input\u001b[0m\n",
      "\u001b[34mSM_MODULE_DIR=s3://sagemaker-eu-west-1-929206031308/sagemaker-pytorch-2020-04-16-02-24-06-671/source/sourcedir.tar.gz\u001b[0m\n",
      "\u001b[34mSM_HOSTS=[\"algo-1\"]\u001b[0m\n",
      "\u001b[34mSM_INPUT_CONFIG_DIR=/opt/ml/input/config\u001b[0m\n",
      "\u001b[34mSM_TRAINING_ENV={\"additional_framework_parameters\":{},\"channel_input_dirs\":{\"training\":\"/opt/ml/input/data/training\"},\"current_host\":\"algo-1\",\"framework_module\":\"sagemaker_pytorch_container.training:main\",\"hosts\":[\"algo-1\"],\"hyperparameters\":{\"epochs\":10,\"hidden_dim\":200},\"input_config_dir\":\"/opt/ml/input/config\",\"input_data_config\":{\"training\":{\"RecordWrapperType\":\"None\",\"S3DistributionType\":\"FullyReplicated\",\"TrainingInputMode\":\"File\"}},\"input_dir\":\"/opt/ml/input\",\"job_name\":\"sagemaker-pytorch-2020-04-16-02-24-06-671\",\"log_level\":20,\"model_dir\":\"/opt/ml/model\",\"module_dir\":\"s3://sagemaker-eu-west-1-929206031308/sagemaker-pytorch-2020-04-16-02-24-06-671/source/sourcedir.tar.gz\",\"module_name\":\"train\",\"network_interface_name\":\"eth0\",\"num_cpus\":4,\"num_gpus\":1,\"output_data_dir\":\"/opt/ml/output/data\",\"output_dir\":\"/opt/ml/output\",\"output_intermediate_dir\":\"/opt/ml/output/intermediate\",\"resource_config\":{\"current_host\":\"algo-1\",\"hosts\":[\"algo-1\"],\"network_interface_name\":\"eth0\"},\"user_entry_point\":\"train.py\"}\u001b[0m\n",
      "\u001b[34mSM_HPS={\"epochs\":10,\"hidden_dim\":200}\u001b[0m\n",
      "\u001b[34mSM_OUTPUT_DATA_DIR=/opt/ml/output/data\u001b[0m\n",
      "\u001b[34mSM_USER_ENTRY_POINT=train.py\u001b[0m\n",
      "\u001b[34mSM_CHANNEL_TRAINING=/opt/ml/input/data/training\u001b[0m\n",
      "\u001b[34mSM_NETWORK_INTERFACE_NAME=eth0\u001b[0m\n",
      "\u001b[34mSM_FRAMEWORK_PARAMS={}\u001b[0m\n",
      "\u001b[34mSM_OUTPUT_DIR=/opt/ml/output\u001b[0m\n",
      "\u001b[34mSM_USER_ARGS=[\"--epochs\",\"10\",\"--hidden_dim\",\"200\"]\u001b[0m\n",
      "\u001b[34mSM_HP_HIDDEN_DIM=200\u001b[0m\n",
      "\u001b[34mSM_HP_EPOCHS=10\u001b[0m\n",
      "\u001b[34mSM_LOG_LEVEL=20\u001b[0m\n",
      "\u001b[34mSM_FRAMEWORK_MODULE=sagemaker_pytorch_container.training:main\u001b[0m\n",
      "\u001b[34mSM_NUM_GPUS=1\u001b[0m\n",
      "\u001b[34mSM_CURRENT_HOST=algo-1\u001b[0m\n",
      "\u001b[34mSM_MODULE_NAME=train\u001b[0m\n",
      "\u001b[34mSM_NUM_CPUS=4\n",
      "\u001b[0m\n",
      "\u001b[34mInvoking script with the following command:\n",
      "\u001b[0m\n",
      "\u001b[34m/usr/bin/python -m train --epochs 10 --hidden_dim 200\n",
      "\n",
      "\u001b[0m\n",
      "\u001b[34mUsing device cuda.\u001b[0m\n",
      "\u001b[34mGet train data loader.\u001b[0m\n"
     ]
    },
    {
     "name": "stdout",
     "output_type": "stream",
     "text": [
      "\u001b[34mModel loaded with embedding_dim 32, hidden_dim 200, vocab_size 5000.\u001b[0m\n",
      "\u001b[34mEpoch: 1, BCELoss: 0.6714136636987025\u001b[0m\n",
      "\u001b[34mEpoch: 2, BCELoss: 0.583851698709994\u001b[0m\n",
      "\u001b[34mEpoch: 3, BCELoss: 0.5419362588804595\u001b[0m\n",
      "\u001b[34mEpoch: 4, BCELoss: 0.4561974144711786\u001b[0m\n",
      "\u001b[34mEpoch: 5, BCELoss: 0.40777379456831486\u001b[0m\n",
      "\u001b[34mEpoch: 6, BCELoss: 0.3836684208743426\u001b[0m\n",
      "\u001b[34mEpoch: 7, BCELoss: 0.35261891082841523\u001b[0m\n",
      "\u001b[34mEpoch: 8, BCELoss: 0.31962681181576785\u001b[0m\n",
      "\u001b[34mEpoch: 9, BCELoss: 0.29884519868967485\u001b[0m\n",
      "\u001b[34mEpoch: 10, BCELoss: 0.2807896362275493\u001b[0m\n",
      "\u001b[34m2020-04-16 02:30:45,818 sagemaker-containers INFO     Reporting training SUCCESS\u001b[0m\n",
      "\n",
      "2020-04-16 02:30:55 Uploading - Uploading generated training model\n",
      "2020-04-16 02:30:55 Completed - Training job completed\n",
      "Training seconds: 275\n",
      "Billable seconds: 275\n"
     ]
    }
   ],
   "source": [
    "estimator.fit({'training': input_data})"
   ]
  },
  {
   "cell_type": "markdown",
   "metadata": {},
   "source": [
    "## Step 5: Testing the model\n",
    "\n",
    "As mentioned at the top of this notebook, we will be testing this model by first deploying it and then sending the testing data to the deployed endpoint. We will do this so that we can make sure that the deployed model is working correctly.\n",
    "\n",
    "## Step 6: Deploy the model for testing\n",
    "\n",
    "Now that we have trained our model, we would like to test it to see how it performs. Currently our model takes input of the form `review_length, review[500]` where `review[500]` is a sequence of `500` integers which describe the words present in the review, encoded using `word_dict`. Fortunately for us, SageMaker provides built-in inference code for models with simple inputs such as this.\n",
    "\n",
    "There is one thing that we need to provide, however, and that is a function which loads the saved model. This function must be called `model_fn()` and takes as its only parameter a path to the directory where the model artifacts are stored. This function must also be present in the python file which we specified as the entry point. In our case the model loading function has been provided and so no changes need to be made.\n",
    "\n",
    "**NOTE**: When the built-in inference code is run it must import the `model_fn()` method from the `train.py` file. This is why the training code is wrapped in a main guard ( ie, `if __name__ == '__main__':` )\n",
    "\n",
    "Since we don't need to change anything in the code that was uploaded during training, we can simply deploy the current model as-is.\n",
    "\n",
    "**NOTE:** When deploying a model you are asking SageMaker to launch an compute instance that will wait for data to be sent to it. As a result, this compute instance will continue to run until *you* shut it down. This is important to know since the cost of a deployed endpoint depends on how long it has been running for.\n",
    "\n",
    "In other words **If you are no longer using a deployed endpoint, shut it down!**\n",
    "\n",
    "**TODO:** Deploy the trained model."
   ]
  },
  {
   "cell_type": "code",
   "execution_count": 30,
   "metadata": {},
   "outputs": [
    {
     "name": "stdout",
     "output_type": "stream",
     "text": [
      "-------------!"
     ]
    }
   ],
   "source": [
    "# TODO: Deploy the trained model\n",
    "predictor = estimator.deploy(initial_instance_count=1, instance_type='ml.m4.xlarge')"
   ]
  },
  {
   "cell_type": "markdown",
   "metadata": {},
   "source": [
    "## Step 7 - Use the model for testing\n",
    "\n",
    "Once deployed, we can read in the test data and send it off to our deployed model to get some results. Once we collect all of the results we can determine how accurate our model is."
   ]
  },
  {
   "cell_type": "code",
   "execution_count": 31,
   "metadata": {},
   "outputs": [],
   "source": [
    "test_X = pd.concat([pd.DataFrame(test_X_len), pd.DataFrame(test_X)], axis=1)"
   ]
  },
  {
   "cell_type": "code",
   "execution_count": 32,
   "metadata": {},
   "outputs": [],
   "source": [
    "# We split the data into chunks and send each chunk seperately, accumulating the results.\n",
    "\n",
    "def predict(data, rows=512):\n",
    "    split_array = np.array_split(data, int(data.shape[0] / float(rows) + 1))\n",
    "    predictions = np.array([])\n",
    "    for array in split_array:\n",
    "        predictions = np.append(predictions, predictor.predict(array))\n",
    "    \n",
    "    return predictions"
   ]
  },
  {
   "cell_type": "code",
   "execution_count": 33,
   "metadata": {},
   "outputs": [],
   "source": [
    "predictions = predict(test_X.values)\n",
    "predictions = [round(num) for num in predictions]"
   ]
  },
  {
   "cell_type": "code",
   "execution_count": 34,
   "metadata": {},
   "outputs": [
    {
     "data": {
      "text/plain": [
       "0.84444"
      ]
     },
     "execution_count": 34,
     "metadata": {},
     "output_type": "execute_result"
    }
   ],
   "source": [
    "from sklearn.metrics import accuracy_score\n",
    "accuracy_score(test_y, predictions)"
   ]
  },
  {
   "cell_type": "markdown",
   "metadata": {},
   "source": [
    "**Question:** How does this model compare to the XGBoost model you created earlier? Why might these two models perform differently on this dataset? Which do *you* think is better for sentiment analysis?"
   ]
  },
  {
   "cell_type": "markdown",
   "metadata": {},
   "source": [
    "**Answer:**With XGBoost we have an accuracy of 0.8664 which is better than this model. Possible reasons for this are the size of the dataset and usage of different preprocessing methods. In this model, we havent done any parameter tuning yet. Since we can achieve around same accuracy by using a simple model like this, we can end up with a better result by using hyperparameter tuning or by training the model longer."
   ]
  },
  {
   "cell_type": "markdown",
   "metadata": {},
   "source": [
    "### (TODO) More testing\n",
    "\n",
    "We now have a trained model which has been deployed and which we can send processed reviews to and which returns the predicted sentiment. However, ultimately we would like to be able to send our model an unprocessed review. That is, we would like to send the review itself as a string. For example, suppose we wish to send the following review to our model."
   ]
  },
  {
   "cell_type": "code",
   "execution_count": 35,
   "metadata": {},
   "outputs": [],
   "source": [
    "test_review = 'The simplest pleasures in life are the best, and this film is one of them. Combining a rather basic storyline of love and adventure this movie transcends the usual weekend fair with wit and unmitigated charm.'"
   ]
  },
  {
   "cell_type": "markdown",
   "metadata": {},
   "source": [
    "The question we now need to answer is, how do we send this review to our model?\n",
    "\n",
    "Recall in the first section of this notebook we did a bunch of data processing to the IMDb dataset. In particular, we did two specific things to the provided reviews.\n",
    " - Removed any html tags and stemmed the input\n",
    " - Encoded the review as a sequence of integers using `word_dict`\n",
    " \n",
    "In order process the review we will need to repeat these two steps.\n",
    "\n",
    "**TODO**: Using the `review_to_words` and `convert_and_pad` methods from section one, convert `test_review` into a numpy array `test_data` suitable to send to our model. Remember that our model expects input of the form `review_length, review[500]`."
   ]
  },
  {
   "cell_type": "code",
   "execution_count": 36,
   "metadata": {},
   "outputs": [
    {
     "name": "stdout",
     "output_type": "stream",
     "text": [
      "[[   1 1374   50   53    3    4  878  173  392  682   29  724    2 4418\n",
      "   275 2080 1061  760    1  581    0    0    0    0    0    0    0    0\n",
      "     0    0    0    0    0    0    0    0    0    0    0    0    0    0\n",
      "     0    0    0    0    0    0    0    0    0    0    0    0    0    0\n",
      "     0    0    0    0    0    0    0    0    0    0    0    0    0    0\n",
      "     0    0    0    0    0    0    0    0    0    0    0    0    0    0\n",
      "     0    0    0    0    0    0    0    0    0    0    0    0    0    0\n",
      "     0    0    0    0    0    0    0    0    0    0    0    0    0    0\n",
      "     0    0    0    0    0    0    0    0    0    0    0    0    0    0\n",
      "     0    0    0    0    0    0    0    0    0    0    0    0    0    0\n",
      "     0    0    0    0    0    0    0    0    0    0    0    0    0    0\n",
      "     0    0    0    0    0    0    0    0    0    0    0    0    0    0\n",
      "     0    0    0    0    0    0    0    0    0    0    0    0    0    0\n",
      "     0    0    0    0    0    0    0    0    0    0    0    0    0    0\n",
      "     0    0    0    0    0    0    0    0    0    0    0    0    0    0\n",
      "     0    0    0    0    0    0    0    0    0    0    0    0    0    0\n",
      "     0    0    0    0    0    0    0    0    0    0    0    0    0    0\n",
      "     0    0    0    0    0    0    0    0    0    0    0    0    0    0\n",
      "     0    0    0    0    0    0    0    0    0    0    0    0    0    0\n",
      "     0    0    0    0    0    0    0    0    0    0    0    0    0    0\n",
      "     0    0    0    0    0    0    0    0    0    0    0    0    0    0\n",
      "     0    0    0    0    0    0    0    0    0    0    0    0    0    0\n",
      "     0    0    0    0    0    0    0    0    0    0    0    0    0    0\n",
      "     0    0    0    0    0    0    0    0    0    0    0    0    0    0\n",
      "     0    0    0    0    0    0    0    0    0    0    0    0    0    0\n",
      "     0    0    0    0    0    0    0    0    0    0    0    0    0    0\n",
      "     0    0    0    0    0    0    0    0    0    0    0    0    0    0\n",
      "     0    0    0    0    0    0    0    0    0    0    0    0    0    0\n",
      "     0    0    0    0    0    0    0    0    0    0    0    0    0    0\n",
      "     0    0    0    0    0    0    0    0    0    0    0    0    0    0\n",
      "     0    0    0    0    0    0    0    0    0    0    0    0    0    0\n",
      "     0    0    0    0    0    0    0    0    0    0    0    0    0    0\n",
      "     0    0    0    0    0    0    0    0    0    0    0    0    0    0\n",
      "     0    0    0    0    0    0    0    0    0    0    0    0    0    0\n",
      "     0    0    0    0    0    0    0    0    0    0    0    0    0    0\n",
      "     0    0    0    0    0    0    0    0    0    0]]\n"
     ]
    },
    {
     "data": {
      "text/plain": [
       "array(0.6893666, dtype=float32)"
      ]
     },
     "execution_count": 36,
     "metadata": {},
     "output_type": "execute_result"
    }
   ],
   "source": [
    "# TODO: Convert test_review into a form usable by the model and save the results in test_data\n",
    "\n",
    "#d1 = convert_and_pad_data(word_dict,review_to_words(test_review))[0]\n",
    "#length = convert_and_pad_data(word_dict,review_to_words(test_review))[1]\n",
    "\n",
    "#test_data = pd.concat([pd.DataFrame(length), pd.DataFrame(d1)], axis=1)\n",
    "#print(test_data)\n",
    "test_data = convert_and_pad(word_dict, review_to_words(test_review))\n",
    "print(np.array(test_data[0]).reshape(1, -1))\n",
    "predictor.predict(np.array(test_data[0]).reshape(1, -1))"
   ]
  },
  {
   "cell_type": "markdown",
   "metadata": {},
   "source": [
    "Now that we have processed the review, we can send the resulting array to our model to predict the sentiment of the review."
   ]
  },
  {
   "cell_type": "code",
   "execution_count": 37,
   "metadata": {},
   "outputs": [],
   "source": [
    "#predictor.predict(test_data)"
   ]
  },
  {
   "cell_type": "markdown",
   "metadata": {},
   "source": [
    "Since the return value of our model is close to `1`, we can be certain that the review we submitted is positive."
   ]
  },
  {
   "cell_type": "markdown",
   "metadata": {},
   "source": [
    "### Delete the endpoint\n",
    "\n",
    "Of course, just like in the XGBoost notebook, once we've deployed an endpoint it continues to run until we tell it to shut down. Since we are done using our endpoint for now, we can delete it."
   ]
  },
  {
   "cell_type": "code",
   "execution_count": 38,
   "metadata": {},
   "outputs": [],
   "source": [
    "estimator.delete_endpoint()"
   ]
  },
  {
   "cell_type": "markdown",
   "metadata": {},
   "source": [
    "## Step 6 (again) - Deploy the model for the web app\n",
    "\n",
    "Now that we know that our model is working, it's time to create some custom inference code so that we can send the model a review which has not been processed and have it determine the sentiment of the review.\n",
    "\n",
    "As we saw above, by default the estimator which we created, when deployed, will use the entry script and directory which we provided when creating the model. However, since we now wish to accept a string as input and our model expects a processed review, we need to write some custom inference code.\n",
    "\n",
    "We will store the code that we write in the `serve` directory. Provided in this directory is the `model.py` file that we used to construct our model, a `utils.py` file which contains the `review_to_words` and `convert_and_pad` pre-processing functions which we used during the initial data processing, and `predict.py`, the file which will contain our custom inference code. Note also that `requirements.txt` is present which will tell SageMaker what Python libraries are required by our custom inference code.\n",
    "\n",
    "When deploying a PyTorch model in SageMaker, you are expected to provide four functions which the SageMaker inference container will use.\n",
    " - `model_fn`: This function is the same function that we used in the training script and it tells SageMaker how to load our model.\n",
    " - `input_fn`: This function receives the raw serialized input that has been sent to the model's endpoint and its job is to de-serialize and make the input available for the inference code.\n",
    " - `output_fn`: This function takes the output of the inference code and its job is to serialize this output and return it to the caller of the model's endpoint.\n",
    " - `predict_fn`: The heart of the inference script, this is where the actual prediction is done and is the function which you will need to complete.\n",
    "\n",
    "For the simple website that we are constructing during this project, the `input_fn` and `output_fn` methods are relatively straightforward. We only require being able to accept a string as input and we expect to return a single value as output. You might imagine though that in a more complex application the input or output may be image data or some other binary data which would require some effort to serialize.\n",
    "\n",
    "### (TODO) Writing inference code\n",
    "\n",
    "Before writing our custom inference code, we will begin by taking a look at the code which has been provided."
   ]
  },
  {
   "cell_type": "code",
   "execution_count": 39,
   "metadata": {},
   "outputs": [
    {
     "name": "stdout",
     "output_type": "stream",
     "text": [
      "\u001b[34mimport\u001b[39;49;00m \u001b[04m\u001b[36margparse\u001b[39;49;00m\r\n",
      "\u001b[34mimport\u001b[39;49;00m \u001b[04m\u001b[36mjson\u001b[39;49;00m\r\n",
      "\u001b[34mimport\u001b[39;49;00m \u001b[04m\u001b[36mos\u001b[39;49;00m\r\n",
      "\u001b[34mimport\u001b[39;49;00m \u001b[04m\u001b[36mpickle\u001b[39;49;00m\r\n",
      "\u001b[34mimport\u001b[39;49;00m \u001b[04m\u001b[36msys\u001b[39;49;00m\r\n",
      "\u001b[34mimport\u001b[39;49;00m \u001b[04m\u001b[36msagemaker_containers\u001b[39;49;00m\r\n",
      "\u001b[34mimport\u001b[39;49;00m \u001b[04m\u001b[36mpandas\u001b[39;49;00m \u001b[34mas\u001b[39;49;00m \u001b[04m\u001b[36mpd\u001b[39;49;00m\r\n",
      "\u001b[34mimport\u001b[39;49;00m \u001b[04m\u001b[36mnumpy\u001b[39;49;00m \u001b[34mas\u001b[39;49;00m \u001b[04m\u001b[36mnp\u001b[39;49;00m\r\n",
      "\u001b[34mimport\u001b[39;49;00m \u001b[04m\u001b[36mtorch\u001b[39;49;00m\r\n",
      "\u001b[34mimport\u001b[39;49;00m \u001b[04m\u001b[36mtorch.nn\u001b[39;49;00m \u001b[34mas\u001b[39;49;00m \u001b[04m\u001b[36mnn\u001b[39;49;00m\r\n",
      "\u001b[34mimport\u001b[39;49;00m \u001b[04m\u001b[36mtorch.optim\u001b[39;49;00m \u001b[34mas\u001b[39;49;00m \u001b[04m\u001b[36moptim\u001b[39;49;00m\r\n",
      "\u001b[34mimport\u001b[39;49;00m \u001b[04m\u001b[36mtorch.utils.data\u001b[39;49;00m\r\n",
      "\r\n",
      "\u001b[34mfrom\u001b[39;49;00m \u001b[04m\u001b[36mmodel\u001b[39;49;00m \u001b[34mimport\u001b[39;49;00m LSTMClassifier\r\n",
      "\r\n",
      "\u001b[34mfrom\u001b[39;49;00m \u001b[04m\u001b[36mutils\u001b[39;49;00m \u001b[34mimport\u001b[39;49;00m review_to_words, convert_and_pad\r\n",
      "\r\n",
      "\u001b[34mdef\u001b[39;49;00m \u001b[32mmodel_fn\u001b[39;49;00m(model_dir):\r\n",
      "    \u001b[33m\"\"\"Load the PyTorch model from the `model_dir` directory.\"\"\"\u001b[39;49;00m\r\n",
      "    \u001b[34mprint\u001b[39;49;00m(\u001b[33m\"\u001b[39;49;00m\u001b[33mLoading model.\u001b[39;49;00m\u001b[33m\"\u001b[39;49;00m)\r\n",
      "\r\n",
      "    \u001b[37m# First, load the parameters used to create the model.\u001b[39;49;00m\r\n",
      "    model_info = {}\r\n",
      "    model_info_path = os.path.join(model_dir, \u001b[33m'\u001b[39;49;00m\u001b[33mmodel_info.pth\u001b[39;49;00m\u001b[33m'\u001b[39;49;00m)\r\n",
      "    \u001b[34mwith\u001b[39;49;00m \u001b[36mopen\u001b[39;49;00m(model_info_path, \u001b[33m'\u001b[39;49;00m\u001b[33mrb\u001b[39;49;00m\u001b[33m'\u001b[39;49;00m) \u001b[34mas\u001b[39;49;00m f:\r\n",
      "        model_info = torch.load(f)\r\n",
      "\r\n",
      "    \u001b[34mprint\u001b[39;49;00m(\u001b[33m\"\u001b[39;49;00m\u001b[33mmodel_info: {}\u001b[39;49;00m\u001b[33m\"\u001b[39;49;00m.format(model_info))\r\n",
      "\r\n",
      "    \u001b[37m# Determine the device and construct the model.\u001b[39;49;00m\r\n",
      "    device = torch.device(\u001b[33m\"\u001b[39;49;00m\u001b[33mcuda\u001b[39;49;00m\u001b[33m\"\u001b[39;49;00m \u001b[34mif\u001b[39;49;00m torch.cuda.is_available() \u001b[34melse\u001b[39;49;00m \u001b[33m\"\u001b[39;49;00m\u001b[33mcpu\u001b[39;49;00m\u001b[33m\"\u001b[39;49;00m)\r\n",
      "    model = LSTMClassifier(model_info[\u001b[33m'\u001b[39;49;00m\u001b[33membedding_dim\u001b[39;49;00m\u001b[33m'\u001b[39;49;00m], model_info[\u001b[33m'\u001b[39;49;00m\u001b[33mhidden_dim\u001b[39;49;00m\u001b[33m'\u001b[39;49;00m], model_info[\u001b[33m'\u001b[39;49;00m\u001b[33mvocab_size\u001b[39;49;00m\u001b[33m'\u001b[39;49;00m])\r\n",
      "\r\n",
      "    \u001b[37m# Load the store model parameters.\u001b[39;49;00m\r\n",
      "    model_path = os.path.join(model_dir, \u001b[33m'\u001b[39;49;00m\u001b[33mmodel.pth\u001b[39;49;00m\u001b[33m'\u001b[39;49;00m)\r\n",
      "    \u001b[34mwith\u001b[39;49;00m \u001b[36mopen\u001b[39;49;00m(model_path, \u001b[33m'\u001b[39;49;00m\u001b[33mrb\u001b[39;49;00m\u001b[33m'\u001b[39;49;00m) \u001b[34mas\u001b[39;49;00m f:\r\n",
      "        model.load_state_dict(torch.load(f))\r\n",
      "\r\n",
      "    \u001b[37m# Load the saved word_dict.\u001b[39;49;00m\r\n",
      "    word_dict_path = os.path.join(model_dir, \u001b[33m'\u001b[39;49;00m\u001b[33mword_dict.pkl\u001b[39;49;00m\u001b[33m'\u001b[39;49;00m)\r\n",
      "    \u001b[34mwith\u001b[39;49;00m \u001b[36mopen\u001b[39;49;00m(word_dict_path, \u001b[33m'\u001b[39;49;00m\u001b[33mrb\u001b[39;49;00m\u001b[33m'\u001b[39;49;00m) \u001b[34mas\u001b[39;49;00m f:\r\n",
      "        model.word_dict = pickle.load(f)\r\n",
      "\r\n",
      "    model.to(device).eval()\r\n",
      "\r\n",
      "    \u001b[34mprint\u001b[39;49;00m(\u001b[33m\"\u001b[39;49;00m\u001b[33mDone loading model.\u001b[39;49;00m\u001b[33m\"\u001b[39;49;00m)\r\n",
      "    \u001b[34mreturn\u001b[39;49;00m model\r\n",
      "\r\n",
      "\u001b[34mdef\u001b[39;49;00m \u001b[32minput_fn\u001b[39;49;00m(serialized_input_data, content_type):\r\n",
      "    \u001b[34mprint\u001b[39;49;00m(\u001b[33m'\u001b[39;49;00m\u001b[33mDeserializing the input data.\u001b[39;49;00m\u001b[33m'\u001b[39;49;00m)\r\n",
      "    \u001b[34mif\u001b[39;49;00m content_type == \u001b[33m'\u001b[39;49;00m\u001b[33mtext/plain\u001b[39;49;00m\u001b[33m'\u001b[39;49;00m:\r\n",
      "        data = serialized_input_data.decode(\u001b[33m'\u001b[39;49;00m\u001b[33mutf-8\u001b[39;49;00m\u001b[33m'\u001b[39;49;00m)\r\n",
      "        \u001b[34mreturn\u001b[39;49;00m data\r\n",
      "    \u001b[34mraise\u001b[39;49;00m \u001b[36mException\u001b[39;49;00m(\u001b[33m'\u001b[39;49;00m\u001b[33mRequested unsupported ContentType in content_type: \u001b[39;49;00m\u001b[33m'\u001b[39;49;00m + content_type)\r\n",
      "\r\n",
      "\u001b[34mdef\u001b[39;49;00m \u001b[32moutput_fn\u001b[39;49;00m(prediction_output, accept):\r\n",
      "    \u001b[34mprint\u001b[39;49;00m(\u001b[33m'\u001b[39;49;00m\u001b[33mSerializing the generated output.\u001b[39;49;00m\u001b[33m'\u001b[39;49;00m)\r\n",
      "    \u001b[34mreturn\u001b[39;49;00m \u001b[36mstr\u001b[39;49;00m(prediction_output)\r\n",
      "\r\n",
      "\u001b[34mdef\u001b[39;49;00m \u001b[32mpredict_fn\u001b[39;49;00m(input_data, model):\r\n",
      "    \u001b[34mprint\u001b[39;49;00m(\u001b[33m'\u001b[39;49;00m\u001b[33mInferring sentiment of input data.\u001b[39;49;00m\u001b[33m'\u001b[39;49;00m)\r\n",
      "\r\n",
      "    device = torch.device(\u001b[33m\"\u001b[39;49;00m\u001b[33mcuda\u001b[39;49;00m\u001b[33m\"\u001b[39;49;00m \u001b[34mif\u001b[39;49;00m torch.cuda.is_available() \u001b[34melse\u001b[39;49;00m \u001b[33m\"\u001b[39;49;00m\u001b[33mcpu\u001b[39;49;00m\u001b[33m\"\u001b[39;49;00m)\r\n",
      "    \r\n",
      "    \u001b[34mif\u001b[39;49;00m model.word_dict \u001b[35mis\u001b[39;49;00m \u001b[36mNone\u001b[39;49;00m:\r\n",
      "        \u001b[34mraise\u001b[39;49;00m \u001b[36mException\u001b[39;49;00m(\u001b[33m'\u001b[39;49;00m\u001b[33mModel has not been loaded properly, no word_dict.\u001b[39;49;00m\u001b[33m'\u001b[39;49;00m)\r\n",
      "    \r\n",
      "    \u001b[37m# TODO: Process input_data so that it is ready to be sent to our model.\u001b[39;49;00m\r\n",
      "    \u001b[37m#       You should produce two variables:\u001b[39;49;00m\r\n",
      "    \u001b[37m#         data_X   - A sequence of length 500 which represents the converted review\u001b[39;49;00m\r\n",
      "    \u001b[37m#         data_len - The length of the review\u001b[39;49;00m\r\n",
      "\r\n",
      "    \u001b[37m#data_X = convert_and_pad(model.word_dict, review_to_words(input_data))[0]\u001b[39;49;00m\r\n",
      "    \u001b[37m#data_len = convert_and_pad(model.word_dict, review_to_words(input_data))[1]\u001b[39;49;00m\r\n",
      "    data_X,data_len = convert_and_pad(model.word_dict, review_to_words(input_data))\r\n",
      "    \u001b[37m# Using data_X and data_len we construct an appropriate input tensor. Remember\u001b[39;49;00m\r\n",
      "    \u001b[37m# that our model expects input data of the form 'len, review[500]'.\u001b[39;49;00m\r\n",
      "    data_pack = np.hstack((data_len, data_X))\r\n",
      "    data_pack = data_pack.reshape(\u001b[34m1\u001b[39;49;00m, -\u001b[34m1\u001b[39;49;00m)\r\n",
      "    \r\n",
      "    data = torch.from_numpy(data_pack)\r\n",
      "    data = data.to(device)\r\n",
      "\r\n",
      "    \u001b[37m# Make sure to put the model into evaluation mode\u001b[39;49;00m\r\n",
      "    model.eval()\r\n",
      "\r\n",
      "    \u001b[37m# TODO: Compute the result of applying the model to the input data. The variable `result` should\u001b[39;49;00m\r\n",
      "    \u001b[37m#       be a numpy array which contains a single integer which is either 1 or 0\u001b[39;49;00m\r\n",
      "    \u001b[34mwith\u001b[39;49;00m torch.no_grad():\r\n",
      "        output = model.forward(data)\r\n",
      "        \r\n",
      "    result = np.round(output.numpy())\r\n",
      "\r\n",
      "    \u001b[34mreturn\u001b[39;49;00m result\r\n"
     ]
    }
   ],
   "source": [
    "!pygmentize serve/predict.py"
   ]
  },
  {
   "cell_type": "markdown",
   "metadata": {},
   "source": [
    "As mentioned earlier, the `model_fn` method is the same as the one provided in the training code and the `input_fn` and `output_fn` methods are very simple and your task will be to complete the `predict_fn` method. Make sure that you save the completed file as `predict.py` in the `serve` directory.\n",
    "\n",
    "**TODO**: Complete the `predict_fn()` method in the `serve/predict.py` file."
   ]
  },
  {
   "cell_type": "markdown",
   "metadata": {},
   "source": [
    "### Deploying the model\n",
    "\n",
    "Now that the custom inference code has been written, we will create and deploy our model. To begin with, we need to construct a new PyTorchModel object which points to the model artifacts created during training and also points to the inference code that we wish to use. Then we can call the deploy method to launch the deployment container.\n",
    "\n",
    "**NOTE**: The default behaviour for a deployed PyTorch model is to assume that any input passed to the predictor is a `numpy` array. In our case we want to send a string so we need to construct a simple wrapper around the `RealTimePredictor` class to accomodate simple strings. In a more complicated situation you may want to provide a serialization object, for example if you wanted to sent image data."
   ]
  },
  {
   "cell_type": "code",
   "execution_count": 40,
   "metadata": {},
   "outputs": [
    {
     "name": "stdout",
     "output_type": "stream",
     "text": [
      "-------------!"
     ]
    }
   ],
   "source": [
    "from sagemaker.predictor import RealTimePredictor\n",
    "from sagemaker.pytorch import PyTorchModel\n",
    "\n",
    "class StringPredictor(RealTimePredictor):\n",
    "    def __init__(self, endpoint_name, sagemaker_session):\n",
    "        super(StringPredictor, self).__init__(endpoint_name, sagemaker_session, content_type='text/plain')\n",
    "\n",
    "model = PyTorchModel(model_data=estimator.model_data,\n",
    "                     role = role,\n",
    "                     framework_version='0.4.0',\n",
    "                     entry_point='predict.py',\n",
    "                     source_dir='serve',\n",
    "                     predictor_cls=StringPredictor)\n",
    "predictor = model.deploy(initial_instance_count=1, instance_type='ml.m4.xlarge')"
   ]
  },
  {
   "cell_type": "markdown",
   "metadata": {},
   "source": [
    "### Testing the model\n",
    "\n",
    "Now that we have deployed our model with the custom inference code, we should test to see if everything is working. Here we test our model by loading the first `250` positive and negative reviews and send them to the endpoint, then collect the results. The reason for only sending some of the data is that the amount of time it takes for our model to process the input and then perform inference is quite long and so testing the entire data set would be prohibitive."
   ]
  },
  {
   "cell_type": "code",
   "execution_count": 41,
   "metadata": {},
   "outputs": [],
   "source": [
    "import glob\n",
    "\n",
    "def test_reviews(data_dir='../data/aclImdb', stop=250):\n",
    "    \n",
    "    results = []\n",
    "    ground = []\n",
    "    \n",
    "    # We make sure to test both positive and negative reviews    \n",
    "    for sentiment in ['pos', 'neg']:\n",
    "        \n",
    "        path = os.path.join(data_dir, 'test', sentiment, '*.txt')\n",
    "        files = glob.glob(path)\n",
    "        \n",
    "        files_read = 0\n",
    "        \n",
    "        print('Starting ', sentiment, ' files')\n",
    "        \n",
    "        # Iterate through the files and send them to the predictor\n",
    "        for f in files:\n",
    "            with open(f) as review:\n",
    "                # First, we store the ground truth (was the review positive or negative)\n",
    "                if sentiment == 'pos':\n",
    "                    ground.append(1)\n",
    "                else:\n",
    "                    ground.append(0)\n",
    "                # Read in the review and convert to 'utf-8' for transmission via HTTP\n",
    "                review_input = review.read().encode('utf-8')\n",
    "                # Send the review to the predictor and store the results\n",
    "                \n",
    "                results.append(float(predictor.predict(review_input)))\n",
    "            # Sending reviews to our endpoint one at a time takes a while so we\n",
    "            # only send a small number of reviews\n",
    "            files_read += 1\n",
    "            if files_read == stop:\n",
    "                break\n",
    "            \n",
    "    return ground, results"
   ]
  },
  {
   "cell_type": "code",
   "execution_count": 42,
   "metadata": {},
   "outputs": [
    {
     "name": "stdout",
     "output_type": "stream",
     "text": [
      "Starting  pos  files\n",
      "Starting  neg  files\n"
     ]
    }
   ],
   "source": [
    "ground, results = test_reviews()"
   ]
  },
  {
   "cell_type": "code",
   "execution_count": 43,
   "metadata": {},
   "outputs": [
    {
     "data": {
      "text/plain": [
       "0.868"
      ]
     },
     "execution_count": 43,
     "metadata": {},
     "output_type": "execute_result"
    }
   ],
   "source": [
    "from sklearn.metrics import accuracy_score\n",
    "accuracy_score(ground, results)"
   ]
  },
  {
   "cell_type": "markdown",
   "metadata": {},
   "source": [
    "As an additional test, we can try sending the `test_review` that we looked at earlier."
   ]
  },
  {
   "cell_type": "code",
   "execution_count": 44,
   "metadata": {},
   "outputs": [
    {
     "data": {
      "text/plain": [
       "b'1.0'"
      ]
     },
     "execution_count": 44,
     "metadata": {},
     "output_type": "execute_result"
    }
   ],
   "source": [
    "predictor.predict(test_review)"
   ]
  },
  {
   "cell_type": "markdown",
   "metadata": {},
   "source": [
    "Now that we know our endpoint is working as expected, we can set up the web page that will interact with it. If you don't have time to finish the project now, make sure to skip down to the end of this notebook and shut down your endpoint. You can deploy it again when you come back."
   ]
  },
  {
   "cell_type": "markdown",
   "metadata": {},
   "source": [
    "## Step 7 (again): Use the model for the web app\n",
    "\n",
    "> **TODO:** This entire section and the next contain tasks for you to complete, mostly using the AWS console.\n",
    "\n",
    "So far we have been accessing our model endpoint by constructing a predictor object which uses the endpoint and then just using the predictor object to perform inference. What if we wanted to create a web app which accessed our model? The way things are set up currently makes that not possible since in order to access a SageMaker endpoint the app would first have to authenticate with AWS using an IAM role which included access to SageMaker endpoints. However, there is an easier way! We just need to use some additional AWS services.\n",
    "\n",
    "<img src=\"Web App Diagram.svg\">\n",
    "\n",
    "The diagram above gives an overview of how the various services will work together. On the far right is the model which we trained above and which is deployed using SageMaker. On the far left is our web app that collects a user's movie review, sends it off and expects a positive or negative sentiment in return.\n",
    "\n",
    "In the middle is where some of the magic happens. We will construct a Lambda function, which you can think of as a straightforward Python function that can be executed whenever a specified event occurs. We will give this function permission to send and recieve data from a SageMaker endpoint.\n",
    "\n",
    "Lastly, the method we will use to execute the Lambda function is a new endpoint that we will create using API Gateway. This endpoint will be a url that listens for data to be sent to it. Once it gets some data it will pass that data on to the Lambda function and then return whatever the Lambda function returns. Essentially it will act as an interface that lets our web app communicate with the Lambda function.\n",
    "\n",
    "### Setting up a Lambda function\n",
    "\n",
    "The first thing we are going to do is set up a Lambda function. This Lambda function will be executed whenever our public API has data sent to it. When it is executed it will receive the data, perform any sort of processing that is required, send the data (the review) to the SageMaker endpoint we've created and then return the result.\n",
    "\n",
    "#### Part A: Create an IAM Role for the Lambda function\n",
    "\n",
    "Since we want the Lambda function to call a SageMaker endpoint, we need to make sure that it has permission to do so. To do this, we will construct a role that we can later give the Lambda function.\n",
    "\n",
    "Using the AWS Console, navigate to the **IAM** page and click on **Roles**. Then, click on **Create role**. Make sure that the **AWS service** is the type of trusted entity selected and choose **Lambda** as the service that will use this role, then click **Next: Permissions**.\n",
    "\n",
    "In the search box type `sagemaker` and select the check box next to the **AmazonSageMakerFullAccess** policy. Then, click on **Next: Review**.\n",
    "\n",
    "Lastly, give this role a name. Make sure you use a name that you will remember later on, for example `LambdaSageMakerRole`. Then, click on **Create role**.\n",
    "\n",
    "#### Part B: Create a Lambda function\n",
    "\n",
    "Now it is time to actually create the Lambda function.\n",
    "\n",
    "Using the AWS Console, navigate to the AWS Lambda page and click on **Create a function**. When you get to the next page, make sure that **Author from scratch** is selected. Now, name your Lambda function, using a name that you will remember later on, for example `sentiment_analysis_func`. Make sure that the **Python 3.6** runtime is selected and then choose the role that you created in the previous part. Then, click on **Create Function**.\n",
    "\n",
    "On the next page you will see some information about the Lambda function you've just created. If you scroll down you should see an editor in which you can write the code that will be executed when your Lambda function is triggered. In our example, we will use the code below. \n",
    "\n",
    "```python\n",
    "# We need to use the low-level library to interact with SageMaker since the SageMaker API\n",
    "# is not available natively through Lambda.\n",
    "import boto3\n",
    "\n",
    "def lambda_handler(event, context):\n",
    "\n",
    "    # The SageMaker runtime is what allows us to invoke the endpoint that we've created.\n",
    "    runtime = boto3.Session().client('sagemaker-runtime')\n",
    "\n",
    "    # Now we use the SageMaker runtime to invoke our endpoint, sending the review we were given\n",
    "    response = runtime.invoke_endpoint(EndpointName = '**ENDPOINT NAME HERE**',    # The name of the endpoint we created\n",
    "                                       ContentType = 'text/plain',                 # The data format that is expected\n",
    "                                       Body = event['body'])                       # The actual review\n",
    "\n",
    "    # The response is an HTTP response whose body contains the result of our inference\n",
    "    result = response['Body'].read().decode('utf-8')\n",
    "\n",
    "    return {\n",
    "        'statusCode' : 200,\n",
    "        'headers' : { 'Content-Type' : 'text/plain', 'Access-Control-Allow-Origin' : '*' },\n",
    "        'body' : result\n",
    "    }\n",
    "```\n",
    "\n",
    "Once you have copy and pasted the code above into the Lambda code editor, replace the `**ENDPOINT NAME HERE**` portion with the name of the endpoint that we deployed earlier. You can determine the name of the endpoint using the code cell below."
   ]
  },
  {
   "cell_type": "code",
   "execution_count": 46,
   "metadata": {},
   "outputs": [
    {
     "data": {
      "text/plain": [
       "'sagemaker-pytorch-2020-04-16-02-43-12-068'"
      ]
     },
     "execution_count": 46,
     "metadata": {},
     "output_type": "execute_result"
    }
   ],
   "source": [
    "predictor.endpoint"
   ]
  },
  {
   "cell_type": "markdown",
   "metadata": {},
   "source": [
    "Once you have added the endpoint name to the Lambda function, click on **Save**. Your Lambda function is now up and running. Next we need to create a way for our web app to execute the Lambda function.\n",
    "\n",
    "### Setting up API Gateway\n",
    "\n",
    "Now that our Lambda function is set up, it is time to create a new API using API Gateway that will trigger the Lambda function we have just created.\n",
    "\n",
    "Using AWS Console, navigate to **Amazon API Gateway** and then click on **Get started**.\n",
    "\n",
    "On the next page, make sure that **New API** is selected and give the new api a name, for example, `sentiment_analysis_api`. Then, click on **Create API**.\n",
    "\n",
    "Now we have created an API, however it doesn't currently do anything. What we want it to do is to trigger the Lambda function that we created earlier.\n",
    "\n",
    "Select the **Actions** dropdown menu and click **Create Method**. A new blank method will be created, select its dropdown menu and select **POST**, then click on the check mark beside it.\n",
    "\n",
    "For the integration point, make sure that **Lambda Function** is selected and click on the **Use Lambda Proxy integration**. This option makes sure that the data that is sent to the API is then sent directly to the Lambda function with no processing. It also means that the return value must be a proper response object as it will also not be processed by API Gateway.\n",
    "\n",
    "Type the name of the Lambda function you created earlier into the **Lambda Function** text entry box and then click on **Save**. Click on **OK** in the pop-up box that then appears, giving permission to API Gateway to invoke the Lambda function you created.\n",
    "\n",
    "The last step in creating the API Gateway is to select the **Actions** dropdown and click on **Deploy API**. You will need to create a new Deployment stage and name it anything you like, for example `prod`.\n",
    "\n",
    "You have now successfully set up a public API to access your SageMaker model. Make sure to copy or write down the URL provided to invoke your newly created public API as this will be needed in the next step. This URL can be found at the top of the page, highlighted in blue next to the text **Invoke URL**."
   ]
  },
  {
   "cell_type": "markdown",
   "metadata": {},
   "source": [
    "## Step 4: Deploying our web app\n",
    "\n",
    "Now that we have a publicly available API, we can start using it in a web app. For our purposes, we have provided a simple static html file which can make use of the public api you created earlier.\n",
    "\n",
    "In the `website` folder there should be a file called `index.html`. Download the file to your computer and open that file up in a text editor of your choice. There should be a line which contains **\\*\\*REPLACE WITH PUBLIC API URL\\*\\***. Replace this string with the url that you wrote down in the last step and then save the file.\n",
    "\n",
    "Now, if you open `index.html` on your local computer, your browser will behave as a local web server and you can use the provided site to interact with your SageMaker model.\n",
    "\n",
    "If you'd like to go further, you can host this html file anywhere you'd like, for example using github or hosting a static site on Amazon's S3. Once you have done this you can share the link with anyone you'd like and have them play with it too!\n",
    "\n",
    "> **Important Note** In order for the web app to communicate with the SageMaker endpoint, the endpoint has to actually be deployed and running. This means that you are paying for it. Make sure that the endpoint is running when you want to use the web app but that you shut it down when you don't need it, otherwise you will end up with a surprisingly large AWS bill.\n",
    "\n",
    "**TODO:** Make sure that you include the edited `index.html` file in your project submission."
   ]
  },
  {
   "cell_type": "markdown",
   "metadata": {},
   "source": [
    "Now that your web app is working, trying playing around with it and see how well it works.\n",
    "\n",
    "**Question**: Give an example of a review that you entered into your web app. What was the predicted sentiment of your example review?"
   ]
  },
  {
   "cell_type": "markdown",
   "metadata": {},
   "source": [
    "**Answer:**Comment for the movie 'Captain Marvel'\n",
    "\n",
    "Comment:\"Got a headache after watching the movie. Extremely disappointing.\"\n",
    "\n",
    "Result: NEGATIVE"
   ]
  },
  {
   "cell_type": "markdown",
   "metadata": {},
   "source": [
    "### Delete the endpoint\n",
    "\n",
    "Remember to always shut down your endpoint if you are no longer using it. You are charged for the length of time that the endpoint is running so if you forget and leave it on you could end up with an unexpectedly large bill."
   ]
  },
  {
   "cell_type": "code",
   "execution_count": 47,
   "metadata": {},
   "outputs": [],
   "source": [
    "predictor.delete_endpoint()"
   ]
  },
  {
   "cell_type": "code",
   "execution_count": null,
   "metadata": {},
   "outputs": [],
   "source": []
  }
 ],
 "metadata": {
  "kernelspec": {
   "display_name": "conda_pytorch_p36",
   "language": "python",
   "name": "conda_pytorch_p36"
  },
  "language_info": {
   "codemirror_mode": {
    "name": "ipython",
    "version": 3
   },
   "file_extension": ".py",
   "mimetype": "text/x-python",
   "name": "python",
   "nbconvert_exporter": "python",
   "pygments_lexer": "ipython3",
   "version": "3.6.5"
  }
 },
 "nbformat": 4,
 "nbformat_minor": 2
}
